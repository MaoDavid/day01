{
 "cells": [
  {
   "cell_type": "markdown",
   "metadata": {},
   "source": [
    "# 函数\n",
    "\n",
    "- 函数可以用来定义可重复代码，组织和简化\n",
    "- 一般来说一个函数在实际开发中为一个小功能\n",
    "- 一个类为一个大功能\n",
    "- 同样函数的长度不要超过一屏"
   ]
  },
  {
   "cell_type": "markdown",
   "metadata": {},
   "source": [
    "## 定义一个函数\n",
    "\n",
    "def function_name(list of parameters):\n",
    "    \n",
    "    do something\n",
    "![](../Photo/69.png)\n",
    "- 以前使用的random 或者range 或者print.. 其实都是函数或者类"
   ]
  },
  {
   "cell_type": "code",
   "execution_count": null,
   "metadata": {
    "collapsed": false
   },
   "outputs": [],
   "source": [
    "def David():\n",
    "    '''\n",
    "    这还是一个测试函数 函数解释放在多行注释中\n",
    "    PEP8 代码规范\n",
    "    '''\n",
    "    print('this is a test')\n",
    "\n",
    "David()"
   ]
  },
  {
   "cell_type": "code",
   "execution_count": null,
   "metadata": {
    "collapsed": false
   },
   "outputs": [],
   "source": [
    "def compute_cubic():\n",
    "    '''\n",
    "    这是一个返回整数立方的函数\n",
    "    '''\n",
    "    number = eval(input('Enter the number'))\n",
    "    print(number ** 3)\n",
    "    return number ** 3\n",
    "\n",
    "compute_cubic()"
   ]
  },
  {
   "cell_type": "code",
   "execution_count": null,
   "metadata": {
    "collapsed": false
   },
   "outputs": [],
   "source": [
    "def compute_cubic1():\n",
    "    '''\n",
    "    这是一个返回整数平方、立方的函数\n",
    "    '''\n",
    "    number = eval(input('Enter the number'))\n",
    "    return number ** 2, number ** 3  #返回值一般用于多个函数共同工作\n",
    "\n",
    "res1, res2 = compute_cubic1()\n",
    "print(res1, res2)"
   ]
  },
  {
   "cell_type": "code",
   "execution_count": null,
   "metadata": {
    "collapsed": false
   },
   "outputs": [],
   "source": [
    "# 函数1用户输入数字\n",
    "# 函数2返回数字的平方\n",
    "def fun1():\n",
    "    num = eval(input(''))\n",
    "    return num \n",
    "\n",
    "def fun2(num):\n",
    "    return num**2\n",
    "\n",
    "answer = fun2(fun1())\n",
    "print('平方的结果为：',answer)"
   ]
  },
  {
   "cell_type": "code",
   "execution_count": null,
   "metadata": {
    "collapsed": false
   },
   "outputs": [],
   "source": [
    "# def fun(), 用户输入5个数字，返回给最大值\n",
    "\n",
    "def max_num():\n",
    "    maxnum = 0\n",
    "    for i in range(5):\n",
    "        num = eval(input('Enter an integer:'))\n",
    "        if num > maxnum:\n",
    "            maxnum = num\n",
    "    return maxnum\n",
    "\n",
    "max_num()"
   ]
  },
  {
   "cell_type": "code",
   "execution_count": null,
   "metadata": {
    "collapsed": false
   },
   "outputs": [],
   "source": [
    "# def1 判定验证码\n",
    "# def2 判定错误次数\n",
    "\n",
    "import random\n",
    "\n",
    "def yanzhengma():\n",
    "    alpList = list('ABCDEFGHIJKLMNOPQRSTUVWXYZ')\n",
    "    while True:\n",
    "        num1 = random.randint(0, len(alpList)-1)\n",
    "        num2 = random.randint(0, len(alpList)-1)\n",
    "        num3 = random.randint(0, len(alpList)-1)\n",
    "        num4 = random.randint(0, len(alpList)-1)\n",
    "        yanzh = alpList[num1] + alpList[num2] + alpList[num3] + alpList[num4] \n",
    "        print('验证码:' + yanzh )\n",
    "        answer = input('answer = ')\n",
    "        if answer == yanzh:\n",
    "            print('验证码输入正确\\n')\n",
    "            return False\n",
    "            break\n",
    "        else:\n",
    "            print('验证码错误\\n')\n",
    "            return True\n",
    "\n",
    "jishu = 0\n",
    "while True:\n",
    "    jishu += yanzhengma()\n",
    "    if jishu >= 3 :\n",
    "        print('别爬了，我们小网站没什么好爬的')\n",
    "        strinput = input('输入 You are hansome, 可以继续访问')\n",
    "        str1 = 'You are hansome'\n",
    "        if  strinput == str1:\n",
    "            jishu = 0\n",
    "            pass\n",
    "        else:\n",
    "            print('不好意思，拒绝访问')\n",
    "            break"
   ]
  },
  {
   "cell_type": "markdown",
   "metadata": {},
   "source": [
    "## 调用一个函数\n",
    "- functionName()\n",
    "- \"()\" 就代表调用"
   ]
  },
  {
   "cell_type": "markdown",
   "metadata": {},
   "source": [
    "![](../Photo/70.png)"
   ]
  },
  {
   "cell_type": "code",
   "execution_count": null,
   "metadata": {
    "collapsed": true
   },
   "outputs": [],
   "source": [
    "def hah():\n",
    "    pass"
   ]
  },
  {
   "cell_type": "code",
   "execution_count": null,
   "metadata": {
    "collapsed": false
   },
   "outputs": [],
   "source": [
    "print(hah())"
   ]
  },
  {
   "cell_type": "markdown",
   "metadata": {},
   "source": [
    "## 带返回值和不带返回值的函数\n",
    "- return 返回的内容\n",
    "- return 返回多个值\n",
    "- 一般情况下，在多个函数协同完成一个功能的时候，那么将会有返回值"
   ]
  },
  {
   "cell_type": "markdown",
   "metadata": {},
   "source": [
    "![](../Photo/71.png)\n",
    "\n",
    "- 当然也可以自定义返回None"
   ]
  },
  {
   "cell_type": "markdown",
   "metadata": {},
   "source": [
    "## EP：\n",
    "![](../Photo/72.png)"
   ]
  },
  {
   "cell_type": "code",
   "execution_count": null,
   "metadata": {
    "collapsed": true
   },
   "outputs": [],
   "source": [
    "# def1 奇数1, 打印奇数\n",
    "# def2 偶数2， 打印偶数\n",
    "\n",
    "def jishu(num1):\n",
    "    print('奇数', num1)\n",
    "\n",
    "def oushu(num2):\n",
    "    print('偶数', num2)"
   ]
  },
  {
   "cell_type": "code",
   "execution_count": null,
   "metadata": {
    "collapsed": false
   },
   "outputs": [],
   "source": [
    "def main():\n",
    "    for i in range(10):\n",
    "        if i % 2 == 0:\n",
    "            oushu(i)\n",
    "        else:\n",
    "            jishu(i)\n",
    "main()"
   ]
  },
  {
   "cell_type": "code",
   "execution_count": null,
   "metadata": {
    "collapsed": false
   },
   "outputs": [],
   "source": [
    "def test2():\n",
    "    for i in range(0, 10, 2):\n",
    "        print('def1 ', i)\n",
    "        test1(i)\n",
    "def test1(i):\n",
    "    print('def2 ', i+1)\n",
    "    \n",
    "test2()\n"
   ]
  },
  {
   "cell_type": "code",
   "execution_count": 5,
   "metadata": {
    "collapsed": false
   },
   "outputs": [
    {
     "name": "stdout",
     "output_type": "stream",
     "text": [
      "输入用户名 1\n",
      "输入密码 1\n",
      "初始化状态\n",
      "Error\n",
      "需要注销吗1\n"
     ]
    }
   ],
   "source": [
    "'''登陆系统\n",
    "    name, password = none , none \n",
    "   def regist(name, password)\n",
    "       name\n",
    "       password\n",
    "   def login(p1, p2)\n",
    "       if\n",
    "           name, password = p1, p2\n",
    "           print(登录成功)\n",
    "       else\n",
    "           print(Error)\n",
    "'''\n",
    "# 增加逻辑删除的代码\n",
    "name = None\n",
    "passward = None\n",
    "delet = True\n",
    "\n",
    "def registe(p1, p2):\n",
    "    global name, passward\n",
    "    name = p1\n",
    "    password = p2\n",
    "\n",
    "def login(p1, p2):\n",
    "    global name, passward\n",
    "    global delet\n",
    "    if delet != True:\n",
    "        print('用户已注销')\n",
    "    elif (name == p1 and passward == p2) and delet == True:\n",
    "        print('登陆成功')\n",
    "    else:\n",
    "        logout()\n",
    "        print('Error')\n",
    "        \n",
    "def logout():\n",
    "    global name, passward\n",
    "    name = None\n",
    "    passward = None\n",
    "    print('初始化状态')\n",
    "\n",
    "def zhuxiao():\n",
    "    global delet\n",
    "    delet = False\n",
    "    \n",
    "def main():\n",
    "    global delet\n",
    "    registe('1', '1')\n",
    "    p1 = input('输入用户名 ') \n",
    "    p2 = input('输入密码 ')\n",
    "    login(p1, p2)\n",
    "    if (input('需要注销吗') == 'y'):\n",
    "        zhuxiao()\n",
    "        p1 = input('输入用户名 ') \n",
    "        p2 = input('输入密码 ')\n",
    "        login(p1, p2)\n",
    "    \n",
    "main()\n"
   ]
  },
  {
   "cell_type": "markdown",
   "metadata": {},
   "source": [
    "# KNN算法\n",
    "# 读取图片，进行对比分析\n",
    "import matplotlib.pyplot as plt \n",
    "\n",
    "res = plt.imread('D:/rabbit.jpg')\n",
    "print(res)"
   ]
  },
  {
   "cell_type": "markdown",
   "metadata": {},
   "source": [
    "## 类型和关键字参数\n",
    "- 普通参数\n",
    "- 多个参数\n",
    "- 默认值参数\n",
    "- 不定长参数"
   ]
  },
  {
   "cell_type": "markdown",
   "metadata": {},
   "source": [
    "## 普通参数"
   ]
  },
  {
   "cell_type": "markdown",
   "metadata": {},
   "source": [
    "## 多个参数"
   ]
  },
  {
   "cell_type": "code",
   "execution_count": null,
   "metadata": {
    "collapsed": false
   },
   "outputs": [],
   "source": [
    "def test(a, b, c, d, e = 100):  #默认参数只能放在最后\n",
    "    print(a, b, c, d, e)\n"
   ]
  },
  {
   "cell_type": "code",
   "execution_count": null,
   "metadata": {
    "collapsed": false
   },
   "outputs": [],
   "source": [
    "test(1, 2, 3, 4)"
   ]
  },
  {
   "cell_type": "code",
   "execution_count": null,
   "metadata": {
    "collapsed": false
   },
   "outputs": [],
   "source": [
    "def multiply(num, k=2):   #k 为默认的参数\n",
    "    return num ** k\n",
    "\n",
    "def main():\n",
    "    for i in range(0, 10):\n",
    "        if i % 2 == 0:\n",
    "            print(multiply(i))\n",
    "        else:\n",
    "            print(multiply(i, 3))\n",
    "main()\n",
    "            "
   ]
  },
  {
   "cell_type": "markdown",
   "metadata": {},
   "source": [
    "## 默认值参数\n",
    "- 默认参数只能放在最后  *之后的必须强制命名传入参数,* 之后的变量必须带参数名"
   ]
  },
  {
   "cell_type": "markdown",
   "metadata": {},
   "source": [
    "# 强制命名\n",
    "- *之后的必须强制命名传入参数,* 之后的变量必须带参数名"
   ]
  },
  {
   "cell_type": "code",
   "execution_count": null,
   "metadata": {
    "collapsed": false
   },
   "outputs": [],
   "source": [
    "def test(a, b, *, c, d, e = '3'):  #默认参数只能放在最后  *之后的必须强制命名传入参数,* 之后的变量必须带参数名\n",
    "    print(a, b, c, d, e)\n",
    "\n",
    "test (1, 2, c = 4, d = 90, e = 8)"
   ]
  },
  {
   "cell_type": "markdown",
   "metadata": {},
   "source": [
    "## 不定长参数\n",
    "- \\*args, 不定长，输入多少参数都可以，不写入参数也可以\n",
    "> - 可以输入多个参数\n",
    "  - 返回输出结果的类型是元组类型，元组可以迭代，输入多少个参数都可以迭代来取出\n",
    "  - args 名字是可以修改的，只是通常约定为args\n",
    "- \\**kwargs, 不定长第二种\n",
    "> - 可以输入多个参数，但需要带参数名称\n",
    "  - 返回的数据类型是字典\n",
    "  - 输入的一定要是表达式(键值对)\n",
    "- 一般大的项目传入参数时，使用config文件一次写入所有的参数"
   ]
  },
  {
   "cell_type": "code",
   "execution_count": null,
   "metadata": {
    "collapsed": true
   },
   "outputs": [],
   "source": [
    "def test(*args):\n",
    "    print(args)\n",
    "    print(type(args))"
   ]
  },
  {
   "cell_type": "code",
   "execution_count": null,
   "metadata": {
    "collapsed": false
   },
   "outputs": [],
   "source": [
    "a = test(1, 2, 34, 5, 6)\n",
    "type(a)"
   ]
  },
  {
   "cell_type": "code",
   "execution_count": null,
   "metadata": {
    "collapsed": true
   },
   "outputs": [],
   "source": [
    "def test2(**kwargs):\n",
    "    print(kwargs)\n"
   ]
  },
  {
   "cell_type": "code",
   "execution_count": null,
   "metadata": {
    "collapsed": false
   },
   "outputs": [],
   "source": [
    "test2(a=1, b=2, c=4)"
   ]
  },
  {
   "cell_type": "markdown",
   "metadata": {},
   "source": [
    "### \\**kwargs, 不定长第二种\n",
    "- 第二种不定长参数传入方法，使用字典数据传入\n",
    "- 写入参数时，必须先写\\*args, 再写\\**kwargs。 这是固定写法"
   ]
  },
  {
   "cell_type": "code",
   "execution_count": null,
   "metadata": {
    "collapsed": false
   },
   "outputs": [],
   "source": [
    "config = {'host': '1.2.311.1', 'user': 'user'}  # 第二种不定长参数传入方法，使用字典数据传入\n",
    "test2(**config)"
   ]
  },
  {
   "cell_type": "code",
   "execution_count": null,
   "metadata": {
    "collapsed": false
   },
   "outputs": [],
   "source": [
    "def res(*args, **kwargs):\n",
    "    print(args)\n",
    "    print(kwargs)\n",
    "\n",
    "res(1, 2, 3, a=1, b=3, c=9)"
   ]
  },
  {
   "cell_type": "markdown",
   "metadata": {},
   "source": [
    "## 变量的作用域\n",
    "- 局部变量 local\n",
    "- 全局变量 global\n",
    "- globals 函数返回一个全局变量的字典，包括所有导入的变量\n",
    "- locals() 函数会以字典类型返回当前位置的全部局部变量。"
   ]
  },
  {
   "cell_type": "code",
   "execution_count": null,
   "metadata": {
    "collapsed": false
   },
   "outputs": [],
   "source": [
    "Mist = 0\n",
    "def test4():\n",
    "    global Mist\n",
    "    Mist += 10\n",
    "    print(Mist)\n",
    "\n",
    "test4()"
   ]
  },
  {
   "cell_type": "code",
   "execution_count": null,
   "metadata": {
    "collapsed": false
   },
   "outputs": [],
   "source": [
    "Mist2 = []\n",
    "def test5():\n",
    "    Mist2.append(100)\n",
    "    print(Mist2)\n",
    "    \n",
    "test5()"
   ]
  },
  {
   "cell_type": "code",
   "execution_count": null,
   "metadata": {
    "collapsed": false
   },
   "outputs": [],
   "source": [
    "a = 10\n",
    "del a\n",
    "print(a)"
   ]
  },
  {
   "cell_type": "code",
   "execution_count": null,
   "metadata": {
    "collapsed": false
   },
   "outputs": [],
   "source": [
    "Mist3 = 100\n",
    "def test6():\n",
    "    global Mist3\n",
    "    del Mist3\n",
    "    \n",
    "test6()\n"
   ]
  },
  {
   "cell_type": "code",
   "execution_count": null,
   "metadata": {
    "collapsed": true
   },
   "outputs": [],
   "source": [
    "globals()   #返回运行开始到现在为止所有的全局变量表"
   ]
  },
  {
   "cell_type": "code",
   "execution_count": null,
   "metadata": {
    "collapsed": true
   },
   "outputs": [],
   "source": [
    "locals()"
   ]
  },
  {
   "cell_type": "markdown",
   "metadata": {},
   "source": [
    "## 注意：\n",
    "- global ：在进行赋值操作的时候需要声明\n",
    "- 官方解释：This is because when you make an assignment to a variable in a scope, that variable becomes local to that scope and shadows any similarly named variable in the outer scope.\n",
    "- ![](../Photo/73.png)"
   ]
  },
  {
   "cell_type": "code",
   "execution_count": null,
   "metadata": {
    "collapsed": false
   },
   "outputs": [],
   "source": [
    "x = 1\n",
    "y = []\n",
    "def test():\n",
    "#     x = x  + 1\n",
    "    y.append(100)\n",
    "    print(x)\n",
    "test()\n",
    "print(x)"
   ]
  },
  {
   "cell_type": "markdown",
   "metadata": {},
   "source": [
    "## EP：\n",
    "- 定义一个邮箱加密函数，使得输入邮箱后进行ASCII码加密\n",
    "- 定义一个判断其是否为闰年的函数\n",
    "- 函数的嵌套：定义两个函数A，B，B函数接受A函数的数值并判定是否为奇数或者偶数"
   ]
  },
  {
   "cell_type": "markdown",
   "metadata": {},
   "source": [
    "# Homework\n",
    "- 1\n",
    "![](../Photo/74.png)"
   ]
  },
  {
   "cell_type": "code",
   "execution_count": 13,
   "metadata": {
    "collapsed": false
   },
   "outputs": [
    {
     "name": "stdout",
     "output_type": "stream",
     "text": [
      "前100个五角数如下：\n",
      "1.0 5.0 12.0 22.0 35.0 51.0 70.0 92.0 117.0 145.0 \n",
      "176.0 210.0 247.0 287.0 330.0 376.0 425.0 477.0 532.0 590.0 \n",
      "651.0 715.0 782.0 852.0 925.0 1001.0 1080.0 1162.0 1247.0 1335.0 \n",
      "1426.0 1520.0 1617.0 1717.0 1820.0 1926.0 2035.0 2147.0 2262.0 2380.0 \n",
      "2501.0 2625.0 2752.0 2882.0 3015.0 3151.0 3290.0 3432.0 3577.0 3725.0 \n",
      "3876.0 4030.0 4187.0 4347.0 4510.0 4676.0 4845.0 5017.0 5192.0 5370.0 \n",
      "5551.0 5735.0 5922.0 6112.0 6305.0 6501.0 6700.0 6902.0 7107.0 7315.0 \n",
      "7526.0 7740.0 7957.0 8177.0 8400.0 8626.0 8855.0 9087.0 9322.0 9560.0 \n",
      "9801.0 10045.0 10292.0 10542.0 10795.0 11051.0 11310.0 11572.0 11837.0 12105.0 \n",
      "12376.0 12650.0 12927.0 13207.0 13490.0 13776.0 14065.0 14357.0 14652.0 14950.0 \n"
     ]
    }
   ],
   "source": [
    "def getNumber(num):\n",
    "    print('前%d个五角数如下：' %num)\n",
    "    for i in range(1, num+1):\n",
    "        print(i*(3*i-1)/2, end = ' ')\n",
    "        if i%10 == 0:\n",
    "            print()\n",
    "   \n",
    "getNumber(100)"
   ]
  },
  {
   "cell_type": "code",
   "execution_count": 9,
   "metadata": {
    "collapsed": false
   },
   "outputs": [
    {
     "name": "stdout",
     "output_type": "stream",
     "text": [
      "1.0 5.0 12.0 22.0 35.0 51.0 70.0 92.0 117.0 145.0 \n",
      "176.0 210.0 247.0 287.0 330.0 376.0 425.0 477.0 532.0 590.0 \n",
      "651.0 715.0 782.0 852.0 925.0 1001.0 1080.0 1162.0 1247.0 1335.0 \n",
      "1426.0 1520.0 1617.0 1717.0 1820.0 1926.0 2035.0 2147.0 2262.0 2380.0 \n",
      "2501.0 2625.0 2752.0 2882.0 3015.0 3151.0 3290.0 3432.0 3577.0 3725.0 \n",
      "3876.0 4030.0 4187.0 4347.0 4510.0 4676.0 4845.0 5017.0 5192.0 5370.0 \n",
      "5551.0 5735.0 5922.0 6112.0 6305.0 6501.0 6700.0 6902.0 7107.0 7315.0 \n",
      "7526.0 7740.0 7957.0 8177.0 8400.0 8626.0 8855.0 9087.0 9322.0 9560.0 \n",
      "9801.0 10045.0 10292.0 10542.0 10795.0 11051.0 11310.0 11572.0 11837.0 12105.0 \n",
      "12376.0 12650.0 12927.0 13207.0 13490.0 13776.0 14065.0 14357.0 14652.0 "
     ]
    }
   ],
   "source": [
    "def test(num):\n",
    "    for i in range(1,num):\n",
    "        print(i * (3*i -1) /2,end=' ')\n",
    "        if i % 10 == 0 and i !=0:\n",
    "            print()\n",
    "test(100)"
   ]
  },
  {
   "cell_type": "markdown",
   "metadata": {},
   "source": [
    "- 2 \n",
    "![](../Photo/75.png)"
   ]
  },
  {
   "cell_type": "code",
   "execution_count": 26,
   "metadata": {
    "collapsed": false
   },
   "outputs": [
    {
     "name": "stdout",
     "output_type": "stream",
     "text": [
      "输入一个整数：12345\n",
      "12345数值的各个数字之和为: 15\n"
     ]
    }
   ],
   "source": [
    "def sunDigits(num):\n",
    "    sumDigit = 0\n",
    "    for i in num:\n",
    "        sumDigit += int(i)\n",
    "    return sumDigit\n",
    "\n",
    "num = input('输入一个整数：')\n",
    "sumDigit = sunDigits(num)\n",
    "print(num + '数值的各个数字之和为:', sumDigit)"
   ]
  },
  {
   "cell_type": "markdown",
   "metadata": {},
   "source": [
    "- 3\n",
    "![](../Photo/76.png)"
   ]
  },
  {
   "cell_type": "code",
   "execution_count": 36,
   "metadata": {
    "collapsed": false
   },
   "outputs": [
    {
     "name": "stdout",
     "output_type": "stream",
     "text": [
      "输入三个整数：12, 31, 1\n",
      "12 31 1 排序后的结果为： (1, 12, 31)\n"
     ]
    }
   ],
   "source": [
    "def displaySortedNumbers(num1, num2, num3):\n",
    "    numList = []\n",
    "    numList.append(num1)\n",
    "    numList.append(num2)\n",
    "    numList.append(num3)\n",
    "    numList.sort()\n",
    "    return numList[0], numList[1], numList[2]\n",
    "\n",
    "num1, num2, num3 = eval(input('输入三个整数：'))\n",
    "print(num1, num2, num3, '排序后的结果为：', displaySortedNumbers(num1, num2, num3))\n",
    "     \n",
    "    "
   ]
  },
  {
   "cell_type": "markdown",
   "metadata": {},
   "source": [
    "# - 4\n",
    "![](../Photo/77.png)"
   ]
  },
  {
   "cell_type": "code",
   "execution_count": 41,
   "metadata": {
    "collapsed": false
   },
   "outputs": [
    {
     "name": "stdout",
     "output_type": "stream",
     "text": [
      "输入投资额：1000\n",
      "输入年利率（百分比格式）：9\n",
      "Years\t Future Value\n",
      "1 年后\t 1093.81\n",
      "2 年后\t 1196.41\n",
      "3 年后\t 1308.65\n",
      "4 年后\t 1431.41\n",
      "5 年后\t 1565.68\n",
      "6 年后\t 1712.55\n",
      "7 年后\t 1873.2\n",
      "8 年后\t 2048.92\n",
      "9 年后\t 2241.12\n",
      "10 年后\t 2451.36\n",
      "11 年后\t 2681.31\n",
      "12 年后\t 2932.84\n",
      "13 年后\t 3207.96\n",
      "14 年后\t 3508.89\n",
      "15 年后\t 3838.04\n",
      "16 年后\t 4198.08\n",
      "17 年后\t 4591.89\n",
      "18 年后\t 5022.64\n",
      "19 年后\t 5493.8\n",
      "20 年后\t 6009.15\n",
      "21 年后\t 6572.85\n",
      "22 年后\t 7189.43\n",
      "23 年后\t 7863.85\n",
      "24 年后\t 8601.53\n",
      "25 年后\t 9408.41\n",
      "26 年后\t 10290.99\n",
      "27 年后\t 11256.35\n",
      "28 年后\t 12312.28\n",
      "29 年后\t 13467.25\n",
      "30 年后\t 14730.58\n"
     ]
    }
   ],
   "source": [
    "def futureInvestmentValue(amount, rate, years):\n",
    "    return amount * ((1 + rate / 1200) ** (years * 12))\n",
    "\n",
    "amount_ = eval(input('输入投资额：'))\n",
    "rate_ = eval(input('输入年利率（百分比格式）：'))\n",
    "total_years = 30\n",
    "print('Years\\t Future Value')\n",
    "for i in range(0, total_years):\n",
    "    futureValue = futureInvestmentValue(amount_, rate_, i+1)\n",
    "    print(i+1,'年后\\t', round(futureValue, 2))\n",
    "    "
   ]
  },
  {
   "cell_type": "markdown",
   "metadata": {},
   "source": [
    "- 5\n",
    "![](../Photo/78.png)"
   ]
  },
  {
   "cell_type": "code",
   "execution_count": 48,
   "metadata": {
    "collapsed": false
   },
   "outputs": [
    {
     "name": "stdout",
     "output_type": "stream",
     "text": [
      "1和Z的中间字符如下：\n",
      "2 3 4 5 6 7 8 9 : ; \n",
      "< = > ? @ A B C D E \n",
      "F G H I J K L M N O \n",
      "P Q R S T U V W X Y \n"
     ]
    }
   ],
   "source": [
    "def printChars(ch1, ch2, numberPerLine):\n",
    "    if ord(ch1) > ord(ch2):\n",
    "        print('前面的字符大于后面字符，两个字符间没有字符')\n",
    "    elif ord(ch1) == ord(ch2):\n",
    "        print('两个字符相等，无中间字符')\n",
    "    else:\n",
    "        print(ch1 + '和' + ch2 + '的中间字符如下：')\n",
    "        sumNum = 0\n",
    "        for i in range(ord(ch1), ord(ch2)-1):\n",
    "            sumNum += 1\n",
    "            print(chr(i+1), end = ' ')\n",
    "            if sumNum % numberPerLine == 0:\n",
    "                print()\n",
    "\n",
    "printChars('1', 'Z', 10)"
   ]
  },
  {
   "cell_type": "code",
   "execution_count": 51,
   "metadata": {
    "collapsed": false
   },
   "outputs": [
    {
     "name": "stdout",
     "output_type": "stream",
     "text": [
      "输入第一个字符：1\n",
      "输入第二个字符：Z\n",
      "输入每行显示的字符个数：5\n",
      "1和Z的中间字符如下：\n",
      "2 3 4 5 6 \n",
      "7 8 9 : ; \n",
      "< = > ? @ \n",
      "A B C D E \n",
      "F G H I J \n",
      "K L M N O \n",
      "P Q R S T \n",
      "U V W X Y \n"
     ]
    }
   ],
   "source": [
    "def printChars(ch1, ch2, numberPerLine):\n",
    "    if ord(ch1) > ord(ch2):\n",
    "        print('前面的字符大于后面字符，两个字符间没有字符')\n",
    "    elif ord(ch1) == ord(ch2):\n",
    "        print('两个字符相等，无中间字符')\n",
    "    else:\n",
    "        print(ch1 + '和' + ch2 + '的中间字符如下：')\n",
    "        sumNum = 0\n",
    "        for i in range(ord(ch1), ord(ch2)-1):\n",
    "            sumNum += 1\n",
    "            print(chr(i+1), end = ' ')\n",
    "            if sumNum % numberPerLine == 0:\n",
    "                print()\n",
    "ch1_ = input('输入第一个字符：')\n",
    "ch2_ = input('输入第二个字符：')\n",
    "numberP = eval(input('输入每行显示的字符个数：'))\n",
    "printChars(ch1_, ch2_, numberP)"
   ]
  },
  {
   "cell_type": "markdown",
   "metadata": {},
   "source": [
    "- 6\n",
    "![](../Photo/79.png)"
   ]
  },
  {
   "cell_type": "code",
   "execution_count": 55,
   "metadata": {
    "collapsed": false
   },
   "outputs": [
    {
     "name": "stdout",
     "output_type": "stream",
     "text": [
      "Year\tDays\n",
      "2010 \t 364\n",
      "2011 \t 364\n",
      "2012 \t 365\n",
      "2013 \t 364\n",
      "2014 \t 364\n",
      "2015 \t 364\n",
      "2016 \t 365\n",
      "2017 \t 364\n",
      "2018 \t 364\n",
      "2019 \t 364\n",
      "2020 \t 365\n"
     ]
    }
   ],
   "source": [
    "def numberOfDaysInAYear(year):\n",
    "    sumDay = 0\n",
    "    list1 = [1, 3, 5, 7, 8, 10, 12]\n",
    "    runNian = ((year % 4 ==0) and (year % 100 !=0)) or (year % 400 ==0)\n",
    "    for months in range(12):\n",
    "        if months in list1:\n",
    "            sumDay += 31\n",
    "        elif runNian and (months == 2):\n",
    "            sumDay += 29\n",
    "        elif (not runNian) and (months == 2):\n",
    "            sumDay += 28\n",
    "        else:\n",
    "            sumDay += 30\n",
    "    return sumDay\n",
    "\n",
    "print('Year' + '\\t' + 'Days')\n",
    "for years in range(2010, 2020+1):\n",
    "    sumDay = numberOfDaysInAYear(years)\n",
    "    print(years, '\\t', sumDay)"
   ]
  },
  {
   "cell_type": "markdown",
   "metadata": {},
   "source": [
    "- 7\n",
    "![](../Photo/80.png)"
   ]
  },
  {
   "cell_type": "code",
   "execution_count": 58,
   "metadata": {
    "collapsed": false
   },
   "outputs": [
    {
     "name": "stdout",
     "output_type": "stream",
     "text": [
      "输入第一个点的两个坐标：1,1\n",
      "输入第二个点的两个坐标：3,3\n",
      "上述两个坐标的距离为： 2.8284\n"
     ]
    }
   ],
   "source": [
    "def distance(x1, y1, x2, y2):\n",
    "    return ((x1-x2)**2 + (y1-y2)**2)**0.5\n",
    "\n",
    "x1, y1 = eval(input('输入第一个点的两个坐标：'))\n",
    "x2, y2 = eval(input('输入第二个点的两个坐标：'))\n",
    "dis = distance(x1, y1, x2, y2)\n",
    "print('上述两个坐标的距离为：', round(dis, 4))"
   ]
  },
  {
   "cell_type": "markdown",
   "metadata": {},
   "source": [
    "- 8\n",
    "![](../Photo/81.png)"
   ]
  },
  {
   "cell_type": "code",
   "execution_count": 63,
   "metadata": {
    "collapsed": false
   },
   "outputs": [
    {
     "name": "stdout",
     "output_type": "stream",
     "text": [
      "p\t2^p-1\n",
      "2 \t 3\n",
      "3 \t 7\n",
      "5 \t 31\n"
     ]
    }
   ],
   "source": [
    "def sushu(num):\n",
    "    ip = False\n",
    "    if num == 1 or num ==2:\n",
    "        ip = True\n",
    "    for j in range(2, num):\n",
    "        if num % j == 0:\n",
    "            break\n",
    "        if j == num-1:\n",
    "            ip = True\n",
    "    return ip\n",
    "\n",
    "def meisenSushu(num):\n",
    "    for i in range(num):\n",
    "        if sushu(num) == True and num == (2**i-1):\n",
    "            print(i, '\\t', num)\n",
    "\n",
    "print('p\\t2^p-1')\n",
    "for num in range(1, 31+1):\n",
    "    meisenSushu(num)\n",
    "            "
   ]
  },
  {
   "cell_type": "markdown",
   "metadata": {},
   "source": [
    "- 9\n",
    "![](../Photo/82.png)\n",
    "![](../Photo/83.png)"
   ]
  },
  {
   "cell_type": "code",
   "execution_count": 77,
   "metadata": {
    "collapsed": false,
    "scrolled": true
   },
   "outputs": [
    {
     "name": "stdout",
     "output_type": "stream",
     "text": [
      "Current data and time is  七月 20, 2018 17:34:57\n"
     ]
    }
   ],
   "source": [
    "import time\n",
    "dayList = ['一月', '二月', '三月', '四月', '五月', '六月', '七月', '八月', '九月', '十月', '十一月', '十二月']\n",
    "months = time.strftime('%m',time.localtime(time.time()))\n",
    "time01 = dayList[int(months)-1] + time.strftime(' %d, %Y %H:%M:%S',time.localtime(time.time()))\n",
    "print('Current data and time is ',time01)"
   ]
  },
  {
   "cell_type": "markdown",
   "metadata": {},
   "source": [
    "- 10\n",
    "![](../Photo/84.png)"
   ]
  },
  {
   "cell_type": "code",
   "execution_count": 5,
   "metadata": {
    "collapsed": false
   },
   "outputs": [
    {
     "name": "stdout",
     "output_type": "stream",
     "text": [
      "第一次 6+3=9, 你输了\n",
      "4+5=9, 等于上一次点数，你输了\n"
     ]
    }
   ],
   "source": [
    "import random\n",
    "def regame():\n",
    "    i = random.randint(1, 6)\n",
    "    j = random.randint(1, 6)\n",
    "    list1 = [2, 3, 12]\n",
    "    list2 = [7, 11]\n",
    "    if i+j in list1:\n",
    "        ends = True\n",
    "        print('%d+%d=%d, 你输了' %(i, j, i+j))\n",
    "    elif i+j in list2:\n",
    "        ends = True\n",
    "        print('%d+%d=%d, 你赢了' %(i, j, i+j))\n",
    "    else:\n",
    "        print('第一次 %d+%d=%d, 你输了' %(i, j, i+j))\n",
    "        dianshu = i + j\n",
    "        while True:\n",
    "            i = random.randint(1, 6)\n",
    "            j = random.randint(1, 6)\n",
    "            if i+j == 7:\n",
    "                print('第二次 %d+%d=%d, 你输了' %(i, j, i+j))\n",
    "                break\n",
    "            elif i+j == dianshu:\n",
    "                print('%d+%d=%d, 等于上一次点数，你输了' %(i, j, i+j))\n",
    "                break\n",
    "            else:\n",
    "                pass\n",
    "\n",
    "regame()           "
   ]
  },
  {
   "cell_type": "markdown",
   "metadata": {},
   "source": [
    "- 11 \n",
    "### 去网上寻找如何用Python代码发送邮件 \n",
    "    - time.sleep(3)  3秒发送一次\n",
    "    - 一旦错误后，重新换一个邮箱"
   ]
  },
  {
   "cell_type": "code",
   "execution_count": 6,
   "metadata": {
    "collapsed": false
   },
   "outputs": [
    {
     "name": "stdout",
     "output_type": "stream",
     "text": [
      "邮箱开始发送...\n",
      "邮箱发送成功 \n",
      "邮箱开始发送...\n",
      "邮箱发送成功 \n",
      "邮箱开始发送...\n",
      "邮箱发送成功 \n"
     ]
    }
   ],
   "source": [
    "from email.mime.text import MIMEText  # 邮件文本转换\n",
    "import smtplib  # 发送邮件\n",
    "import time\n",
    "#from Config import *\n",
    "\n",
    "\n",
    "def Send_Email(accept_email, SMTP_server, Sender, password):\n",
    "    print('邮箱开始发送...')\n",
    "    # 三个参数：第一个为文本内容，第二个设置发送文本格式plain，第三个被文件utf-8 设置编码\n",
    "    msg = MIMEText('票已经抢到，尽快付款')  # 转为邮件文本,\n",
    "    msg[\"Subject\"] = \"票得到啦\"  # 标题\n",
    "    msg[\"From\"] = Sender  # 发送者\n",
    "\n",
    "    mail_sever = smtplib.SMTP(SMTP_server, 25)  # 链接邮箱端，端口号25\n",
    "\n",
    "    mail_sever.login(Sender, password)  # 登录邮箱\n",
    "    # 要发送的邮箱号\n",
    "    email_list = [accept_email]\n",
    "    for EMAIL in email_list:\n",
    "        mail_sever.sendmail(Sender, EMAIL, msg.as_string())\n",
    "\n",
    "    # 关闭邮箱\n",
    "    mail_sever.quit()\n",
    "    print(\"邮箱发送成功 \")\n",
    "\n",
    "for i in range(0, 3):\n",
    "    Send_Email(['531315901@qq.com', 'zhjuanhappy202@163.com'], \"smtp.163.com\" , 'zhjuanhappy@163.com', '1234qwer')\n",
    "    time.sleep(3)"
   ]
  },
  {
   "cell_type": "code",
   "execution_count": null,
   "metadata": {
    "collapsed": true
   },
   "outputs": [],
   "source": []
  }
 ],
 "metadata": {
  "kernelspec": {
   "display_name": "Python 3",
   "language": "python",
   "name": "python3"
  },
  "language_info": {
   "codemirror_mode": {
    "name": "ipython",
    "version": 3
   },
   "file_extension": ".py",
   "mimetype": "text/x-python",
   "name": "python",
   "nbconvert_exporter": "python",
   "pygments_lexer": "ipython3",
   "version": "3.6.0"
  }
 },
 "nbformat": 4,
 "nbformat_minor": 2
}
