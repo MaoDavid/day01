{
 "cells": [
  {
   "cell_type": "markdown",
   "metadata": {},
   "source": [
    "# 列表List\n",
    "- 一个列表可以储存任意大小的数据集合，你可以理解为他是一个容器"
   ]
  },
  {
   "cell_type": "markdown",
   "metadata": {},
   "source": [
    "## 先来一个例子爽一爽\n",
    "![](../Photo/115.png)"
   ]
  },
  {
   "cell_type": "code",
   "execution_count": 1,
   "metadata": {
    "collapsed": false
   },
   "outputs": [
    {
     "name": "stdout",
     "output_type": "stream",
     "text": [
      "Enter a new number:1\n",
      "Enter a new number:2\n",
      "Enter a new number:3\n",
      "Enter a new number:4\n",
      "Enter a new number:5\n",
      "Average is  3.0\n",
      "Number of elements above the average is  2\n"
     ]
    }
   ],
   "source": [
    "number_of_elements = 5\n",
    "numbers = []\n",
    "sum_num = 0\n",
    "for i in range(number_of_elements):\n",
    "    value = eval(input('Enter a new number:'))\n",
    "    numbers.append(value)\n",
    "    sum_num += value\n",
    "    \n",
    "average = sum_num / number_of_elements\n",
    "count = 0\n",
    "for i in range(number_of_elements):\n",
    "    if numbers[i] > average:\n",
    "        count += 1\n",
    "    \n",
    "print('Average is ', average)\n",
    "print('Number of elements above the average is ', count)"
   ]
  },
  {
   "cell_type": "markdown",
   "metadata": {},
   "source": [
    "## 创建一个列表\n",
    "- a = [1,2,3,4,5]"
   ]
  },
  {
   "cell_type": "code",
   "execution_count": 2,
   "metadata": {
    "collapsed": false
   },
   "outputs": [
    {
     "data": {
      "text/plain": [
       "list"
      ]
     },
     "execution_count": 2,
     "metadata": {},
     "output_type": "execute_result"
    }
   ],
   "source": [
    "a = [1, 2, 3]\n",
    "type(a)"
   ]
  },
  {
   "cell_type": "code",
   "execution_count": 3,
   "metadata": {
    "collapsed": false
   },
   "outputs": [
    {
     "name": "stdout",
     "output_type": "stream",
     "text": [
      "[1, 2, [1, 2, 3], 'a1', 0.1, True]\n"
     ]
    }
   ],
   "source": [
    "a1 = [1, 2, [1, 2, 3], 'a1', 0.1, True]\n",
    "print(a1)"
   ]
  },
  {
   "cell_type": "code",
   "execution_count": 11,
   "metadata": {
    "collapsed": false
   },
   "outputs": [],
   "source": [
    "list1 = list('abcde')"
   ]
  },
  {
   "cell_type": "code",
   "execution_count": 10,
   "metadata": {
    "collapsed": false
   },
   "outputs": [],
   "source": [
    "list2 = list('1234454646')"
   ]
  },
  {
   "cell_type": "code",
   "execution_count": 5,
   "metadata": {
    "collapsed": false
   },
   "outputs": [
    {
     "data": {
      "text/plain": [
       "[12, 34, 56]"
      ]
     },
     "execution_count": 5,
     "metadata": {},
     "output_type": "execute_result"
    }
   ],
   "source": [
    "list([12, 34, 56])"
   ]
  },
  {
   "cell_type": "code",
   "execution_count": 12,
   "metadata": {
    "collapsed": false
   },
   "outputs": [
    {
     "data": {
      "text/plain": [
       "['a', 'b', 'c', 'd', 'e', '1', '2', '3', '4', '4', '5', '4', '6', '4', '6']"
      ]
     },
     "execution_count": 12,
     "metadata": {},
     "output_type": "execute_result"
    }
   ],
   "source": [
    "list1 + list2"
   ]
  },
  {
   "cell_type": "code",
   "execution_count": 13,
   "metadata": {
    "collapsed": false
   },
   "outputs": [
    {
     "data": {
      "text/plain": [
       "['a', 'b', 'c', 'd', 'e', 'a', 'b', 'c', 'd', 'e']"
      ]
     },
     "execution_count": 13,
     "metadata": {},
     "output_type": "execute_result"
    }
   ],
   "source": [
    "list1 * 2"
   ]
  },
  {
   "cell_type": "code",
   "execution_count": 16,
   "metadata": {
    "collapsed": false
   },
   "outputs": [
    {
     "data": {
      "text/plain": [
       "['a', 'b', 'c', 'd', 'e']"
      ]
     },
     "execution_count": 16,
     "metadata": {},
     "output_type": "execute_result"
    }
   ],
   "source": [
    "list1 = list('abcde')\n",
    "list1[0:]"
   ]
  },
  {
   "cell_type": "code",
   "execution_count": 17,
   "metadata": {
    "collapsed": false
   },
   "outputs": [
    {
     "data": {
      "text/plain": [
       "['a', 'b', 'c', 'd', 'e']"
      ]
     },
     "execution_count": 17,
     "metadata": {},
     "output_type": "execute_result"
    }
   ],
   "source": [
    "list1[0:len(list1)]"
   ]
  },
  {
   "cell_type": "code",
   "execution_count": 18,
   "metadata": {
    "collapsed": false
   },
   "outputs": [
    {
     "data": {
      "text/plain": [
       "['a', 'b', 'c', 'd', 'e']"
      ]
     },
     "execution_count": 18,
     "metadata": {},
     "output_type": "execute_result"
    }
   ],
   "source": [
    "list1[:]"
   ]
  },
  {
   "cell_type": "code",
   "execution_count": 23,
   "metadata": {
    "collapsed": false,
    "scrolled": true
   },
   "outputs": [
    {
     "data": {
      "text/plain": [
       "['a', 'c', 'e']"
      ]
     },
     "execution_count": 23,
     "metadata": {},
     "output_type": "execute_result"
    }
   ],
   "source": [
    "list1[0:5:2]   #切片操作可以加步长，为第三个参数"
   ]
  },
  {
   "cell_type": "code",
   "execution_count": 28,
   "metadata": {
    "collapsed": false
   },
   "outputs": [
    {
     "data": {
      "text/plain": [
       "6"
      ]
     },
     "execution_count": 28,
     "metadata": {},
     "output_type": "execute_result"
    }
   ],
   "source": [
    "list3 = [1, 2, 3]\n",
    "sum(list3)"
   ]
  },
  {
   "cell_type": "code",
   "execution_count": 31,
   "metadata": {
    "collapsed": false
   },
   "outputs": [
    {
     "name": "stdout",
     "output_type": "stream",
     "text": [
      "6\n"
     ]
    }
   ],
   "source": [
    "list3 = [1, 2, 3]\n",
    "sumlist = 0\n",
    "for i in list3:\n",
    "    sumlist += i\n",
    "print(sumlist)"
   ]
  },
  {
   "cell_type": "code",
   "execution_count": 35,
   "metadata": {
    "collapsed": false
   },
   "outputs": [
    {
     "name": "stdout",
     "output_type": "stream",
     "text": [
      "2\n",
      "4\n",
      "6\n"
     ]
    },
    {
     "data": {
      "text/plain": [
       "6"
      ]
     },
     "execution_count": 35,
     "metadata": {},
     "output_type": "execute_result"
    }
   ],
   "source": [
    "for i in list3:\n",
    "    i += i\n",
    "    print(i)\n",
    "i"
   ]
  },
  {
   "cell_type": "markdown",
   "metadata": {},
   "source": [
    "## 列表的一般操作\n",
    "![](../Photo/116.png)"
   ]
  },
  {
   "cell_type": "code",
   "execution_count": 6,
   "metadata": {
    "collapsed": true
   },
   "outputs": [
    {
     "name": "stdout",
     "output_type": "stream",
     "text": [
      "1\n",
      "2\n",
      "3\n",
      "4\n",
      "5\n",
      "6\n",
      "7\n",
      "8\n",
      "9\n"
     ]
    }
   ],
   "source": [
    "list_of_lists = [ [1, 2, 3], [4, 5, 6], [7, 8, 9]]\n",
    "for list1 in list_of_lists:\n",
    "    for x in list1:\n",
    "        print(x)"
   ]
  },
  {
   "cell_type": "code",
   "execution_count": 38,
   "metadata": {
    "collapsed": false
   },
   "outputs": [
    {
     "data": {
      "text/plain": [
       "True"
      ]
     },
     "execution_count": 38,
     "metadata": {},
     "output_type": "execute_result"
    }
   ],
   "source": [
    "list4 = [2, 3, 4]\n",
    "list5 = [1, 2]\n",
    "list4 > list5"
   ]
  },
  {
   "cell_type": "markdown",
   "metadata": {},
   "source": [
    "# try： pass    except： pass\n",
    "- 运行代码时发生错误的提示\n",
    "- 列表取下标越界时可以给出错误提示"
   ]
  },
  {
   "cell_type": "code",
   "execution_count": 39,
   "metadata": {
    "collapsed": false
   },
   "outputs": [
    {
     "name": "stdout",
     "output_type": "stream",
     "text": [
      "下标越界错误\n"
     ]
    }
   ],
   "source": [
    "list6 = [2, 3, 4]\n",
    "try:\n",
    "    list6[6]\n",
    "except Exception as e:\n",
    "    print('下标越界错误// 发生未知错误')\n"
   ]
  },
  {
   "cell_type": "markdown",
   "metadata": {},
   "source": [
    "## random.shuffle(listavr) 将listvar中的元素任意排列\n",
    "- 需要先导入random包\n",
    "- 结果是listvar中的元素顺序打乱"
   ]
  },
  {
   "cell_type": "code",
   "execution_count": 7,
   "metadata": {
    "collapsed": false
   },
   "outputs": [
    {
     "name": "stdout",
     "output_type": "stream",
     "text": [
      "打乱之后： [10, 7, 6, 5, 8, 1, 2, 4, 9, 3]\n",
      "[3, 9, 4, 2, 1, 8, 5, 6, 7, 10]\n"
     ]
    }
   ],
   "source": [
    "import random\n",
    "list1 = [1, 2, 3, 4, 5, 6, 7, 8, 9, 10]\n",
    "random.shuffle(list1)\n",
    "print('打乱之后：', list1)\n",
    "list1.reverse()\n",
    "print(list1)"
   ]
  },
  {
   "cell_type": "code",
   "execution_count": null,
   "metadata": {
    "collapsed": true
   },
   "outputs": [],
   "source": []
  },
  {
   "cell_type": "markdown",
   "metadata": {},
   "source": [
    "## 列表索引操作\n",
    "- Mylist[index]\n",
    "- 正序索引，逆序索引\n",
    "- 列表一定注意越界\n",
    "- ![](../Photo/117.png)"
   ]
  },
  {
   "cell_type": "markdown",
   "metadata": {},
   "source": [
    "## 列表切片操作\n",
    "- Mylist[start:end]\n",
    "- 正序切片，逆序切片"
   ]
  },
  {
   "cell_type": "markdown",
   "metadata": {},
   "source": [
    "## 列表 +、*、in 、not in"
   ]
  },
  {
   "cell_type": "markdown",
   "metadata": {},
   "source": [
    "## 使用for循环遍历元素\n",
    "- for 循环可以遍历一切可迭代元素"
   ]
  },
  {
   "cell_type": "markdown",
   "metadata": {},
   "source": [
    "## EP：\n",
    "- 使用while 循环遍历列表"
   ]
  },
  {
   "cell_type": "markdown",
   "metadata": {},
   "source": [
    "## 列表的比较\n",
    "- \\>,<,>=,<=,==,!="
   ]
  },
  {
   "cell_type": "markdown",
   "metadata": {},
   "source": [
    "## 列表生成式\n",
    "[x for x in range(10)]"
   ]
  },
  {
   "cell_type": "code",
   "execution_count": 3,
   "metadata": {
    "collapsed": false
   },
   "outputs": [
    {
     "data": {
      "text/plain": [
       "[0, 1, 2, 3, 4, 5, 6, 7, 8, 9]"
      ]
     },
     "execution_count": 3,
     "metadata": {},
     "output_type": "execute_result"
    }
   ],
   "source": [
    "a = [x for x in range(10)]\n",
    "a"
   ]
  },
  {
   "cell_type": "code",
   "execution_count": 8,
   "metadata": {
    "collapsed": false
   },
   "outputs": [
    {
     "data": {
      "text/plain": [
       "2"
      ]
     },
     "execution_count": 8,
     "metadata": {},
     "output_type": "execute_result"
    }
   ],
   "source": [
    "b = (x for x in range(10))   #生成器  生成器的目的，内存优化\n",
    "next(b)\n",
    "next(b)\n",
    "next(b)"
   ]
  },
  {
   "cell_type": "code",
   "execution_count": 4,
   "metadata": {
    "collapsed": false
   },
   "outputs": [
    {
     "data": {
      "text/plain": [
       "[0, 2, 4, 6, 8]"
      ]
     },
     "execution_count": 4,
     "metadata": {},
     "output_type": "execute_result"
    }
   ],
   "source": [
    "a1 = [x for x in range(10) if x % 2 == 0]\n",
    "a1"
   ]
  },
  {
   "cell_type": "code",
   "execution_count": 5,
   "metadata": {
    "collapsed": false
   },
   "outputs": [
    {
     "data": {
      "text/plain": [
       "[0, 4, 8, 12, 16]"
      ]
     },
     "execution_count": 5,
     "metadata": {},
     "output_type": "execute_result"
    }
   ],
   "source": [
    "a2 = [2*x for x in range(10) if x % 2 == 0]\n",
    "a2"
   ]
  },
  {
   "cell_type": "code",
   "execution_count": 2,
   "metadata": {
    "collapsed": false
   },
   "outputs": [
    {
     "name": "stdout",
     "output_type": "stream",
     "text": [
      "10\n"
     ]
    }
   ],
   "source": [
    "(lambda x : print(x))(10)   #匿名函数"
   ]
  },
  {
   "cell_type": "code",
   "execution_count": 10,
   "metadata": {
    "collapsed": true
   },
   "outputs": [],
   "source": [
    "def test():\n",
    "    yield \"hahah\"``"
   ]
  },
  {
   "cell_type": "code",
   "execution_count": 12,
   "metadata": {
    "collapsed": false
   },
   "outputs": [
    {
     "ename": "StopIteration",
     "evalue": "",
     "output_type": "error",
     "traceback": [
      "\u001b[0;31m---------------------------------------------------------------------------\u001b[0m",
      "\u001b[0;31mStopIteration\u001b[0m                             Traceback (most recent call last)",
      "\u001b[0;32m<ipython-input-12-1f92b0f49265>\u001b[0m in \u001b[0;36m<module>\u001b[0;34m()\u001b[0m\n\u001b[1;32m      1\u001b[0m \u001b[0mb2\u001b[0m \u001b[1;33m=\u001b[0m \u001b[0mtest\u001b[0m\u001b[1;33m(\u001b[0m\u001b[1;33m)\u001b[0m\u001b[1;33m\u001b[0m\u001b[0m\n\u001b[1;32m      2\u001b[0m \u001b[0mnext\u001b[0m\u001b[1;33m(\u001b[0m\u001b[0mb2\u001b[0m\u001b[1;33m)\u001b[0m\u001b[1;33m\u001b[0m\u001b[0m\n\u001b[0;32m----> 3\u001b[0;31m \u001b[0mnext\u001b[0m\u001b[1;33m(\u001b[0m\u001b[0mb2\u001b[0m\u001b[1;33m)\u001b[0m\u001b[1;33m\u001b[0m\u001b[0m\n\u001b[0m",
      "\u001b[0;31mStopIteration\u001b[0m: "
     ]
    }
   ],
   "source": [
    "b2 = test()\n",
    "next(b2)\n",
    "next(b2)"
   ]
  },
  {
   "cell_type": "markdown",
   "metadata": {},
   "source": [
    "## 列表的方法\n",
    "![](../Photo/118.png)"
   ]
  },
  {
   "cell_type": "code",
   "execution_count": 30,
   "metadata": {
    "collapsed": false
   },
   "outputs": [
    {
     "data": {
      "text/plain": [
       "1"
      ]
     },
     "execution_count": 30,
     "metadata": {},
     "output_type": "execute_result"
    }
   ],
   "source": [
    "list1 = [x for x in 'Joker']\n",
    "list1.append('123')\n",
    "list1.count('o')"
   ]
  },
  {
   "cell_type": "code",
   "execution_count": 31,
   "metadata": {
    "collapsed": false
   },
   "outputs": [
    {
     "data": {
      "text/plain": [
       "['J', 'o', 'k', 'e', 'r', '123', 'M', 'K', 'I', 'O']"
      ]
     },
     "execution_count": 31,
     "metadata": {},
     "output_type": "execute_result"
    }
   ],
   "source": [
    "list1.extend('MKIO')\n",
    "list1"
   ]
  },
  {
   "cell_type": "code",
   "execution_count": 33,
   "metadata": {
    "collapsed": false
   },
   "outputs": [
    {
     "data": {
      "text/plain": [
       "['123', '123', 'J', 'o', 'k', 'e', 'r', '123', 'M', 'K', 'I', 'O']"
      ]
     },
     "execution_count": 33,
     "metadata": {},
     "output_type": "execute_result"
    }
   ],
   "source": [
    "list1.insert(0, '123')\n",
    "list1"
   ]
  },
  {
   "cell_type": "code",
   "execution_count": 34,
   "metadata": {
    "collapsed": false
   },
   "outputs": [
    {
     "data": {
      "text/plain": [
       "[9, 8, 7, 6, 5, 4, 3, 2, 1, 0]"
      ]
     },
     "execution_count": 34,
     "metadata": {},
     "output_type": "execute_result"
    }
   ],
   "source": [
    "list3 = [x for x in range(10)]\n",
    "list3.reverse()\n",
    "list3"
   ]
  },
  {
   "cell_type": "code",
   "execution_count": 37,
   "metadata": {
    "collapsed": false
   },
   "outputs": [
    {
     "data": {
      "text/plain": [
       "[0, 1, 2, 3, 4, 5, 6, 7, 8, 9]"
      ]
     },
     "execution_count": 37,
     "metadata": {},
     "output_type": "execute_result"
    }
   ],
   "source": [
    "list3.sort()\n",
    "list3"
   ]
  },
  {
   "cell_type": "code",
   "execution_count": 42,
   "metadata": {
    "collapsed": false
   },
   "outputs": [
    {
     "name": "stdout",
     "output_type": "stream",
     "text": [
      "[99, 98, 97, 96, 95, 94, 93, 92, 91, 90, 89, 88, 87, 86, 85, 84, 83, 82, 81, 80, 79, 78, 77, 76, 75, 74, 73, 72, 71, 70, 69, 68, 67, 66, 65, 64, 63, 62, 61, 60, 59, 58, 57, 56, 55, 54, 53, 52, 51, 50, 49, 48, 47, 46, 45, 44, 43, 42, 41, 40, 39, 38, 37, 36, 35, 34, 33, 32, 31, 30, 29, 28, 27, 26, 25, 24, 23, 22, 21, 20, 19, 18, 17, 16, 15, 14, 13, 12, 11, 10, 9, 8, 7, 6, 5, 4, 3, 2, 1, 0]\n"
     ]
    }
   ],
   "source": [
    "list4 = [x for x in range(100)]\n",
    "list5 = []\n",
    "for i in range(-1,-len(list4)-1, -1):\n",
    "    list5.append(list4[i])\n",
    "list4 = list5\n",
    "print(list4)    "
   ]
  },
  {
   "cell_type": "code",
   "execution_count": 45,
   "metadata": {
    "collapsed": false
   },
   "outputs": [
    {
     "name": "stdout",
     "output_type": "stream",
     "text": [
      "9 8 7 6 5 4 3 2 1 0 "
     ]
    }
   ],
   "source": [
    "list5 = [x for x in range(10)]\n",
    "for i in range(len(list5)):\n",
    "    print(list5[len(list5)-i-1], end = ' ')"
   ]
  },
  {
   "cell_type": "code",
   "execution_count": 47,
   "metadata": {
    "collapsed": false
   },
   "outputs": [
    {
     "data": {
      "text/plain": [
       "[1, 2, 2, 3, 4, 98, 261]"
      ]
     },
     "execution_count": 47,
     "metadata": {},
     "output_type": "execute_result"
    }
   ],
   "source": [
    "list6 = [1, 3, 2, 98, 261, 2, 4]\n",
    "list6.sort()\n",
    "list6"
   ]
  },
  {
   "cell_type": "code",
   "execution_count": 48,
   "metadata": {
    "collapsed": false
   },
   "outputs": [
    {
     "data": {
      "text/plain": [
       "[261, 98, 4, 3, 2, 2, 1]"
      ]
     },
     "execution_count": 48,
     "metadata": {},
     "output_type": "execute_result"
    }
   ],
   "source": [
    "list6 = [1, 3, 2, 98, 261, 2, 4]\n",
    "list6.sort(reverse = True)\n",
    "list6"
   ]
  },
  {
   "cell_type": "code",
   "execution_count": 75,
   "metadata": {
    "collapsed": false,
    "scrolled": true
   },
   "outputs": [
    {
     "name": "stdout",
     "output_type": "stream",
     "text": [
      "[1, 3, 2, 98, 261, 2]\n",
      "[1, 3, 2, 98, 261]\n",
      "[1, 3, 2, 98]\n",
      "[1, 3, 2]\n",
      "[1, 3]\n",
      "[1]\n",
      "[]\n"
     ]
    }
   ],
   "source": [
    "list6 = [1, 3, 2, 98, 261, 2, 4]\n",
    "for i in range(len(list6)):\n",
    "    list6.pop()\n",
    "    print(list6)"
   ]
  },
  {
   "cell_type": "markdown",
   "metadata": {},
   "source": [
    "# 深copy和浅copy的区别\n",
    "- list5 = list4.copy()\n",
    "- import copy\n",
    "- list6 = copy.deepcopy(list5)\n",
    "- - http://www.pythontutor.com/visualize.html#mode=edit"
   ]
  },
  {
   "cell_type": "code",
   "execution_count": 77,
   "metadata": {
    "collapsed": false
   },
   "outputs": [
    {
     "data": {
      "text/plain": [
       "[1, 3, 2, 98, 261, [100, 200]]"
      ]
     },
     "execution_count": 77,
     "metadata": {},
     "output_type": "execute_result"
    }
   ],
   "source": [
    "list6 = [1, 3, 2, 98, 261, [100, 200]]\n",
    "list7 = list6.copy()\n",
    "list7"
   ]
  },
  {
   "cell_type": "code",
   "execution_count": 80,
   "metadata": {
    "collapsed": false
   },
   "outputs": [
    {
     "data": {
      "text/plain": [
       "[1, 3, 2, 98, 261, [100, 200]]"
      ]
     },
     "execution_count": 80,
     "metadata": {},
     "output_type": "execute_result"
    }
   ],
   "source": [
    "list6 = [1, 3, 2, 98, 261, [100, 200]]\n",
    "import copy\n",
    "list8 = copy.deepcopy(list6)\n",
    "list8"
   ]
  },
  {
   "cell_type": "code",
   "execution_count": 78,
   "metadata": {
    "collapsed": false
   },
   "outputs": [
    {
     "name": "stdout",
     "output_type": "stream",
     "text": [
      "[100, 3, 2, 98, 261, [100, 200]]\n",
      "[1, 3, 2, 98, 261, [100, 200]]\n"
     ]
    }
   ],
   "source": [
    "list6[0] = 100\n",
    "print(list6)\n",
    "print(list7)"
   ]
  },
  {
   "cell_type": "code",
   "execution_count": 79,
   "metadata": {
    "collapsed": false
   },
   "outputs": [
    {
     "name": "stdout",
     "output_type": "stream",
     "text": [
      "[100, 3, 2, 98, 261, [2000, 200]]\n",
      "[1, 3, 2, 98, 261, [2000, 200]]\n"
     ]
    }
   ],
   "source": [
    "list6[5][0] = 2000\n",
    "print(list6)\n",
    "print(list7)"
   ]
  },
  {
   "cell_type": "markdown",
   "metadata": {},
   "source": [
    "# 选择排序方法"
   ]
  },
  {
   "cell_type": "code",
   "execution_count": 64,
   "metadata": {
    "collapsed": false,
    "scrolled": false
   },
   "outputs": [
    {
     "data": {
      "text/plain": [
       "[1, 2, 2, 3, 4, 98, 261]"
      ]
     },
     "execution_count": 64,
     "metadata": {},
     "output_type": "execute_result"
    }
   ],
   "source": [
    "list6 = [1, 3, 2, 98, 261, 2, 4]\n",
    "for i in range(len(list6)-1):\n",
    "    for j in range(i, len(list6)-1):\n",
    "        if list6[j] > list6[j+1]:\n",
    "            list6[j], list6[j+1] = list6[j+1], list6[j]\n",
    "list6    "
   ]
  },
  {
   "cell_type": "code",
   "execution_count": 86,
   "metadata": {
    "collapsed": false
   },
   "outputs": [
    {
     "data": {
      "text/plain": [
       "[1, 2, 4, 2, 98, 261, 3]"
      ]
     },
     "execution_count": 86,
     "metadata": {},
     "output_type": "execute_result"
    }
   ],
   "source": [
    "import random\n",
    "list6 = [1, 3, 2, 98, 261, 2, 4]\n",
    "random.shuffle(list6)\n",
    "list6"
   ]
  },
  {
   "cell_type": "markdown",
   "metadata": {},
   "source": [
    "# 匿名函数 在多维列表中的排序应用\n",
    "## list7.sort(key=lambda x : x[1])"
   ]
  },
  {
   "cell_type": "code",
   "execution_count": 62,
   "metadata": {
    "collapsed": false
   },
   "outputs": [
    {
     "data": {
      "text/plain": [
       "[['C', 23], ['B', 90], ['A', 129], ['D', 210]]"
      ]
     },
     "execution_count": 62,
     "metadata": {},
     "output_type": "execute_result"
    }
   ],
   "source": [
    "list7 = [['A', 129], ['B', 90], ['C', 23], ['D', 210]]\n",
    "list7.sort(key = lambda x : x[1])\n",
    "list7"
   ]
  },
  {
   "cell_type": "code",
   "execution_count": 81,
   "metadata": {
    "collapsed": false
   },
   "outputs": [
    {
     "data": {
      "text/plain": [
       "[['C', 23, ['ARR', 9]],\n",
       " ['D', 210, ['WY', 9]],\n",
       " ['A', 129, ['CV', 12]],\n",
       " ['B', 90, ['AB', 541]]]"
      ]
     },
     "execution_count": 81,
     "metadata": {},
     "output_type": "execute_result"
    }
   ],
   "source": [
    "list8 = [['A', 129, ['CV', 12]], ['B', 90, ['AB', 541]], ['C', 23, ['ARR', 9]], ['D', 210, ['WY', 9]]]\n",
    "list8.sort(key = lambda x : x[2][1])\n",
    "list8"
   ]
  },
  {
   "cell_type": "code",
   "execution_count": 65,
   "metadata": {
    "collapsed": false
   },
   "outputs": [
    {
     "data": {
      "text/plain": [
       "[['A', 129, ['CV', 12]],\n",
       " ['B', 90, ['AB', 541]],\n",
       " ['C', 23, ['ARR', 9]],\n",
       " ['D', 210, ['WY', 7]]]"
      ]
     },
     "execution_count": 65,
     "metadata": {},
     "output_type": "execute_result"
    }
   ],
   "source": [
    "list9 = [['A', 129, ['CV', 12]], ['B', 90, ['AB', 541]], ['C', 23, ['ARR', 9]], ['D', 210, ['WY', 7]]]\n",
    "list9.sort(key = lambda x : x[0])\n",
    "list9"
   ]
  },
  {
   "cell_type": "markdown",
   "metadata": {},
   "source": [
    "## 将字符串分割成列表\n",
    "- split  按照自定义的内容拆分"
   ]
  },
  {
   "cell_type": "markdown",
   "metadata": {},
   "source": [
    "## EP:\n",
    "![](../Photo/119.png)\n",
    "![](../Photo/120.png)"
   ]
  },
  {
   "cell_type": "markdown",
   "metadata": {},
   "source": [
    "## 列表的复制\n",
    "- copy 浅复制\n",
    "- deepcopy import copy  深复制\n",
    "- http://www.pythontutor.com/visualize.html#mode=edit"
   ]
  },
  {
   "cell_type": "markdown",
   "metadata": {},
   "source": [
    "## 列表排序\n",
    "- sort    直接在原始列表上进行排序更改\n",
    "- sorted  返回一个新列表\n",
    "- 列表的多级排序\n",
    "    - 匿名函数"
   ]
  },
  {
   "cell_type": "code",
   "execution_count": 68,
   "metadata": {
    "collapsed": false,
    "scrolled": true
   },
   "outputs": [
    {
     "data": {
      "text/plain": [
       "[['A', 129, ['CV', 12]],\n",
       " ['B', 90, ['AB', 541]],\n",
       " ['C', 23, ['ARR', 9]],\n",
       " ['D', 210, ['WY', 7]]]"
      ]
     },
     "execution_count": 68,
     "metadata": {},
     "output_type": "execute_result"
    }
   ],
   "source": [
    "list10 = [['A', 129, ['CV', 12]], ['B', 90, ['AB', 541]], ['C', 23, ['ARR', 9]], ['D', 210, ['WY', 7]]]\n",
    "sorted(list10, key = lambda x : x[0], reverse = False)   #sorted 生成一个新的列表"
   ]
  },
  {
   "cell_type": "code",
   "execution_count": 69,
   "metadata": {
    "collapsed": false,
    "scrolled": false
   },
   "outputs": [
    {
     "data": {
      "text/plain": [
       "[['D', 210, ['WY', 7]],\n",
       " ['C', 23, ['ARR', 9]],\n",
       " ['B', 90, ['AB', 541]],\n",
       " ['A', 129, ['CV', 12]]]"
      ]
     },
     "execution_count": 69,
     "metadata": {},
     "output_type": "execute_result"
    }
   ],
   "source": [
    "list10 = [['A', 129, ['CV', 12]], ['B', 90, ['AB', 541]], ['C', 23, ['ARR', 9]], ['D', 210, ['WY', 7]]]\n",
    "sorted(list10, key = lambda x : x[0], reverse = True)     #sorted 生成一个新的列表"
   ]
  },
  {
   "cell_type": "code",
   "execution_count": 88,
   "metadata": {
    "collapsed": false
   },
   "outputs": [
    {
     "data": {
      "text/plain": [
       "['a', 'b', 'c', 'd,e,f']"
      ]
     },
     "execution_count": 88,
     "metadata": {},
     "output_type": "execute_result"
    }
   ],
   "source": [
    "b5 = 'a,b,c,d,e,f'\n",
    "b5.split()\n",
    "b5.split(',', maxsplit = 3)"
   ]
  },
  {
   "cell_type": "markdown",
   "metadata": {},
   "source": [
    "## EP：\n",
    "- 手动排序该列表[5,3,8,0,17]，以升序或者降序"
   ]
  },
  {
   "cell_type": "code",
   "execution_count": 73,
   "metadata": {
    "collapsed": false
   },
   "outputs": [
    {
     "name": "stdout",
     "output_type": "stream",
     "text": [
      "[0, 1, 3, 5, 7, 8]\n"
     ]
    }
   ],
   "source": [
    "list1 = [5, 3, 8, 0, 1, 7]\n",
    "for i in range(len(list1)-1):\n",
    "    for j in range(0, len(list1)-i-1):\n",
    "        if list1[j] > list1[j+1]:\n",
    "            list1[j], list1[j+1] = list1[j+1], list1[j]\n",
    "print(list1)"
   ]
  },
  {
   "cell_type": "markdown",
   "metadata": {},
   "source": [
    "- 1\n",
    "![](../Photo/121.png)"
   ]
  },
  {
   "cell_type": "code",
   "execution_count": 107,
   "metadata": {
    "collapsed": false
   },
   "outputs": [
    {
     "name": "stdout",
     "output_type": "stream",
     "text": [
      "输入分数40\n",
      "输入分数55\n",
      "输入分数70\n",
      "输入分数58\n",
      "C\n",
      "B\n",
      "A\n",
      "B\n"
     ]
    }
   ],
   "source": [
    "scores_list = []\n",
    "for i in range(4):\n",
    "    scores_list.append(eval(input('输入分数')))\n",
    "best = max(scores_list)\n",
    "for score in scores_list:\n",
    "    if score >= (best-10):\n",
    "        level = 'A'\n",
    "    elif score >= (best-20):\n",
    "        level = 'B'\n",
    "    elif score >= (best-30):\n",
    "        level = 'C'\n",
    "    elif score >= (best-40):\n",
    "        level = 'D'\n",
    "    else:\n",
    "        level = 'F'\n",
    "    print(level)\n",
    "                "
   ]
  },
  {
   "cell_type": "markdown",
   "metadata": {},
   "source": [
    "### - 2\n",
    "![](../Photo/122.png)"
   ]
  },
  {
   "cell_type": "code",
   "execution_count": 110,
   "metadata": {
    "collapsed": false
   },
   "outputs": [
    {
     "name": "stdout",
     "output_type": "stream",
     "text": [
      "原始列表为： [0, 1, 2, 3, 4, 5, 6, 7, 8, 9]\n",
      "逆序后列表为： [9, 8, 7, 6, 5, 4, 3, 2, 1, 0]\n"
     ]
    }
   ],
   "source": [
    "num_list = [x for x in range(10)]\n",
    "new_list = []\n",
    "for i in range(len(num_list)):\n",
    "    new_list.append(num_list[len(num_list)-i-1])\n",
    "print('原始列表为：', num_list)\n",
    "print('逆序后列表为：', new_list)"
   ]
  },
  {
   "cell_type": "markdown",
   "metadata": {},
   "source": [
    "- 3\n",
    "![](../Photo/123.png)"
   ]
  },
  {
   "cell_type": "code",
   "execution_count": 121,
   "metadata": {
    "collapsed": false
   },
   "outputs": [
    {
     "name": "stdout",
     "output_type": "stream",
     "text": [
      "[8, 4, 2, 2, 2, 6, 10, 2, 2, 6, 5, 7, 9, 6, 6, 8, 3, 2, 3, 7, 8, 8, 1, 7, 1, 9, 8, 7, 5, 9]\n",
      "8出现了5次\n",
      "4出现了1次\n",
      "2出现了6次\n",
      "6出现了4次\n",
      "10出现了1次\n",
      "5出现了2次\n",
      "7出现了4次\n",
      "9出现了3次\n",
      "3出现了2次\n",
      "1出现了2次\n",
      "一共有30次\n"
     ]
    }
   ],
   "source": [
    "import random\n",
    "\n",
    "def count_num(num_list, num):\n",
    "    times = 0\n",
    "    for i in num_list:\n",
    "        if num == i:\n",
    "            times += 1\n",
    "    return times\n",
    "\n",
    "num_list = []\n",
    "for i in range(30):\n",
    "    num_list.append(random.randint(1,10))\n",
    "print(num_list)\n",
    "sums = 0\n",
    "list2 = []\n",
    "for i in range(len(num_list)):\n",
    "    if num_list[i] not in list2:\n",
    "        list2.append(num_list[i])\n",
    "        time = count_num(num_list, num_list[i])\n",
    "        print('%d出现了%d次' %(num_list[i], time))\n",
    "        sums += time\n",
    "print('一共有%d次' %sums)"
   ]
  },
  {
   "cell_type": "markdown",
   "metadata": {},
   "source": [
    "- 4\n",
    "![](../Photo/124.png)"
   ]
  },
  {
   "cell_type": "code",
   "execution_count": 128,
   "metadata": {
    "collapsed": false
   },
   "outputs": [
    {
     "name": "stdout",
     "output_type": "stream",
     "text": [
      "输入分数，以空格分隔89 23 45 12 90 3 56 45 78 92\n",
      "分数序列为 [89, 23, 45, 12, 90, 3, 56, 45, 78, 92]\n",
      "大于平均数的有5个，小于平均数的有5个，等于平均数的有0个\n"
     ]
    }
   ],
   "source": [
    "\n",
    "scores = input('输入分数，以空格分隔')\n",
    "scores_list = scores.split(' ')\n",
    "new_list = []\n",
    "for i in range(len(scores_list)):\n",
    "    new_list.append(int(scores_list[i]))\n",
    "def compute_num(scores_list):\n",
    "    average = sum(scores_list)/len(scores_list)\n",
    "    time1 = 0\n",
    "    time2 = 0\n",
    "    time3 = 0\n",
    "    for i in range(len(scores_list)):\n",
    "        if scores_list[i] > average:\n",
    "            time1 += 1\n",
    "        elif scores_list[i] < average:\n",
    "            time2 += 1\n",
    "        else:\n",
    "            time3 += 1\n",
    "    return time1, time2, time3\n",
    "time1, time2, time3 = compute_num(new_list) \n",
    "print('分数序列为', new_list)\n",
    "print('大于平均数的有%d个，小于平均数的有%d个，等于平均数的有%d个' %(time1, time2, time3))\n",
    "\n"
   ]
  },
  {
   "cell_type": "markdown",
   "metadata": {},
   "source": [
    "- 5\n",
    "![](../Photo/125.png)"
   ]
  },
  {
   "cell_type": "code",
   "execution_count": 135,
   "metadata": {
    "collapsed": false
   },
   "outputs": [
    {
     "name": "stdout",
     "output_type": "stream",
     "text": [
      "1000个随机数中0-9数字的个数为： [92, 110, 94, 100, 80, 110, 114, 97, 102, 101]\n",
      "1000\n"
     ]
    }
   ],
   "source": [
    "import random\n",
    "\n",
    "num_list = []\n",
    "for i in range(1000):\n",
    "    num_list.append(random.randint(0, 9))\n",
    "\n",
    "list2 = []\n",
    "list3 = []\n",
    "for i in range(0, 10):\n",
    "    list2.append(0)\n",
    "    list3.append(i)\n",
    "\n",
    "for i in range(len(num_list)):\n",
    "    for j in list3:\n",
    "        if num_list[i] == j:\n",
    "            list2[j] += 1\n",
    "        \n",
    "print('1000个随机数中0-9数字的个数为：',list2)\n",
    "print(sum(list2))"
   ]
  },
  {
   "cell_type": "markdown",
   "metadata": {},
   "source": [
    "- 6\n",
    "![](../Photo/126.png)"
   ]
  },
  {
   "cell_type": "code",
   "execution_count": 138,
   "metadata": {
    "collapsed": false
   },
   "outputs": [
    {
     "name": "stdout",
     "output_type": "stream",
     "text": [
      "输入分数，以空格分隔12 34 2 3 5 13 45 9 12\n",
      "列表中最小元素的下标为： 2\n"
     ]
    }
   ],
   "source": [
    "def indx_of_smallest_element(lst):\n",
    "    smallest = min(lst)\n",
    "    for i in range(len(lst)):\n",
    "        if smallest == lst[i]:\n",
    "            return i\n",
    "        \n",
    "scores = input('输入数字列表，以空格分隔')\n",
    "scores_list = scores.split(' ')\n",
    "new_list = []\n",
    "for i in range(len(scores_list)):\n",
    "    new_list.append(int(scores_list[i]))\n",
    "print(\"列表中最小元素的下标为：\" ,indx_of_smallest_element(new_list)) "
   ]
  },
  {
   "cell_type": "markdown",
   "metadata": {},
   "source": [
    "- 7\n",
    "![](../Photo/127.png)\n",
    "![](../Photo/128.png)"
   ]
  },
  {
   "cell_type": "code",
   "execution_count": 6,
   "metadata": {
    "collapsed": false
   },
   "outputs": [
    {
     "name": "stdout",
     "output_type": "stream",
     "text": [
      "输入数字列表，以空格分隔1 2 3 4 5 6 7 8 9 0\n",
      "随机打乱之后的列表为： [4, 9, 2, 3, 6, 5, 1, 0, 7, 8]\n"
     ]
    }
   ],
   "source": [
    "import random\n",
    "\n",
    "def shuffle(lst):\n",
    "    list1 = []\n",
    "    new_list1 = []\n",
    "    while True:\n",
    "        j = random.randint(1, len(lst))\n",
    "        if j not in list1:\n",
    "            list1.append(j)\n",
    "            new_list1.append(lst[j-1])\n",
    "        if len(new_list1) == len(lst):\n",
    "            break\n",
    "    return new_list1\n",
    "           \n",
    "scores = input('输入数字列表，以空格分隔')\n",
    "scores_list = scores.split(' ')\n",
    "new_list = []\n",
    "for i in range(len(scores_list)):\n",
    "    new_list.append(int(scores_list[i]))\n",
    "#new_list1 = shuffle(new_list)\n",
    "print('随机打乱之后的列表为：',shuffle(new_list))"
   ]
  },
  {
   "cell_type": "markdown",
   "metadata": {},
   "source": [
    "- 8\n",
    "![](../Photo/129.png)"
   ]
  },
  {
   "cell_type": "code",
   "execution_count": 7,
   "metadata": {
    "collapsed": false
   },
   "outputs": [
    {
     "name": "stdout",
     "output_type": "stream",
     "text": [
      "输入数字列表，以空格分隔1 2 3 1 2 4 5 6 3 4 5 6 2 3 7 6 9 10\n",
      "消除重复值之后返回的列表为： [1, 2, 3, 4, 5, 6, 7, 9, 10]\n"
     ]
    }
   ],
   "source": [
    "def eliminate_duplicates(lst):\n",
    "    lst_new = []\n",
    "    for i in range(len(lst)):\n",
    "        if lst[i] not in lst_new:\n",
    "            lst_new.append(lst[i])\n",
    "    return lst_new\n",
    "\n",
    "    \n",
    "scores = input('输入数字列表，以空格分隔')\n",
    "scores_list = scores.split(' ')\n",
    "new_list = []\n",
    "for i in range(len(scores_list)):\n",
    "    new_list.append(int(scores_list[i]))\n",
    "print('消除重复值之后返回的列表为：', eliminate_duplicates(new_list))"
   ]
  },
  {
   "cell_type": "markdown",
   "metadata": {},
   "source": [
    "- 9\n",
    "![](../Photo/130.png)"
   ]
  },
  {
   "cell_type": "code",
   "execution_count": 10,
   "metadata": {
    "collapsed": false
   },
   "outputs": [
    {
     "name": "stdout",
     "output_type": "stream",
     "text": [
      "输入数字列表，以空格分隔1 2 3 3 3 4 5 6\n",
      "列表已经排好序了\n"
     ]
    }
   ],
   "source": [
    "def is_sorted(lst):\n",
    "    tag = True\n",
    "    for i in range(len(lst)-1):\n",
    "        if lst[i] > lst[i+1]:\n",
    "            tag = False\n",
    "            break\n",
    "    return tag\n",
    "\n",
    "scores = input('输入数字列表，以空格分隔')\n",
    "scores_list = scores.split(' ')\n",
    "new_list = []\n",
    "for i in range(len(scores_list)):\n",
    "    new_list.append(int(scores_list[i]))\n",
    "if is_sorted(new_list) == True:\n",
    "    print('列表已经排好序了')\n",
    "else:\n",
    "    print('列表没有排好序')"
   ]
  },
  {
   "cell_type": "markdown",
   "metadata": {},
   "source": [
    "- 10\n",
    "![](../Photo/131.png)"
   ]
  },
  {
   "cell_type": "code",
   "execution_count": 30,
   "metadata": {
    "collapsed": false
   },
   "outputs": [
    {
     "name": "stdout",
     "output_type": "stream",
     "text": [
      "输入10个数字，以空格分隔12 13 45 23 56 12 1 48 30 1 3 4\n",
      "原始序列为： [12, 13, 45, 23, 56, 12, 1, 48, 30, 1, 3, 4]\n",
      "冒泡排序后的序列为： [1, 1, 3, 4, 12, 12, 13, 23, 30, 45, 48, 56]\n"
     ]
    }
   ],
   "source": [
    "def bubble_sort(alist):\n",
    "    n = len(alist)\n",
    "    for j in range(n - 1):\n",
    "        count = 0\n",
    "        for i in range(0, n - 1 - j):\n",
    "            if alist[i] > alist[i + 1]:\n",
    "                alist[i], alist[i + 1] = alist[i + 1], alist[i]\n",
    "                count += 1\n",
    "        if 0 == count:\n",
    "            break\n",
    "    return alist\n",
    "\n",
    "scores = input('输入10个数字，以空格分隔')\n",
    "scores_list = scores.split(' ')\n",
    "new_list = []\n",
    "for i in range(len(scores_list)):\n",
    "    new_list.append(int(scores_list[i]))\n",
    "print('原始序列为：',new_list)\n",
    "print('冒泡排序后的序列为：', bubble_sort(new_list))"
   ]
  },
  {
   "cell_type": "markdown",
   "metadata": {},
   "source": [
    "- 11\n",
    "![](../Photo/132.png)"
   ]
  },
  {
   "cell_type": "code",
   "execution_count": 31,
   "metadata": {
    "collapsed": false
   },
   "outputs": [
    {
     "name": "stdout",
     "output_type": "stream",
     "text": [
      "抽到的四张扑克为：\n",
      "方块6\n",
      "梅花5\n",
      "黑桃Q\n",
      "红桃9\n",
      "抽到四张不同花色扑克尝试的总次数为：7\n"
     ]
    }
   ],
   "source": [
    "import random\n",
    "def get_content(number):\n",
    "    color = None \n",
    "    NUM = None\n",
    "    if number > 39:\n",
    "        color = '红桃'\n",
    "    elif number > 26:\n",
    "        color = '黑桃'\n",
    "    elif number > 13:\n",
    "        color = '方块'\n",
    "    else:\n",
    "        color = '梅花'\n",
    "    if number % 13 == 0:\n",
    "        NUM = 'K'\n",
    "    elif number % 13 == 11:\n",
    "        NUM = 'J'\n",
    "    elif number % 13 == 12:\n",
    "        NUM = 'Q'\n",
    "    else:\n",
    "        NUM = str(number % 13)\n",
    "    return color, NUM\n",
    "\n",
    "\n",
    "list1 = []\n",
    "list2 = []\n",
    "times = 0\n",
    "while True:\n",
    "    times += 1\n",
    "    number = random.randint(1, 52)\n",
    "    color, NUM = get_content(number)\n",
    "    #print(color, NUM)\n",
    "    if color not in list1:\n",
    "        list1.append(color)\n",
    "        list2.append(NUM)    \n",
    "    if len(list1) == 4:\n",
    "        break\n",
    "\n",
    "print('抽到的四张扑克为：')\n",
    "for i in range(len(list1)):\n",
    "    print(list1[i]+list2[i])\n",
    "print('抽到四张不同花色扑克尝试的总次数为：%d' %times)"
   ]
  },
  {
   "cell_type": "markdown",
   "metadata": {},
   "source": [
    "- 12\n",
    "![](../Photo/133.png)"
   ]
  },
  {
   "cell_type": "code",
   "execution_count": 13,
   "metadata": {
    "collapsed": false
   },
   "outputs": [
    {
     "name": "stdout",
     "output_type": "stream",
     "text": [
      "输入数字列表，以空格分隔1 5 6 8 6 55 5 5 5 8\n",
      "抱歉，列表中不包含具有相同值的四个连续数字\n"
     ]
    }
   ],
   "source": [
    "def is_consecutive_four(values_list):\n",
    "    tag = False\n",
    "    for i in range(len(values_list)-3):\n",
    "        if (values_list[i]==values_list[i+1]) and (values_list[i+1]==values_list[i+2])\\\n",
    "        and (values_list[i+2]==values_list[i+3]):\n",
    "            tag = True\n",
    "    return tag\n",
    "        \n",
    "scores = input('输入数字列表，以空格分隔')\n",
    "scores_list = scores.split(' ')\n",
    "new_list = []\n",
    "for i in range(len(scores_list)):\n",
    "    new_list.append(int(scores_list[i]))\n",
    "if is_consecutive_four(new_list) == True:\n",
    "    print('列表中包含具有相同值的四个连续数字')\n",
    "else:\n",
    "    print('抱歉，列表中不包含具有相同值的四个连续数字')    "
   ]
  },
  {
   "cell_type": "code",
   "execution_count": null,
   "metadata": {
    "collapsed": true
   },
   "outputs": [],
   "source": []
  }
 ],
 "metadata": {
  "kernelspec": {
   "display_name": "Python 3",
   "language": "python",
   "name": "python3"
  },
  "language_info": {
   "codemirror_mode": {
    "name": "ipython",
    "version": 3
   },
   "file_extension": ".py",
   "mimetype": "text/x-python",
   "name": "python",
   "nbconvert_exporter": "python",
   "pygments_lexer": "ipython3",
   "version": "3.6.0"
  }
 },
 "nbformat": 4,
 "nbformat_minor": 2
}
