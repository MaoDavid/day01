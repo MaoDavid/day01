{
 "cells": [
  {
   "cell_type": "markdown",
   "metadata": {},
   "source": [
    "# 循环\n",
    "- 循环是一种控制语句块重复执行的结构\n",
    "- while  适用于广度遍历\n",
    "- for    开发中经常使用"
   ]
  },
  {
   "cell_type": "code",
   "execution_count": null,
   "metadata": {
    "collapsed": false
   },
   "outputs": [],
   "source": [
    "while True:\n",
    "    print('今天天气真好')"
   ]
  },
  {
   "cell_type": "code",
   "execution_count": null,
   "metadata": {
    "collapsed": true
   },
   "outputs": [],
   "source": [
    "import os\n",
    "    "
   ]
  },
  {
   "cell_type": "markdown",
   "metadata": {},
   "source": [
    "## while 循环\n",
    "- 当一个条件保持真的时候while循环重复执行语句\n",
    "- while 循环一定要有结束条件，否则很容易进入死循环\n",
    "- while 循环的语法是：\n",
    "\n",
    "    while loop-contunuation-conndition:\n",
    "\n",
    "        Statement"
   ]
  },
  {
   "cell_type": "code",
   "execution_count": null,
   "metadata": {
    "collapsed": false
   },
   "outputs": [],
   "source": [
    "i = 0\n",
    "while i < 10:\n",
    "    print('HEllo', i)\n",
    "    i += 1\n",
    "print(i)"
   ]
  },
  {
   "cell_type": "markdown",
   "metadata": {},
   "source": [
    "# 深度遍历 广度遍历\n",
    "- 网站访问  堆：先进后出 ，进来的方式A,C,E  出去的方式E、C、A   深度遍历，网站后台 \n",
    "- 广度遍历 栈：队列 先进先出 ，进来的方式A,C,E  出去的方式A,C,E  "
   ]
  },
  {
   "cell_type": "markdown",
   "metadata": {},
   "source": [
    "## 示例：\n",
    "sum = 0\n",
    "\n",
    "i = 1\n",
    "\n",
    "while i <10:\n",
    "\n",
    "    sum = sum + i\n",
    "    i = i + 1"
   ]
  },
  {
   "cell_type": "markdown",
   "metadata": {},
   "source": [
    "## 错误示例：\n",
    "sum = 0\n",
    "\n",
    "i = 1\n",
    "\n",
    "while i <10:\n",
    "\n",
    "    sum = sum + i\n",
    "\n",
    "i = i + 1\n",
    "- 一旦进入死循环可按 Ctrl + c 停止"
   ]
  },
  {
   "cell_type": "code",
   "execution_count": null,
   "metadata": {
    "collapsed": false
   },
   "outputs": [],
   "source": [
    "i = 1\n",
    "while i < 10:\n",
    "    if i % 2 == 0:\n",
    "        print(i)\n",
    "    i += 1"
   ]
  },
  {
   "cell_type": "markdown",
   "metadata": {},
   "source": [
    "## EP：\n",
    "![](../Photo/143.png)\n",
    "![](../Photo/144.png)"
   ]
  },
  {
   "cell_type": "code",
   "execution_count": null,
   "metadata": {
    "collapsed": false
   },
   "outputs": [],
   "source": [
    "num = eval(input('Enter an integer:'))\n",
    "maxnum = num\n",
    "\n",
    "while num != 0:\n",
    "    num = eval(input('Enter an integer:'))\n",
    "    if num > maxnum:\n",
    "        maxnum = num\n",
    "print('max is ', maxnum)"
   ]
  },
  {
   "cell_type": "code",
   "execution_count": null,
   "metadata": {
    "collapsed": false
   },
   "outputs": [],
   "source": [
    "import random\n",
    "\n",
    "while True:\n",
    "    num1 = random.randint(0, 100)\n",
    "    num2 = random.randint(0, 100)\n",
    "    sums = num1 + num2\n",
    "    print('计算%d + %d = ？' %(num1, num2))\n",
    "    answer = eval(input('answer = '))\n",
    "    if answer == sums:\n",
    "        print('回答正确\\n')\n",
    "        break\n",
    "    else:\n",
    "        print('回答错误，重新计算\\n')"
   ]
  },
  {
   "cell_type": "markdown",
   "metadata": {},
   "source": [
    "# 验证码\n",
    "- 随机产生四个字母的验证码，如果正确，输出验证码正确。如果错误，产生新的验证码，用户重新输入。\n",
    "- 验证码只能输入三次，如果三次都错，返回“别爬了，我们小网站没什么好爬的”\n",
    "- 密码登录，如果三次错误，账号被锁定\n"
   ]
  },
  {
   "cell_type": "code",
   "execution_count": null,
   "metadata": {
    "collapsed": false
   },
   "outputs": [],
   "source": [
    "import random\n",
    "\n",
    "alpList = list('ABCDEFGHIJKLMNOPQRSTUVWXYZ')\n",
    "#print(alpList)\n",
    "jishu = 0\n",
    "while True:\n",
    "    num1 = random.randint(0, len(alpList)-1)\n",
    "    num2 = random.randint(0, len(alpList)-1)\n",
    "    num3 = random.randint(0, len(alpList)-1)\n",
    "    num4 = random.randint(0, len(alpList)-1)\n",
    "    yanzh = alpList[num1] + alpList[num2] + alpList[num3] + alpList[num4] \n",
    "    print('验证码:' + yanzh )\n",
    "    \n",
    "    answer = input('answer = ')\n",
    "    if answer == yanzh:\n",
    "        print('验证码输入正确\\n')\n",
    "        break\n",
    "    else:\n",
    "        jishu += 1\n",
    "        print('验证码错误\\n')\n",
    "    if jishu >= 3 :\n",
    "        print('别爬了，我们小网站没什么好爬的')\n",
    "        strinput = input('输入 You are hansome, 可以继续访问')\n",
    "        str1 = 'You are hansome'\n",
    "        if  strinput == str1:\n",
    "            jishu = 0\n",
    "            pass\n",
    "        else:\n",
    "            print('不好意思，拒绝访问')\n",
    "            break"
   ]
  },
  {
   "cell_type": "markdown",
   "metadata": {},
   "source": [
    "\n",
    "## 尝试死循环"
   ]
  },
  {
   "cell_type": "markdown",
   "metadata": {},
   "source": [
    "## 实例研究：猜数字\n",
    "- 你将要编写一个能够随机生成一个0到10之间的且包括两者的数字程序，这个程序\n",
    "- 提示用户连续地输入数字直到正确，且提示用户输入的数字是过高还是过低"
   ]
  },
  {
   "cell_type": "markdown",
   "metadata": {},
   "source": [
    "## 使用哨兵值来控制循环\n",
    "- 哨兵值来表明输入的结束\n",
    "- ![](../Photo/54.png)"
   ]
  },
  {
   "cell_type": "markdown",
   "metadata": {},
   "source": [
    "## 警告\n",
    "![](../Photo/55.png)"
   ]
  },
  {
   "cell_type": "code",
   "execution_count": null,
   "metadata": {
    "collapsed": false
   },
   "outputs": [],
   "source": [
    "item = 1\n",
    "while item != 0:\n",
    "    item -= 0.1\n",
    "    print(item)"
   ]
  },
  {
   "cell_type": "markdown",
   "metadata": {},
   "source": [
    "## for 循环\n",
    "- Python的for 循环通过一个序列中的每个值来进行迭代\n",
    "- range(a,b,k)， a，b，k 必须为整数\n",
    "- a: start\n",
    "- b: end\n",
    "- k: step\n",
    "- 注意for 是循环一切可迭代对象，而不是只能使用range"
   ]
  },
  {
   "cell_type": "code",
   "execution_count": null,
   "metadata": {
    "collapsed": false
   },
   "outputs": [],
   "source": [
    "for i in [x for x in range(5)]:\n",
    "    print(i)"
   ]
  },
  {
   "cell_type": "markdown",
   "metadata": {},
   "source": [
    "# 在python中，一切都可以作为对象\n",
    "# dir() 查看对象的方法和属性"
   ]
  },
  {
   "cell_type": "code",
   "execution_count": null,
   "metadata": {
    "collapsed": true
   },
   "outputs": [],
   "source": [
    "a = 'abcd'\n",
    "dir(a)"
   ]
  },
  {
   "cell_type": "code",
   "execution_count": null,
   "metadata": {
    "collapsed": false
   },
   "outputs": [],
   "source": [
    "a = 'maomao'\n",
    "for i in a:\n",
    "    print(i)\n",
    "print('---------------')\n",
    "k = 0\n",
    "while k < len(a): \n",
    "    print(a[k])\n",
    "    k += 1"
   ]
  },
  {
   "cell_type": "markdown",
   "metadata": {},
   "source": [
    "## EP:\n",
    "- ![](../Photo/145.png)\n",
    "- 20以内 显示奇数和偶数的程序"
   ]
  },
  {
   "cell_type": "code",
   "execution_count": null,
   "metadata": {
    "collapsed": false
   },
   "outputs": [],
   "source": [
    "i = 0\n",
    "sums = 0\n",
    "for i in range(10000):\n",
    "    sums = sums + i\n",
    "    if sums >= 10000:\n",
    "        break\n",
    "    i += 1\n",
    "print(i)"
   ]
  },
  {
   "cell_type": "markdown",
   "metadata": {},
   "source": [
    "## 嵌套循环\n",
    "- 一个循环可以嵌套另一个循环\n",
    "- 每次循环外层时，内层循环都会被刷新重新完成循环\n",
    "- 注意：\n",
    "> - 多层循环非常耗时\n",
    "  - 最多使用3层循环"
   ]
  },
  {
   "cell_type": "markdown",
   "metadata": {},
   "source": [
    "## EP：\n",
    "- 使用多层循环完成9X9乘法表\n",
    "- 找出所有的水仙花数\n",
    "- 显示50以内所有的素数"
   ]
  },
  {
   "cell_type": "code",
   "execution_count": null,
   "metadata": {
    "collapsed": false
   },
   "outputs": [],
   "source": [
    "listmul = []\n",
    "i, j = 0, 0\n",
    "for i in range(1, 10):\n",
    "    for j in range(1, i+1):\n",
    "        print('%dx%d=%d' %(j, i, i*j), end = ' ')\n",
    "    print()"
   ]
  },
  {
   "cell_type": "code",
   "execution_count": null,
   "metadata": {
    "collapsed": true
   },
   "outputs": [],
   "source": [
    "listmul = []\n",
    "for i in range(1, 10):\n",
    "    for j in range(i, 10):\n",
    "        print('%dx%d=%d' %(i, j, i*j))"
   ]
  },
  {
   "cell_type": "code",
   "execution_count": null,
   "metadata": {
    "collapsed": true
   },
   "outputs": [],
   "source": [
    "for i in range(1,50):\n",
    "    if i ==1 or  i == 2:\n",
    "        print(i)\n",
    "    for j in range(2,i):\n",
    "        if i % j == 0:\n",
    "            break\n",
    "        if j == i-1:\n",
    "            print(i)\n",
    "        "
   ]
  },
  {
   "cell_type": "code",
   "execution_count": null,
   "metadata": {
    "collapsed": false
   },
   "outputs": [],
   "source": [
    "for i in range(1, 50):\n",
    "    if i == 1 or i ==2:\n",
    "        print(i)\n",
    "    for j in range(2, i):\n",
    "        if i % j == 0:\n",
    "            break\n",
    "        if j == i-1:\n",
    "            print(i)"
   ]
  },
  {
   "cell_type": "markdown",
   "metadata": {},
   "source": [
    "## 关键字 break 和 continue\n",
    "- break 跳出循环，终止循环\n",
    "- continue 跳出此次循环，继续执行"
   ]
  },
  {
   "cell_type": "markdown",
   "metadata": {},
   "source": [
    "## 注意\n",
    "![](../Photo/56.png)\n",
    "![](../Photo/57.png)"
   ]
  },
  {
   "cell_type": "markdown",
   "metadata": {},
   "source": [
    "# Homework\n",
    "- 1 \n",
    "![](../Photo/58.png)"
   ]
  },
  {
   "cell_type": "code",
   "execution_count": 12,
   "metadata": {
    "collapsed": false
   },
   "outputs": [
    {
     "name": "stdout",
     "output_type": "stream",
     "text": [
      "Enter an integer:1\n",
      "Enter an integer: 2\n",
      "Enter an integer: -1\n",
      "Enter an integer: 3\n",
      "Enter an integer: 0\n",
      "正数的个数为3\n",
      "负数的个数为1\n",
      "平均数为1.250000\n"
     ]
    }
   ],
   "source": [
    "num = eval(input('Enter an integer:'))\n",
    "sumNums, count1, count2 = 0, 0, 0\n",
    "\n",
    "while num != 0:\n",
    "    if num > 0:\n",
    "        count1 += 1\n",
    "    else:\n",
    "        count2 += 1\n",
    "    sumNums += num\n",
    "    num = eval(input('Enter an integer: '))\n",
    "average = sumNums / (count1 + count2)\n",
    "print('正数的个数为' + str(count1))\n",
    "print('负数的个数为' + str(count2))\n",
    "print('平均数为%.6f' %average)"
   ]
  },
  {
   "cell_type": "markdown",
   "metadata": {},
   "source": [
    "- 2\n",
    "![](../Photo/59.png)"
   ]
  },
  {
   "cell_type": "code",
   "execution_count": 11,
   "metadata": {
    "collapsed": false
   },
   "outputs": [
    {
     "name": "stdout",
     "output_type": "stream",
     "text": [
      "第1年学费为10500.0\n",
      "第2年学费为11025.0\n",
      "第3年学费为11576.250000000002\n",
      "第4年学费为12155.062500000002\n",
      "第5年学费为12762.815625000003\n",
      "第6年学费为13400.956406250005\n",
      "第7年学费为14071.004226562505\n",
      "第8年学费为14774.55443789063\n",
      "第9年学费为15513.282159785162\n",
      "第10年学费为16288.94626777442\n",
      "十年之后的学费为16288.94626777442\n",
      "从现在开始到大学四年的总学费为132067.87162326273\n"
     ]
    }
   ],
   "source": [
    "fun = 10000\n",
    "rate = 0.05\n",
    "totalFun = 0\n",
    "funList = []\n",
    "for i in range(0, 10):\n",
    "    totalFun += fun * ((1 + rate) ** (i + 1))\n",
    "    print('第%d年学费为' %(i+1) + str(fun * ((1 + rate) ** (i + 1))))\n",
    "print('十年之后的学费为' + str(fun * ((1 + rate) ** (i + 1))))\n",
    "print('从现在开始到大学四年的总学费为' + str(totalFun)) "
   ]
  },
  {
   "cell_type": "markdown",
   "metadata": {},
   "source": [
    "- 3\n",
    "![](../Photo/58.png)"
   ]
  },
  {
   "cell_type": "code",
   "execution_count": 18,
   "metadata": {
    "collapsed": false
   },
   "outputs": [
    {
     "name": "stdout",
     "output_type": "stream",
     "text": [
      "Enter an integer:1\n",
      "Enter an integer: 2\n",
      "Enter an integer: -1\n",
      "Enter an integer: -1\n",
      "Enter an integer: 0\n",
      "正数的个数为2\n",
      "负数的个数为2\n",
      "平均数为0.250000\n"
     ]
    }
   ],
   "source": [
    "num = eval(input('Enter an integer:'))\n",
    "sumNums, count1, count2 = 0, 0, 0\n",
    "\n",
    "while num != 0:\n",
    "    if num > 0:\n",
    "        count1 += 1\n",
    "    else:\n",
    "        count2 += 1\n",
    "    sumNums += num\n",
    "    num = eval(input('Enter an integer: '))\n",
    "average = sumNums / (count1 + count2)\n",
    "print('正数的个数为' + str(count1))\n",
    "print('负数的个数为' + str(count2))\n",
    "print('平均数为%.6f' %average)"
   ]
  },
  {
   "cell_type": "markdown",
   "metadata": {},
   "source": [
    "- 4\n",
    "![](../Photo/60.png)"
   ]
  },
  {
   "cell_type": "code",
   "execution_count": 10,
   "metadata": {
    "collapsed": false
   },
   "outputs": [
    {
     "name": "stdout",
     "output_type": "stream",
     "text": [
      "100到1000之间所有能被5和6同时整除的数如下：\n",
      "120 150 180 210 240 270 300 330 360 390\n",
      "420 450 480 510 540 570 600 630 660 690\n",
      "720 750 780 810 840 870 900 930 960 990\n"
     ]
    }
   ],
   "source": [
    "numList = [ ]\n",
    "for i in range(100, 1000):\n",
    "    if i%5==0 and i%6==0:\n",
    "        numList.append(i)\n",
    "print('100到1000之间所有能被5和6同时整除的数如下：')\n",
    "for i in range(0, len(numList)):\n",
    "    if (i+1)%10 == 0:\n",
    "        print(numList[i], end = '\\n')\n",
    "    else:\n",
    "        print(numList[i], end = ' ')\n",
    "        "
   ]
  },
  {
   "cell_type": "markdown",
   "metadata": {},
   "source": [
    "- 5\n",
    "![](../Photo/61.png)"
   ]
  },
  {
   "cell_type": "code",
   "execution_count": 9,
   "metadata": {
    "collapsed": false
   },
   "outputs": [
    {
     "name": "stdout",
     "output_type": "stream",
     "text": [
      "最小的满足n^2>12000的整数为110\n",
      "最大的满足n^3<12000的整数为22\n"
     ]
    }
   ],
   "source": [
    "mink = 0\n",
    "while True:\n",
    "    if mink**2 > 12000:\n",
    "        break\n",
    "    else:\n",
    "        mink +=1\n",
    "print('最小的满足n^2>12000的整数为%d' %mink)\n",
    "\n",
    "maxk = 0\n",
    "while True:\n",
    "    if maxk**3 < 12000 and (maxk+1)**3 >= 12000:\n",
    "        break\n",
    "    else:\n",
    "        maxk +=1\n",
    "print('最大的满足n^3<12000的整数为%d' %maxk)\n"
   ]
  },
  {
   "cell_type": "markdown",
   "metadata": {},
   "source": [
    "- 6\n",
    "![](../Photo/62.png)"
   ]
  },
  {
   "cell_type": "code",
   "execution_count": 17,
   "metadata": {
    "collapsed": false
   },
   "outputs": [
    {
     "name": "stdout",
     "output_type": "stream",
     "text": [
      "输入贷款总额：10000\n",
      "输入贷款周期（年）：5\n",
      "利率为0.050000的月还款额为1063.567969，总还款额为12762.815625\n",
      "利率为0.051250的月还款额为1069.913822，总还款额为12838.965860\n",
      "利率为0.052500的月还款额为1076.289929，总还款额为12915.479147\n",
      "利率为0.053750的月还款额为1082.696398，总还款额为12992.356781\n",
      "利率为0.055000的月还款额为1089.133339，总还款额为13069.600064\n",
      "利率为0.056250的月还款额为1095.600858，总还款额为13147.210297\n",
      "利率为0.057500的月还款额为1102.099066，总还款额为13225.188787\n",
      "利率为0.058750的月还款额为1108.628070，总还款额为13303.536843\n",
      "利率为0.060000的月还款额为1115.187981，总还款额为13382.255776\n",
      "利率为0.061250的月还款额为1121.778908，总还款额为13461.346902\n",
      "利率为0.062500的月还款额为1128.400962，总还款额为13540.811539\n",
      "利率为0.063750的月还款额为1135.054251，总还款额为13620.651008\n",
      "利率为0.065000的月还款额为1141.738886，总还款额为13700.866634\n",
      "利率为0.066250的月还款额为1148.454979，总还款额为13781.459745\n",
      "利率为0.067500的月还款额为1155.202639，总还款额为13862.431671\n",
      "利率为0.068750的月还款额为1161.981979，总还款额为13943.783746\n",
      "利率为0.070000的月还款额为1168.793109，总还款额为14025.517307\n",
      "利率为0.071250的月还款额为1175.636141，总还款额为14107.633694\n",
      "利率为0.072500的月还款额为1182.511188，总还款额为14190.134251\n",
      "利率为0.073750的月还款额为1189.418360，总还款额为14273.020324\n",
      "利率为0.075000的月还款额为1196.357772，总还款额为14356.293262\n",
      "利率为0.076250的月还款额为1203.329535，总还款额为14439.954418\n",
      "利率为0.077500的月还款额为1210.333762，总还款额为14524.005148\n",
      "利率为0.078750的月还款额为1217.370568，总还款额为14608.446810\n",
      "利率为0.080000的月还款额为1224.440064，总还款额为14693.280768\n"
     ]
    }
   ],
   "source": [
    "def computeNum(rate, loanAmount, numYears):\n",
    "    totalPayment = loanAmount * ((1+rate)**numYears)\n",
    "    return totalPayment\n",
    "\n",
    "loanAmount = eval(input('输入贷款总额：'))\n",
    "numYears =  eval(input('输入贷款周期（年）：'))\n",
    "for i in range(0, 25):\n",
    "    rate = 0.05 + i*0.00125\n",
    "    totalPay = computeNum(rate, loanAmount, numYears)\n",
    "    print('利率为%f的月还款额为%f，总还款额为%f' %(rate, totalPay/12, totalPay))"
   ]
  },
  {
   "cell_type": "markdown",
   "metadata": {},
   "source": [
    "- 7\n",
    "![](../Photo/63.png)"
   ]
  },
  {
   "cell_type": "code",
   "execution_count": 8,
   "metadata": {
    "collapsed": false
   },
   "outputs": [
    {
     "name": "stdout",
     "output_type": "stream",
     "text": [
      "从左到右的计算结果为9.09450885298440425686\n",
      "从右到左的计算结果为9.09450885298442912585\n"
     ]
    }
   ],
   "source": [
    "sum1, sum2 = 0, 0\n",
    "for i in range(5000):\n",
    "    sum1 += 1/(1+i)\n",
    "for j in range(5000, 0, -1):\n",
    "    sum2 += 1/j\n",
    "print('从左到右的计算结果为%.20f' %sum1 )\n",
    "print('从右到左的计算结果为%.20f' %sum2 )"
   ]
  },
  {
   "cell_type": "markdown",
   "metadata": {},
   "source": [
    "- 8\n",
    "![](../Photo/64.png)"
   ]
  },
  {
   "cell_type": "code",
   "execution_count": 7,
   "metadata": {
    "collapsed": false
   },
   "outputs": [
    {
     "name": "stdout",
     "output_type": "stream",
     "text": [
      "计算结果为：45.124450303050196\n"
     ]
    }
   ],
   "source": [
    "totalSum = 0\n",
    "for i in range(1, 98, 2):\n",
    "    j = i + 2\n",
    "    totalSum += i/j\n",
    "    #print(('%d/%d' %(i, j)))\n",
    "print('计算结果为：'+ str(totalSum))"
   ]
  },
  {
   "cell_type": "markdown",
   "metadata": {},
   "source": [
    "- 9\n",
    "![](../Photo/65.png)"
   ]
  },
  {
   "cell_type": "code",
   "execution_count": 6,
   "metadata": {
    "collapsed": false
   },
   "outputs": [
    {
     "name": "stdout",
     "output_type": "stream",
     "text": [
      "i=10000时pi的计算结果为：3.14149265359003448950\n",
      "i=20000时pi的计算结果为：3.14154265358982476286\n",
      "i=30000时pi的计算结果为：3.14155932025646178474\n",
      "i=40000时pi的计算结果为：3.14156765358979850333\n",
      "i=50000时pi的计算结果为：3.14157265358978143865\n",
      "i=60000时pi的计算结果为：3.14157598692310191524\n",
      "i=70000时pi的计算结果为：3.14157836787548205848\n",
      "i=80000时pi的计算结果为：3.14158015358974962439\n",
      "i=90000时pi的计算结果为：3.14158154247862375641\n",
      "i=100000时pi的计算结果为：3.14158265358971977577\n"
     ]
    }
   ],
   "source": [
    "def computePai(precise):\n",
    "    pai = 0\n",
    "    for i in range(1, precise+1):\n",
    "        pai += (-1)**(i+1)/(2*i-1)\n",
    "    pai = 4 * pai\n",
    "    return pai\n",
    "\n",
    "for i in range(10000, 100000+1, 10000):\n",
    "    print('i=%d时pi的计算结果为：%.20f' %(i, computePai(i)))"
   ]
  },
  {
   "cell_type": "markdown",
   "metadata": {},
   "source": [
    "- 10 \n",
    "![](../Photo/66.png)"
   ]
  },
  {
   "cell_type": "code",
   "execution_count": 5,
   "metadata": {
    "collapsed": false
   },
   "outputs": [
    {
     "name": "stdout",
     "output_type": "stream",
     "text": [
      "6是一个完全数\n",
      "28是一个完全数\n",
      "496是一个完全数\n",
      "8128是一个完全数\n",
      "10000以内的完全数包括 [6, 28, 496, 8128]\n"
     ]
    }
   ],
   "source": [
    "str1 = []\n",
    "for k in range(1, 10000):\n",
    "    sumk = 0\n",
    "    for i in range(1, k):\n",
    "        if k%i == 0:\n",
    "            sumk += i\n",
    "    if sumk != 1 and sumk == k:\n",
    "        str1.append(k) \n",
    "        print('%d是一个完全数' %k)\n",
    "print('10000以内的完全数包括', str(str1))"
   ]
  },
  {
   "cell_type": "markdown",
   "metadata": {},
   "source": [
    "- 11\n",
    "![](../Photo/67.png)"
   ]
  },
  {
   "cell_type": "code",
   "execution_count": 4,
   "metadata": {
    "collapsed": false
   },
   "outputs": [
    {
     "name": "stdout",
     "output_type": "stream",
     "text": [
      "从1到7的整数中选取两个整数的所有可能组合为\n",
      " ['12', '13', '14', '15', '16', '17', '23', '24', '25', '26', '27', '34', '35', '36', '37', '45', '46', '47', '56', '57', '67']\n",
      "从1到7的整数中选取两个整数的所有可能组合个数为 21\n"
     ]
    }
   ],
   "source": [
    "coNum = 0\n",
    "coList = []\n",
    "for i in range(1, 8):\n",
    "    for j in range(1, 8):\n",
    "        if j != i and (str(j)+str(i) not in coList):\n",
    "            coList.append(str(i)+str(j))\n",
    "            coNum += 1\n",
    "print('从1到7的整数中选取两个整数的所有可能组合为\\n',coList)\n",
    "print('从1到7的整数中选取两个整数的所有可能组合个数为', coNum)\n",
    "        "
   ]
  },
  {
   "cell_type": "markdown",
   "metadata": {},
   "source": [
    "- 12\n",
    "![](../Photo/68.png)"
   ]
  },
  {
   "cell_type": "code",
   "execution_count": 3,
   "metadata": {
    "collapsed": false
   },
   "outputs": [
    {
     "name": "stdout",
     "output_type": "stream",
     "text": [
      "输入10个数字：\n",
      "1\n",
      "2\n",
      "3\n",
      "5.5\n",
      "5.6\n",
      "6\n",
      "7\n",
      "8\n",
      "9\n",
      "10\n",
      "平均值为 5.71\n",
      "标准差为 2.9733819129065813\n"
     ]
    }
   ],
   "source": [
    "numList1 = []\n",
    "print('输入10个数字：')\n",
    "\n",
    "sumNum2 = 0\n",
    "count = 0\n",
    "for i in range(10):\n",
    "    k = eval(input())\n",
    "    numList1.append(k)\n",
    "    count += 1\n",
    "average = sum(numList1)/count\n",
    "\n",
    "print('平均值为', average)\n",
    "for j in range(10):\n",
    "    sumNum2 += (numList1[j]-average)**2\n",
    "std = (sumNum2/9)**0.5\n",
    "print('标准差为',std)"
   ]
  }
 ],
 "metadata": {
  "kernelspec": {
   "display_name": "Python 3",
   "language": "python",
   "name": "python3"
  },
  "language_info": {
   "codemirror_mode": {
    "name": "ipython",
    "version": 3
   },
   "file_extension": ".py",
   "mimetype": "text/x-python",
   "name": "python",
   "nbconvert_exporter": "python",
   "pygments_lexer": "ipython3",
   "version": "3.6.0"
  }
 },
 "nbformat": 4,
 "nbformat_minor": 2
}
