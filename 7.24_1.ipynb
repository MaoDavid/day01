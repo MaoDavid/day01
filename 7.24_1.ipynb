{
 "cells": [
  {
   "cell_type": "markdown",
   "metadata": {},
   "source": [
    "# 更多字符串和特殊方法\n",
    "- 前面我们已经学了类，在Python中还有一些特殊的方法起着非常重要的作用，这里会介绍一些特殊的方法和运算符的重载，以及使用特殊方法设计类"
   ]
  },
  {
   "cell_type": "code",
   "execution_count": 3,
   "metadata": {
    "collapsed": false
   },
   "outputs": [
    {
     "name": "stdout",
     "output_type": "stream",
     "text": [
      "陈萌,010-116321,M,19000101,北京市海淀区苏州街3号大恒科技大厦北座6层,100080,10116,010-82808028,010-82828028-208,chenmeng@dist.com.cn,0\n",
      "\n",
      "贾新格,0282,M,19000101,河北省石家庄栾城县城南一公里,051430,13831193762,0311-88030066,0311-88030088,info@shineway.com,0\n",
      "\n",
      "李锦花,010-125321,F,19000101,北京市海淀区蓝靛厂南路25号牛顿办公区南座6层,100097,10125,010-88400202,010-88400260,\n",
      "\n",
      "张俊莲,010-130321,F,19000101,北京市三环东路11号北京中医药大学京港湾宾馆239房间,100029,10130,010-51292052/3-802,010-51292052/3-811,zjl1008@sina.com,\n",
      "\n",
      "曹守月,010-142321,F,19000101,北京市丰台区定安东里18号楼4门4031室,100007,10142,010-67687044,010-67687044,baiguoshouyue@sina.com ,\n",
      "\n",
      "杨立华,010-186321,F,19000101,北京市朝阳区大屯路风林西奥中心A座8D,100101,13942697025,010-64869596/0411-668895950,0411-66885195,anna_yang@roiland.com,\n",
      "\n",
      "戴影兰,021-044321,M,19000101,上海金桥出口加工区云桥路280号,201206,21044,021-28995000*208,021-50315077,jane.dai@parker.com,\n",
      "\n",
      "赵国良,021-127321,M,19000101,上海市虹口区银欣路38号麒麟大厦607室,200008,21127,021-55150244,021-55150344,\n",
      "\n",
      "朱晨弘,021-151321,F,19000101,上海莘庄光华路968号,201108,21151,021-61451188,021-61452602,reception.china@eurotherm.com ,\n",
      "\n",
      "邬佳丽,021-166321,F,19000101,上海市徐汇区虹桥路808号加华上午中心A-8510,200030,21166,021-64481180-105,021-64479122,wujiali@scaltex.cn ,\n",
      "\n",
      "孙恒,021-215321,M,19000101,上海市浦东新区张江中心路218弄66号2楼,201210,13918381512,021-50202418,021-50200908,sunheng@jrseac.com,\n",
      "\n",
      "王莹,021-224321,F,19000101,上海市嘉定区封浜宝园五路301号,201812,21224,021-69136448/247,021-69136466,y.wang@argus.net.cn,\n",
      "\n",
      "张彗,021-243321,F,19000101,上海市浦东蛾山路91弄120号浦东软件园8号楼8楼,200127,21243,021-68860643*8103,021-68861316,yvonne.zhang@cn.bureauveritas.com ,\n",
      "\n",
      "蒋昭红,021-293321,F,19000101,上海市西康路223号南三楼,200040,13801837369,021-62476887,021-62792565,jiangzhaohong@51shsd.com,\n",
      "\n",
      "陈瑶,021-345321,M,19000101,上海市徐汇区中山西路1800号21楼J1座,200235,21345,021-64400575,021-64400575-808,\n",
      "\n",
      "张峥,027-108321,F,19000101,湖北省武汉市东湖高新区武大科技园,430223,27108,027-87196373,027-87196377,zhangz@hbsanhuan.com.cn ,\n",
      "\n",
      "冯彬玲,029-107321,F,19000101,西安市科技二路68号西安软件园汉韵阁B座101,710075,29107,029-87669400-211,029-87669400-213,sarah_feng@newsoft.com.cn ,\n",
      "\n",
      "叶鹏来,0510-106321,M,19000101,江苏省无锡市锡山区北环路118号,214191,510106,0510-81018859,0510-81018856,ypl@bcstainless.com ,\n",
      "\n",
      "陈曦,0531-101321,F,19000101,山东济南千佛东路41-1号,250014,531101,0531-82963478*6350,0531-82961844,chen_xi@cvicse.com,\n",
      "\n",
      "王惠兰,0571-120321,F,19000101,浙江省杭州市萧山区南阳经济技术开发区,311227,571120,0571-22817277,0571-22817353,amanda@ztex.cn ,\n",
      "\n"
     ]
    }
   ],
   "source": [
    "file_path = \"D:\\\\softwares\\\\kaifangX.txt\"\n",
    "with open(file_path, mode = 'r', encoding = 'gbk', errors = 'ignor') as f:  # errors = 'ignor'  编码不成功强制编码\n",
    "    for i in range(20):\n",
    "        print(f.readline())"
   ]
  },
  {
   "cell_type": "code",
   "execution_count": 105,
   "metadata": {
    "collapsed": false
   },
   "outputs": [
    {
     "name": "stdout",
     "output_type": "stream",
     "text": [
      "第795780行查到，\n",
      "张娟,140102196205041284,F,19620504,山西省太原市迎泽区水西关南街15号院2号楼3单元11号,\n",
      "\n"
     ]
    }
   ],
   "source": [
    "file_path = \"D:/softwares/kaifangX.txt\"\n",
    "str1 = '张娟'\n",
    "str2 = '山西'\n",
    "#with open(file_path, mode = 'r', encoding = 'gbk', errors = 'ignor') as f:  # errors = 'ignor'  编码不成功强制编码\n",
    "with open(file_path, mode = 'r', encoding = 'gbk', errors = 'ignore') as f:   \n",
    "    linenum = 0\n",
    "    while True:\n",
    "        oneline = f.readline()\n",
    "        linenum += 1\n",
    "        if oneline.find(str1) != -1 and oneline.find(str2) != -1:\n",
    "            print('第%d行查到，' %linenum)\n",
    "            print(oneline)\n",
    "            break\n",
    "        \n"
   ]
  },
  {
   "cell_type": "code",
   "execution_count": 113,
   "metadata": {
    "collapsed": false,
    "scrolled": true
   },
   "outputs": [
    {
     "name": "stdout",
     "output_type": "stream",
     "text": [
      "['陈萌', '010-116321', 'M', '19000101', '北京市海淀区苏州街3号大恒科技大厦北座6层', '100080', '10116', '010-82808028', '010-82828028-208', 'chenmeng@dist.com.cn', '0\\n']\n",
      "['贾新格', '0282', 'M', '19000101', '河北省石家庄栾城县城南一公里', '051430', '13831193762', '0311-88030066', '0311-88030088', 'info@shineway.com', '0\\n']\n",
      "['李锦花', '010-125321', 'F', '19000101', '北京市海淀区蓝靛厂南路25号牛顿办公区南座6层', '100097', '10125', '010-88400202', '010-88400260', '\\n']\n",
      "['张俊莲', '010-130321', 'F', '19000101', '北京市三环东路11号北京中医药大学京港湾宾馆239房间', '100029', '10130', '010-51292052/3-802', '010-51292052/3-811', 'zjl1008@sina.com', '\\n']\n",
      "['曹守月', '010-142321', 'F', '19000101', '北京市丰台区定安东里18号楼4门4031室', '100007', '10142', '010-67687044', '010-67687044', 'baiguoshouyue@sina.com ', '\\n']\n"
     ]
    }
   ],
   "source": [
    "import re\n",
    "\n",
    "reEmail= r'^[a-zA-Z0-9_-]+(\\.[a-zA-Z0-9_-]+){0,19}@[0-9a-zA-Z]{1,13}\\.[com,cn,net]{1,4}$'\n",
    "file_path = \"D:\\\\softwares\\\\kaifangX.txt\"\n",
    "str = []\n",
    "with open(file_path, mode = 'r', encoding = 'gbk', errors = 'ignor') as f:  \n",
    "    for i in range(5):\n",
    "        str1 = f.readline()\n",
    "        strlist = str1.split(',')\n",
    "        print(strlist)\n",
    "#         for j in range(len(strlist)):\n",
    "#             if re.match(reEmail, strlist[j]) == True:\n",
    "#                 print(strlist[j])"
   ]
  },
  {
   "cell_type": "markdown",
   "metadata": {},
   "source": [
    "## str 类\n",
    "- 一个str对象是不可变的，也就是说，一旦创建了这个字符串，那么它的内容在认为不改变的情况下是不会变的\n",
    "- s1 = str()\n",
    "- s2 = str('welcome to Python')"
   ]
  },
  {
   "cell_type": "code",
   "execution_count": 1,
   "metadata": {
    "collapsed": false
   },
   "outputs": [
    {
     "data": {
      "text/plain": [
       "'Joker'"
      ]
     },
     "execution_count": 1,
     "metadata": {},
     "output_type": "execute_result"
    }
   ],
   "source": [
    "str('Joker')"
   ]
  },
  {
   "cell_type": "code",
   "execution_count": 34,
   "metadata": {
    "collapsed": true
   },
   "outputs": [],
   "source": [
    "class test():\n",
    "    def __init__(self, p):\n",
    "        self.p = p\n",
    "    def __str__(self):\n",
    "        return 'David {}'.format(self.p)"
   ]
  },
  {
   "cell_type": "code",
   "execution_count": 35,
   "metadata": {
    "collapsed": false
   },
   "outputs": [
    {
     "data": {
      "text/plain": [
       "'David 123.4'"
      ]
     },
     "execution_count": 35,
     "metadata": {},
     "output_type": "execute_result"
    }
   ],
   "source": [
    "test(123.4).__str__()    #重载运算"
   ]
  },
  {
   "cell_type": "code",
   "execution_count": 36,
   "metadata": {
    "collapsed": false,
    "scrolled": true
   },
   "outputs": [
    {
     "name": "stdout",
     "output_type": "stream",
     "text": [
      "<class '__main__.test'>\n",
      "David 200.0\n"
     ]
    },
    {
     "data": {
      "text/plain": [
       "str"
      ]
     },
     "execution_count": 36,
     "metadata": {},
     "output_type": "execute_result"
    }
   ],
   "source": [
    "a = test(200.0)\n",
    "print(type(a))\n",
    "print(a.__str__())\n",
    "type(a.__str__())"
   ]
  },
  {
   "cell_type": "code",
   "execution_count": 37,
   "metadata": {
    "collapsed": true
   },
   "outputs": [],
   "source": [
    "class test2():\n",
    "    def __init__(self, p):\n",
    "        self.p = p\n",
    "    def __add__(self):\n",
    "        return 'David%s' %self.p"
   ]
  },
  {
   "cell_type": "code",
   "execution_count": 38,
   "metadata": {
    "collapsed": false
   },
   "outputs": [
    {
     "data": {
      "text/plain": [
       "'David100'"
      ]
     },
     "execution_count": 38,
     "metadata": {},
     "output_type": "execute_result"
    }
   ],
   "source": [
    "b = test2('100')\n",
    "b.__add__()"
   ]
  },
  {
   "cell_type": "code",
   "execution_count": 43,
   "metadata": {
    "collapsed": false
   },
   "outputs": [
    {
     "name": "stdout",
     "output_type": "stream",
     "text": [
      "8\n",
      "e\n",
      "t\n",
      "j-o-e-k-r-t-t-t-"
     ]
    }
   ],
   "source": [
    "a = 'joekrttt'\n",
    "print(len(a))\n",
    "print(min(a))\n",
    "print(max(a))\n",
    "for i in range(len(a)):\n",
    "    print(a[i], end = '-')"
   ]
  },
  {
   "cell_type": "code",
   "execution_count": 59,
   "metadata": {
    "collapsed": false
   },
   "outputs": [
    {
     "data": {
      "text/plain": [
       "'陈萌,010-116321,M,19000101,北京市海淀区苏州街3号大恒科技大厦北座6层,100080,10116,010-82808028,010-82828028-208,chenmeng@dist.com.cn,0\\n*贾新格,0282,M,19000101,河北省石家庄栾城县城南一公里,051430,13831193762,0311-88030066,0311-88030088,info@shineway.com,0\\n*李锦花,010-125321,F,19000101,北京市海淀区蓝靛厂南路25号牛顿办公区南座6层,100097,10125,010-88400202,010-88400260,\\n*张俊莲,010-130321,F,19000101,北京市三环东路11号北京中医药大学京港湾宾馆239房间,100029,10130,010-51292052/3-802,010-51292052/3-811,zjl1008@sina.com,\\n*曹守月,010-142321,F,19000101,北京市丰台区定安东里18号楼4门4031室,100007,10142,010-67687044,010-67687044,baiguoshouyue@sina.com ,\\n'"
      ]
     },
     "execution_count": 59,
     "metadata": {},
     "output_type": "execute_result"
    }
   ],
   "source": [
    "file_path = \"D:\\\\softwares\\\\kaifangX.txt\"\n",
    "\n",
    "with open(file_path, mode = 'r', encoding = 'gbk', errors = 'ignor') as f:  # errors = 'ignor'  编码不成功强制编码\n",
    "    str1 = f.readline()\n",
    "    str2 = f.readline()\n",
    "    str3 = f.readline()\n",
    "    str4 = f.readline()\n",
    "    str5 = f.readline()\n",
    "'*'.join((str1, str2, str3, str4, str5))"
   ]
  },
  {
   "cell_type": "code",
   "execution_count": 62,
   "metadata": {
    "collapsed": false
   },
   "outputs": [
    {
     "data": {
      "text/plain": [
       "'陈萌,010-116321,M,19000101,北京市海淀区苏州街3号大恒科技大厦北座6层,100080,10116,010-82808028,010-82828028-208,chenmeng@dist.com.cn,0\\n*贾新格,0282,M,19000101,河北省石家庄栾城县城南一公里,051430,13831193762,0311-88030066,0311-88030088,info@shineway.com,0\\n*李锦花,010-125321,F,19000101,北京市海淀区蓝靛厂南路25号牛顿办公区南座6层,100097,10125,010-88400202,010-88400260,\\n*张俊莲,010-130321,F,19000101,北京市三环东路11号北京中医药大学京港湾宾馆239房间,100029,10130,010-51292052/3-802,010-51292052/3-811,zjl1008@sina.com,\\n*曹守月,010-142321,F,19000101,北京市丰台区定安东里18号楼4门4031室,100007,10142,010-67687044,010-67687044,baiguoshouyue@sina.com ,\\n'"
      ]
     },
     "execution_count": 62,
     "metadata": {},
     "output_type": "execute_result"
    }
   ],
   "source": [
    "file_path = \"D:\\\\softwares\\\\kaifangX.txt\"\n",
    "str1 = []\n",
    "with open(file_path, mode = 'r', encoding = 'gbk', errors = 'ignor') as f:  # errors = 'ignor'  编码不成功强制编码\n",
    "    for i in range(5):\n",
    "        str1.append(f.readline())\n",
    "'*'.join(str1)"
   ]
  },
  {
   "cell_type": "code",
   "execution_count": 64,
   "metadata": {
    "collapsed": false
   },
   "outputs": [
    {
     "name": "stdout",
     "output_type": "stream",
     "text": [
      "陈萌*010-116321*M*19000101*北京市海淀区苏州街3号大恒科技大厦北座6层*100080*10116*010-82808028*010-82828028-208*chenmeng@dist.com.cn*0\n",
      "\n",
      "贾新格*0282*M*19000101*河北省石家庄栾城县城南一公里*051430*13831193762*0311-88030066*0311-88030088*info@shineway.com*0\n",
      "\n",
      "李锦花*010-125321*F*19000101*北京市海淀区蓝靛厂南路25号牛顿办公区南座6层*100097*10125*010-88400202*010-88400260*\n",
      "\n",
      "张俊莲*010-130321*F*19000101*北京市三环东路11号北京中医药大学京港湾宾馆239房间*100029*10130*010-51292052/3-802*010-51292052/3-811*zjl1008@sina.com*\n",
      "\n",
      "曹守月*010-142321*F*19000101*北京市丰台区定安东里18号楼4门4031室*100007*10142*010-67687044*010-67687044*baiguoshouyue@sina.com *\n",
      "\n"
     ]
    }
   ],
   "source": [
    "file_path = \"D:\\\\softwares\\\\kaifangX.txt\"\n",
    "str = []\n",
    "with open(file_path, mode = 'r', encoding = 'gbk', errors = 'ignor') as f:  # errors = 'ignor'  编码不成功强制编码\n",
    "    for i in range(5):\n",
    "        str1 = f.readline()\n",
    "        strlist = str1.split(',')\n",
    "        print('*'.join(strlist))"
   ]
  },
  {
   "cell_type": "markdown",
   "metadata": {},
   "source": [
    "## 创建两个对象，分别观察两者id\n",
    "- id为Python内存地址"
   ]
  },
  {
   "cell_type": "markdown",
   "metadata": {},
   "source": [
    "## 处理字符串的函数\n",
    "- len\n",
    "- max\n",
    "- min\n",
    "- 字符串一切是按照ASCII码值进行比较"
   ]
  },
  {
   "cell_type": "markdown",
   "metadata": {},
   "source": [
    "## 下角标运算符 []\n",
    "- 一个字符串是一个字符序列，可以通过索引进行访问\n",
    "- 观察字符串是否是一个可迭代序列  \\__iter__"
   ]
  },
  {
   "cell_type": "markdown",
   "metadata": {},
   "source": [
    "## 切片 [start: end]\n",
    "- start 默认值为0\n",
    "- end 默认值为-1"
   ]
  },
  {
   "cell_type": "code",
   "execution_count": 47,
   "metadata": {
    "collapsed": false
   },
   "outputs": [
    {
     "name": "stdout",
     "output_type": "stream",
     "text": [
      "joekrab\n",
      "ab\n",
      "ra\n"
     ]
    }
   ],
   "source": [
    "a1 = 'joekrabc'\n",
    "print(a1[0: -1])\n",
    "print(a1[5: 7])\n",
    "print(a1[-4: -2])"
   ]
  },
  {
   "cell_type": "markdown",
   "metadata": {},
   "source": [
    "## 链接运算符 + 和复制运算符 *\n",
    "- \\+ 链接多个字符串，同时''.join()也是\n",
    "- \\* 复制多个字符串"
   ]
  },
  {
   "cell_type": "code",
   "execution_count": 54,
   "metadata": {
    "collapsed": false
   },
   "outputs": [
    {
     "name": "stdout",
     "output_type": "stream",
     "text": [
      "Joe * Kate\n",
      "Joe*Kate\n",
      "JoeJoeJoeJoeJoe\n",
      "********************\n"
     ]
    }
   ],
   "source": [
    "b1 = 'Joe'\n",
    "b2 = 'Kate'\n",
    "print(b1 + ' * ' + b2)\n",
    "print('*'.join((b1, b2)))\n",
    "print(b1 * 5)\n",
    "print('*' * 20)"
   ]
  },
  {
   "cell_type": "markdown",
   "metadata": {},
   "source": [
    "## in 和 not in 运算符\n",
    "- in :判断某个字符是否在字符串内 \n",
    "- not in ：判断某个字符是否不在字符串内\n",
    "- 返回的是布尔值"
   ]
  },
  {
   "cell_type": "code",
   "execution_count": 75,
   "metadata": {
    "collapsed": true
   },
   "outputs": [],
   "source": [
    "class complex():\n",
    "    def __init__(self, x, y):\n",
    "        self.x = x\n",
    "        self.y = y\n",
    "    def showComplex(self):\n",
    "        print('%d + %d' %(self.x, self.y))\n",
    "    def add(self, other):\n",
    "        print('%d + %d' %(self.x + other.x **2, self.y + other.y**2))"
   ]
  },
  {
   "cell_type": "code",
   "execution_count": 76,
   "metadata": {
    "collapsed": false
   },
   "outputs": [
    {
     "name": "stdout",
     "output_type": "stream",
     "text": [
      "1 + 2\n",
      "10 + 18\n"
     ]
    }
   ],
   "source": [
    "a1 = complex(1, 2)\n",
    "a2 = complex(3, 4)\n",
    "a1.showComplex()\n",
    "a1.add(a2)"
   ]
  },
  {
   "cell_type": "markdown",
   "metadata": {},
   "source": [
    "## 比较字符串\n",
    "-  ==, !=, >=, <=, >, <\n",
    "- 依照ASCII码值进行比较"
   ]
  },
  {
   "cell_type": "markdown",
   "metadata": {},
   "source": [
    "## 测试字符串\n",
    "![](../Photo/99.png)\n",
    "- 注意：\n",
    "> - isalnum() 中是不能包含空格，否则会返回False"
   ]
  },
  {
   "cell_type": "code",
   "execution_count": 77,
   "metadata": {
    "collapsed": false
   },
   "outputs": [
    {
     "name": "stdout",
     "output_type": "stream",
     "text": [
      "False\n"
     ]
    }
   ],
   "source": [
    "str2 = '1.,2'\n",
    "print(str2.isalnum())"
   ]
  },
  {
   "cell_type": "code",
   "execution_count": 81,
   "metadata": {
    "collapsed": false
   },
   "outputs": [
    {
     "name": "stdout",
     "output_type": "stream",
     "text": [
      "True\n",
      "True\n",
      "False\n"
     ]
    }
   ],
   "source": [
    "str3 = 'strye'\n",
    "print(str3.isalpha())\n",
    "str4 = 'strye'\n",
    "print(str4.islower())\n",
    "print(str4.isupper())"
   ]
  },
  {
   "cell_type": "markdown",
   "metadata": {},
   "source": [
    "## 搜索子串\n",
    "![](../Photo/100.png)"
   ]
  },
  {
   "cell_type": "code",
   "execution_count": 85,
   "metadata": {
    "collapsed": false
   },
   "outputs": [
    {
     "name": "stdout",
     "output_type": "stream",
     "text": [
      "True\n",
      "True\n"
     ]
    }
   ],
   "source": [
    "str5 = 'strye'\n",
    "print(str5.endswith('ye'))\n",
    "print(str5.startswith('str'))"
   ]
  },
  {
   "cell_type": "code",
   "execution_count": 89,
   "metadata": {
    "collapsed": false
   },
   "outputs": [
    {
     "name": "stdout",
     "output_type": "stream",
     "text": [
      "9\n",
      "4\n",
      "0\n"
     ]
    }
   ],
   "source": [
    "str6 = 'experience'\n",
    "print(str6.rfind('e'))\n",
    "print(str6.count('e'))\n",
    "print(str6.count('J'))"
   ]
  },
  {
   "cell_type": "markdown",
   "metadata": {},
   "source": [
    "# 计数器"
   ]
  },
  {
   "cell_type": "code",
   "execution_count": 102,
   "metadata": {
    "collapsed": false
   },
   "outputs": [
    {
     "name": "stdout",
     "output_type": "stream",
     "text": [
      "第1次调用\n",
      "第2次调用\n",
      "第3次调用\n",
      "第4次调用\n",
      "第5次调用\n",
      "第6次调用\n",
      "第7次调用\n",
      "第8次调用\n",
      "第9次调用\n",
      "第10次调用\n"
     ]
    }
   ],
   "source": [
    "class webpage():\n",
    "    def __init__(self):\n",
    "        self.x = ''\n",
    "    def diaoyong(self):\n",
    "        str2 = ''.join((self.x, '*')) \n",
    "        self.x = str2\n",
    "        return str2.count('*')\n",
    "\n",
    "web = webpage()\n",
    "for i in range(10):\n",
    "    num = web.diaoyong()\n",
    "    print('第%d次调用' %num)"
   ]
  },
  {
   "cell_type": "code",
   "execution_count": 103,
   "metadata": {
    "collapsed": false
   },
   "outputs": [
    {
     "name": "stdout",
     "output_type": "stream",
     "text": [
      "第1次调用\n",
      "第2次调用\n",
      "第3次调用\n",
      "第4次调用\n",
      "第5次调用\n",
      "第6次调用\n",
      "第7次调用\n",
      "第8次调用\n",
      "第9次调用\n",
      "第10次调用\n"
     ]
    }
   ],
   "source": [
    "class webpage():\n",
    "    def __init__(self):\n",
    "        self.x = ''\n",
    "    def diaoyong(self):\n",
    "        self.x = ''.join((self.x, '*'))  \n",
    "        return self.x.count('*')\n",
    "\n",
    "web = webpage()\n",
    "for i in range(10):\n",
    "    num = web.diaoyong()\n",
    "    print('第%d次调用' %num)"
   ]
  },
  {
   "cell_type": "markdown",
   "metadata": {},
   "source": [
    "## 转换字符串\n",
    "![](../Photo/101.png)"
   ]
  },
  {
   "cell_type": "code",
   "execution_count": 4,
   "metadata": {
    "collapsed": false
   },
   "outputs": [
    {
     "data": {
      "text/plain": [
       "'Joker'"
      ]
     },
     "execution_count": 4,
     "metadata": {},
     "output_type": "execute_result"
    }
   ],
   "source": [
    "n = 'joker'\n",
    "n.capitalize()"
   ]
  },
  {
   "cell_type": "markdown",
   "metadata": {},
   "source": [
    "# 应用 验证码"
   ]
  },
  {
   "cell_type": "code",
   "execution_count": 6,
   "metadata": {
    "collapsed": false
   },
   "outputs": [
    {
     "name": "stdout",
     "output_type": "stream",
     "text": [
      "输入验证码EF2d\n",
      "验证码正确\n"
     ]
    }
   ],
   "source": [
    "class Yanzheng():\n",
    "    def __init__(self, text = 'ef2d'):\n",
    "        self.text = text\n",
    "    def setText(self):\n",
    "        alpList = list('ABCDEFGHIJKLMNOPQRSTUVWXYZ')\n",
    "        num1 = random.randint(0, len(alpList)-1)\n",
    "        num2 = random.randint(0, len(alpList)-1)\n",
    "        num3 = random.randint(0, len(alpList)-1)\n",
    "        num4 = random.randint(0, len(alpList)-1)\n",
    "        yanzh = alpList[num1] + alpList[num2] + alpList[num3] + alpList[num4]\n",
    "        self.text = yanzh\n",
    "        print('验证码:' + self.text )\n",
    "    def yanzhengma(self, input_text):\n",
    "        if self.text.upper() == input_text.upper():\n",
    "            print('验证码正确')\n",
    "        else:\n",
    "            print('验证码错误')\n",
    "    def result(self):\n",
    "        jishu = 0\n",
    "        while True:\n",
    "            jishu += self.yanzhengma()\n",
    "            if jishu >= 3 :\n",
    "                print('别爬了，我们小网站没什么好爬的')\n",
    "                strinput = input('输入 You are hansome, 可以继续访问')\n",
    "                str1 = 'You are hansome'\n",
    "                if  strinput == str1:\n",
    "                    jishu = 0\n",
    "                    pass\n",
    "                else:\n",
    "                    print('不好意思，拒绝访问')\n",
    "                    break\n",
    "\n",
    "\n",
    "yanzheng_text = Yanzheng()\n",
    "input_text = input('输入验证码')\n",
    "yanzheng_text.yanzheng(input_text)"
   ]
  },
  {
   "cell_type": "code",
   "execution_count": 9,
   "metadata": {
    "collapsed": false
   },
   "outputs": [
    {
     "name": "stdout",
     "output_type": "stream",
     "text": [
      "输入验证码EF2d\n",
      "验证码正确\n"
     ]
    }
   ],
   "source": [
    "class Yanzheng():\n",
    "    def __init__(self, text = 'ef2d'):\n",
    "        self.text = text\n",
    "    def yanzheng(self, input_text):\n",
    "        if self.text.upper() == input_text.upper():\n",
    "            print('验证码正确')\n",
    "        else:\n",
    "            print('验证码错误')\n",
    "\n",
    "\n",
    "\n",
    "yanzheng_text = Yanzheng()\n",
    "input_text = input('输入验证码')\n",
    "yanzheng_text.yanzheng(input_text)"
   ]
  },
  {
   "cell_type": "markdown",
   "metadata": {},
   "source": [
    "## 删除字符串\n",
    "![](../Photo/102.png)"
   ]
  },
  {
   "cell_type": "code",
   "execution_count": 16,
   "metadata": {
    "collapsed": false
   },
   "outputs": [
    {
     "data": {
      "text/plain": [
       "'testaa'"
      ]
     },
     "execution_count": 16,
     "metadata": {},
     "output_type": "execute_result"
    }
   ],
   "source": [
    "a = 'testaa   '\n",
    "a.strip()"
   ]
  },
  {
   "cell_type": "code",
   "execution_count": 19,
   "metadata": {
    "collapsed": false
   },
   "outputs": [
    {
     "data": {
      "text/plain": [
       "'testaa'"
      ]
     },
     "execution_count": 19,
     "metadata": {},
     "output_type": "execute_result"
    }
   ],
   "source": [
    "d = 'tes ta a   '\n",
    "d.replace(' ', '')"
   ]
  },
  {
   "cell_type": "code",
   "execution_count": 17,
   "metadata": {
    "collapsed": false
   },
   "outputs": [
    {
     "data": {
      "text/plain": [
       "'testaa'"
      ]
     },
     "execution_count": 17,
     "metadata": {},
     "output_type": "execute_result"
    }
   ],
   "source": [
    "c = 'testaa   '\n",
    "c.rstrip()"
   ]
  },
  {
   "cell_type": "code",
   "execution_count": 18,
   "metadata": {
    "collapsed": false
   },
   "outputs": [
    {
     "data": {
      "text/plain": [
       "'testaa   '"
      ]
     },
     "execution_count": 18,
     "metadata": {},
     "output_type": "execute_result"
    }
   ],
   "source": [
    "b = '  testaa   '\n",
    "b.lstrip()"
   ]
  },
  {
   "cell_type": "code",
   "execution_count": 21,
   "metadata": {
    "collapsed": false
   },
   "outputs": [
    {
     "data": {
      "text/plain": [
       "'testaa   '"
      ]
     },
     "execution_count": 21,
     "metadata": {},
     "output_type": "execute_result"
    }
   ],
   "source": [
    "e = 'tes*taa*   '\n",
    "c.rstrip('*')"
   ]
  },
  {
   "cell_type": "markdown",
   "metadata": {},
   "source": [
    "## 格式化字符串\n",
    "![](../Photo/103.png)"
   ]
  },
  {
   "cell_type": "code",
   "execution_count": 22,
   "metadata": {
    "collapsed": false
   },
   "outputs": [
    {
     "data": {
      "text/plain": [
       "'     testaa         '"
      ]
     },
     "execution_count": 22,
     "metadata": {},
     "output_type": "execute_result"
    }
   ],
   "source": [
    "a = 'testaa   '\n",
    "a.center(20)"
   ]
  },
  {
   "cell_type": "code",
   "execution_count": 24,
   "metadata": {
    "collapsed": false
   },
   "outputs": [
    {
     "data": {
      "text/plain": [
       "'*******testaa*******'"
      ]
     },
     "execution_count": 24,
     "metadata": {},
     "output_type": "execute_result"
    }
   ],
   "source": [
    "a = 'testaa'\n",
    "a.center(20, '*')"
   ]
  },
  {
   "cell_type": "code",
   "execution_count": 25,
   "metadata": {
    "collapsed": false
   },
   "outputs": [
    {
     "data": {
      "text/plain": [
       "'testaa**************'"
      ]
     },
     "execution_count": 25,
     "metadata": {},
     "output_type": "execute_result"
    }
   ],
   "source": [
    "b = 'testaa'\n",
    "b.ljust(20, '*')"
   ]
  },
  {
   "cell_type": "code",
   "execution_count": 26,
   "metadata": {
    "collapsed": false
   },
   "outputs": [
    {
     "data": {
      "text/plain": [
       "'**************testaa'"
      ]
     },
     "execution_count": 26,
     "metadata": {},
     "output_type": "execute_result"
    }
   ],
   "source": [
    "b = 'testaa'\n",
    "b.rjust(20, '*')"
   ]
  },
  {
   "cell_type": "code",
   "execution_count": 31,
   "metadata": {
    "collapsed": false
   },
   "outputs": [
    {
     "name": "stdout",
     "output_type": "stream",
     "text": [
      "<class 'list'>\n",
      "['1,', '2,', '3,', '4,', '5,', '6,', '7']\n"
     ]
    }
   ],
   "source": [
    "e = '1, 2, 3, 4, 5, 6, 7'\n",
    "print(type(e.split()))\n",
    "print(e.split())"
   ]
  },
  {
   "cell_type": "code",
   "execution_count": 28,
   "metadata": {
    "collapsed": false
   },
   "outputs": [
    {
     "data": {
      "text/plain": [
       "['1234567']"
      ]
     },
     "execution_count": 28,
     "metadata": {},
     "output_type": "execute_result"
    }
   ],
   "source": [
    "e1 = '1234567'\n",
    "e1.split()"
   ]
  },
  {
   "cell_type": "markdown",
   "metadata": {},
   "source": [
    "## EP:\n",
    "- 1\n",
    "![](../Photo/104.png)\n",
    "- 2 \n",
    "    随机参数100个数字，将www.baidu.com/?page=进行拼接"
   ]
  },
  {
   "cell_type": "code",
   "execution_count": 40,
   "metadata": {
    "collapsed": false
   },
   "outputs": [
    {
     "data": {
      "text/plain": [
       "'o'"
      ]
     },
     "execution_count": 40,
     "metadata": {},
     "output_type": "execute_result"
    }
   ],
   "source": [
    "s1 = 'Welcome to Python'\n",
    "s2 = s1\n",
    "s3 = 'Welcome to Python'\n",
    "s4 = 'to'\n",
    "s1[4]"
   ]
  },
  {
   "cell_type": "code",
   "execution_count": 34,
   "metadata": {
    "collapsed": false
   },
   "outputs": [
    {
     "data": {
      "text/plain": [
       "True"
      ]
     },
     "execution_count": 34,
     "metadata": {},
     "output_type": "execute_result"
    }
   ],
   "source": [
    "id(s1) == id(s2)"
   ]
  },
  {
   "cell_type": "code",
   "execution_count": 35,
   "metadata": {
    "collapsed": false
   },
   "outputs": [
    {
     "data": {
      "text/plain": [
       "False"
      ]
     },
     "execution_count": 35,
     "metadata": {},
     "output_type": "execute_result"
    }
   ],
   "source": [
    "id(s1) == id(s3)"
   ]
  },
  {
   "cell_type": "code",
   "execution_count": 41,
   "metadata": {
    "collapsed": true
   },
   "outputs": [
    {
     "name": "stdout",
     "output_type": "stream",
     "text": [
      "www.baidu.com/?page=0\n",
      "www.baidu.com/?page=1\n",
      "www.baidu.com/?page=2\n",
      "www.baidu.com/?page=3\n",
      "www.baidu.com/?page=4\n",
      "www.baidu.com/?page=5\n",
      "www.baidu.com/?page=6\n",
      "www.baidu.com/?page=7\n",
      "www.baidu.com/?page=8\n",
      "www.baidu.com/?page=9\n",
      "www.baidu.com/?page=10\n",
      "www.baidu.com/?page=11\n",
      "www.baidu.com/?page=12\n",
      "www.baidu.com/?page=13\n",
      "www.baidu.com/?page=14\n",
      "www.baidu.com/?page=15\n",
      "www.baidu.com/?page=16\n",
      "www.baidu.com/?page=17\n",
      "www.baidu.com/?page=18\n",
      "www.baidu.com/?page=19\n",
      "www.baidu.com/?page=20\n",
      "www.baidu.com/?page=21\n",
      "www.baidu.com/?page=22\n",
      "www.baidu.com/?page=23\n",
      "www.baidu.com/?page=24\n",
      "www.baidu.com/?page=25\n",
      "www.baidu.com/?page=26\n",
      "www.baidu.com/?page=27\n",
      "www.baidu.com/?page=28\n",
      "www.baidu.com/?page=29\n",
      "www.baidu.com/?page=30\n",
      "www.baidu.com/?page=31\n",
      "www.baidu.com/?page=32\n",
      "www.baidu.com/?page=33\n",
      "www.baidu.com/?page=34\n",
      "www.baidu.com/?page=35\n",
      "www.baidu.com/?page=36\n",
      "www.baidu.com/?page=37\n",
      "www.baidu.com/?page=38\n",
      "www.baidu.com/?page=39\n",
      "www.baidu.com/?page=40\n",
      "www.baidu.com/?page=41\n",
      "www.baidu.com/?page=42\n",
      "www.baidu.com/?page=43\n",
      "www.baidu.com/?page=44\n",
      "www.baidu.com/?page=45\n",
      "www.baidu.com/?page=46\n",
      "www.baidu.com/?page=47\n",
      "www.baidu.com/?page=48\n",
      "www.baidu.com/?page=49\n",
      "www.baidu.com/?page=50\n",
      "www.baidu.com/?page=51\n",
      "www.baidu.com/?page=52\n",
      "www.baidu.com/?page=53\n",
      "www.baidu.com/?page=54\n",
      "www.baidu.com/?page=55\n",
      "www.baidu.com/?page=56\n",
      "www.baidu.com/?page=57\n",
      "www.baidu.com/?page=58\n",
      "www.baidu.com/?page=59\n",
      "www.baidu.com/?page=60\n",
      "www.baidu.com/?page=61\n",
      "www.baidu.com/?page=62\n",
      "www.baidu.com/?page=63\n",
      "www.baidu.com/?page=64\n",
      "www.baidu.com/?page=65\n",
      "www.baidu.com/?page=66\n",
      "www.baidu.com/?page=67\n",
      "www.baidu.com/?page=68\n",
      "www.baidu.com/?page=69\n",
      "www.baidu.com/?page=70\n",
      "www.baidu.com/?page=71\n",
      "www.baidu.com/?page=72\n",
      "www.baidu.com/?page=73\n",
      "www.baidu.com/?page=74\n",
      "www.baidu.com/?page=75\n",
      "www.baidu.com/?page=76\n",
      "www.baidu.com/?page=77\n",
      "www.baidu.com/?page=78\n",
      "www.baidu.com/?page=79\n",
      "www.baidu.com/?page=80\n",
      "www.baidu.com/?page=81\n",
      "www.baidu.com/?page=82\n",
      "www.baidu.com/?page=83\n",
      "www.baidu.com/?page=84\n",
      "www.baidu.com/?page=85\n",
      "www.baidu.com/?page=86\n",
      "www.baidu.com/?page=87\n",
      "www.baidu.com/?page=88\n",
      "www.baidu.com/?page=89\n",
      "www.baidu.com/?page=90\n",
      "www.baidu.com/?page=91\n",
      "www.baidu.com/?page=92\n",
      "www.baidu.com/?page=93\n",
      "www.baidu.com/?page=94\n",
      "www.baidu.com/?page=95\n",
      "www.baidu.com/?page=96\n",
      "www.baidu.com/?page=97\n",
      "www.baidu.com/?page=98\n",
      "www.baidu.com/?page=99\n"
     ]
    }
   ],
   "source": [
    "for i in range(100):\n",
    "    url = ''.join(('www.baidu.com/?page=', str(i+1)))\n",
    "    print(url)"
   ]
  },
  {
   "cell_type": "markdown",
   "metadata": {},
   "source": [
    "## Python高级使用方法 -- 字符串\n",
    "- 我们经常使用的方法实际上就是调用Python的运算重载\n",
    "![](../Photo/105.png)"
   ]
  },
  {
   "cell_type": "code",
   "execution_count": 42,
   "metadata": {
    "collapsed": false
   },
   "outputs": [
    {
     "data": {
      "text/plain": [
       "11"
      ]
     },
     "execution_count": 42,
     "metadata": {},
     "output_type": "execute_result"
    }
   ],
   "source": [
    "1 + 10"
   ]
  },
  {
   "cell_type": "code",
   "execution_count": 43,
   "metadata": {
    "collapsed": false
   },
   "outputs": [
    {
     "data": {
      "text/plain": [
       "11"
      ]
     },
     "execution_count": 43,
     "metadata": {},
     "output_type": "execute_result"
    }
   ],
   "source": [
    "a = 10\n",
    "a.__add__(1)"
   ]
  },
  {
   "cell_type": "code",
   "execution_count": 53,
   "metadata": {
    "collapsed": true
   },
   "outputs": [],
   "source": [
    "class complex():\n",
    "    def __init__(self, x, y):\n",
    "        self.x = x\n",
    "        self.y = y\n",
    "    def showComplex(self):\n",
    "        print('%d + %d' %(self.x, self.y))\n",
    "    def __add__(self, other):\n",
    "        print('%d + %d' %(self.x + other.x **2, self.y + other.y**2))"
   ]
  },
  {
   "cell_type": "code",
   "execution_count": 55,
   "metadata": {
    "collapsed": false
   },
   "outputs": [
    {
     "name": "stdout",
     "output_type": "stream",
     "text": [
      "1 + 2\n",
      "10 + 18\n"
     ]
    }
   ],
   "source": [
    "a3 = complex(1, 2)\n",
    "a4= complex(3, 4)\n",
    "a3.showComplex()\n",
    "a3.__add__(a2)"
   ]
  },
  {
   "cell_type": "code",
   "execution_count": 47,
   "metadata": {
    "collapsed": true
   },
   "outputs": [],
   "source": [
    "class test2():\n",
    "    def __init__(self, number):\n",
    "        self.num = number\n",
    "    def __add__(self, other):\n",
    "        return self.num + other\n",
    "    def __sub__(self, other):\n",
    "        return self.num - other"
   ]
  },
  {
   "cell_type": "code",
   "execution_count": 45,
   "metadata": {
    "collapsed": false
   },
   "outputs": [],
   "source": [
    "class test3():\n",
    "    def __init__(self, number):\n",
    "        self.num = number\n",
    "    def __sub__(self, other):\n",
    "        return self.num - other"
   ]
  },
  {
   "cell_type": "code",
   "execution_count": 50,
   "metadata": {
    "collapsed": false
   },
   "outputs": [
    {
     "name": "stdout",
     "output_type": "stream",
     "text": [
      "20\n",
      "8\n"
     ]
    }
   ],
   "source": [
    "num1 = test2(10)\n",
    "print(num1.__add__(10))\n",
    "print(num1.__sub__(2))"
   ]
  },
  {
   "cell_type": "code",
   "execution_count": 56,
   "metadata": {
    "collapsed": false
   },
   "outputs": [
    {
     "data": {
      "text/plain": [
       "True"
      ]
     },
     "execution_count": 56,
     "metadata": {},
     "output_type": "execute_result"
    }
   ],
   "source": [
    "a101 = 'a'\n",
    "a101.__lt__('t')"
   ]
  },
  {
   "cell_type": "code",
   "execution_count": 67,
   "metadata": {
    "collapsed": true
   },
   "outputs": [],
   "source": [
    "class Inf():\n",
    "    def __ltInf__(self, other):\n",
    "        return True\n",
    "    def __leInf__(self, other):\n",
    "        return True\n",
    "    def __gtInf__(self, other):\n",
    "        return False\n",
    "    def __geInf__(self, other):\n",
    "        return False"
   ]
  },
  {
   "cell_type": "code",
   "execution_count": 64,
   "metadata": {
    "collapsed": false
   },
   "outputs": [
    {
     "data": {
      "text/plain": [
       "True"
      ]
     },
     "execution_count": 64,
     "metadata": {},
     "output_type": "execute_result"
    }
   ],
   "source": [
    "a102 = Inf()\n",
    "a102.__ltInf__(50)"
   ]
  },
  {
   "cell_type": "code",
   "execution_count": 66,
   "metadata": {
    "collapsed": false
   },
   "outputs": [
    {
     "data": {
      "text/plain": [
       "False"
      ]
     },
     "execution_count": 66,
     "metadata": {},
     "output_type": "execute_result"
    }
   ],
   "source": [
    "a102 = Inf()\n",
    "a102.__gtInf__(90)"
   ]
  },
  {
   "cell_type": "markdown",
   "metadata": {},
   "source": [
    "# Homework\n",
    "- 1\n",
    "![](../Photo/106.png)"
   ]
  },
  {
   "cell_type": "code",
   "execution_count": 73,
   "metadata": {
    "collapsed": false
   },
   "outputs": [],
   "source": [
    "import re\n",
    "\n",
    "class SSN():\n",
    "    def __init__(self, text):\n",
    "        self.text = text\n",
    "    def validText(self):\n",
    "        reSSN = r'^[0-9]{3}\\-[0-9]{2}\\-[0-9]{4}$'\n",
    "        if re.match(reSSN, self.text):\n",
    "            print('Valid SSN')\n",
    "        else:\n",
    "            print('Invalid SSN')"
   ]
  },
  {
   "cell_type": "code",
   "execution_count": 77,
   "metadata": {
    "collapsed": false
   },
   "outputs": [
    {
     "name": "stdout",
     "output_type": "stream",
     "text": [
      "输入一个SSN：222-38-0493\n",
      "Valid SSN\n"
     ]
    }
   ],
   "source": [
    "text = SSN(input('输入一个SSN：'))\n",
    "text.validText()"
   ]
  },
  {
   "cell_type": "markdown",
   "metadata": {},
   "source": [
    "- 2\n",
    "![](../Photo/107.png)"
   ]
  },
  {
   "cell_type": "code",
   "execution_count": 10,
   "metadata": {
    "collapsed": true
   },
   "outputs": [],
   "source": [
    "class Strings():\n",
    "    def __init__(self, text):\n",
    "        self.text = text\n",
    "    def __find__(self, other_text):\n",
    "        tag = False\n",
    "        len1 = len(other_text)\n",
    "        len2 = len(self.text)\n",
    "        for i in range(0, len2):\n",
    "            if other_text[0] == self.text[i]:\n",
    "                for j in range(0, len1):\n",
    "                    if other_text[j] == self.text[i]:\n",
    "                        tag = True\n",
    "        return tag"
   ]
  },
  {
   "cell_type": "code",
   "execution_count": 11,
   "metadata": {
    "collapsed": false
   },
   "outputs": [
    {
     "name": "stdout",
     "output_type": "stream",
     "text": [
      "输入一个字符串：flow\n",
      "输入一个新字符串：newflowers\n",
      "第一个字符串是第二个字符串的子串？\n",
      "True\n"
     ]
    }
   ],
   "source": [
    "text1 = input('输入一个字符串：')\n",
    "text2 = Strings(input('输入一个新字符串：'))\n",
    "print('第一个字符串是第二个字符串的子串？')\n",
    "print(text2.__find__(text1))"
   ]
  },
  {
   "cell_type": "markdown",
   "metadata": {},
   "source": [
    "- 3\n",
    "![](../Photo/108.png)"
   ]
  },
  {
   "cell_type": "code",
   "execution_count": 84,
   "metadata": {
    "collapsed": false
   },
   "outputs": [],
   "source": [
    "class PassWord():\n",
    "    def __init__(self, text):\n",
    "        self.text = text\n",
    "    def validPassWord(self):\n",
    "        sumnum = 0\n",
    "        for i in range(len(self.text)):\n",
    "            if '0' <= self.text[i] <= '9':\n",
    "                sumnum += 1\n",
    "        if (len(self.text) >= 8) and (self.text.isalnum() == True) and (sumnum >= 2):\n",
    "            print('Valid PassWord')\n",
    "        else:\n",
    "            print('Invalid PassWord')"
   ]
  },
  {
   "cell_type": "code",
   "execution_count": 88,
   "metadata": {
    "collapsed": false
   },
   "outputs": [
    {
     "name": "stdout",
     "output_type": "stream",
     "text": [
      "输入一个PassWord：83747iiuu$$\n",
      "Invalid PassWord\n"
     ]
    }
   ],
   "source": [
    "text = PassWord(input('输入一个PassWord：'))\n",
    "text.validPassWord()"
   ]
  },
  {
   "cell_type": "markdown",
   "metadata": {},
   "source": [
    "- 4\n",
    "![](../Photo/109.png)"
   ]
  },
  {
   "cell_type": "code",
   "execution_count": 97,
   "metadata": {
    "collapsed": false
   },
   "outputs": [
    {
     "name": "stdout",
     "output_type": "stream",
     "text": [
      "输入一个字符串：1423qwer\n",
      "1423qwer 包含的字母个数为4, 包含的数字个数为4,\n"
     ]
    }
   ],
   "source": [
    "def countLetters(strText):\n",
    "    countNum1 = 0\n",
    "    countNum2 = 0\n",
    "    for i in range(len(strText)):\n",
    "        if strText[i].isalpha() == True:\n",
    "            countNum1 += 1\n",
    "        if strText[i].isdigit() == True:\n",
    "            countNum2 += 1\n",
    "    return countNum1, countNum2\n",
    "       \n",
    "strText = input('输入一个字符串：')\n",
    "countNum1, countNum2 = countLetters(strText)\n",
    "print(strText, '包含的字母个数为%d, 包含的数字个数为%d,' %(countNum1, countNum2))"
   ]
  },
  {
   "cell_type": "markdown",
   "metadata": {},
   "source": [
    "- 5\n",
    "![](../Photo/110.png)"
   ]
  },
  {
   "cell_type": "code",
   "execution_count": 2,
   "metadata": {
    "collapsed": false
   },
   "outputs": [
    {
     "name": "stdout",
     "output_type": "stream",
     "text": [
      "输入一个字符串：1-800-Flowers\n",
      "1-800-Flowers 转换之后的字符串为：1-800-3569377\n",
      "输入一个字符串：1800Flowers\n",
      "1800Flowers 转换之后的字符串为：18003569377\n"
     ]
    }
   ],
   "source": [
    "def getNumber(uppercaseLetter):\n",
    "    num = None\n",
    "    letter = None\n",
    "    if 'A' <= uppercaseLetter <= 'Z':\n",
    "        letter = uppercaseLetter\n",
    "    else:\n",
    "        letter = uppercaseLetter.upper()\n",
    "  \n",
    "    if 'A' <= letter <= 'C':\n",
    "        num = 2\n",
    "    elif 'D' <= letter <= 'F':\n",
    "        num = 3\n",
    "    elif 'G' <= letter <= 'I':\n",
    "        num = 4\n",
    "    elif 'J' <= letter <= 'L':\n",
    "        num = 5\n",
    "    elif 'M' <= letter <= 'O':\n",
    "        num = 6\n",
    "    elif 'P' <= letter <= 'S':\n",
    "        num = 7\n",
    "    elif 'T' <= letter <= 'V':\n",
    "        num = 8\n",
    "    elif 'W' <= letter <= 'Z':\n",
    "        num = 9\n",
    "    else:\n",
    "        pass\n",
    "    return num\n",
    "\n",
    "def get_numbers(text):\n",
    "    \n",
    "    text_new = []\n",
    "    Alphabet = ['A','B','C','D','E','F','G','H','I','J','K','L','M','N','O','P','Q','R','S','T','U','V','W','X','Y','Z']\n",
    "    alphabet = ['a','b','c','d','e','f','g','h','i','j','k','l','m','n','o','p','q','r','s','t','u','v','w','x','y','z']\n",
    "    for i in range(len(text)):\n",
    "        if (text[i].isdigit() == True) or ((text[i] not in Alphabet) and (text[i] not in alphabet)):\n",
    "            text_new.append(text[i])\n",
    "        else:\n",
    "            text_new.append(str(getNumber(text[i])))\n",
    "    #str1 = ''.join(text_new)\n",
    "    return (''.join(text_new))\n",
    "\n",
    "text1 = input('输入一个字符串：')\n",
    "print(text1 +  ' 转换之后的字符串为：' + get_numbers(text1) )\n",
    "text2 = input('输入一个字符串：')\n",
    "print(text2 +  ' 转换之后的字符串为：' + get_numbers(text2) )   "
   ]
  },
  {
   "cell_type": "markdown",
   "metadata": {},
   "source": [
    "- 6\n",
    "![](../Photo/111.png)"
   ]
  },
  {
   "cell_type": "code",
   "execution_count": 1,
   "metadata": {
    "collapsed": false
   },
   "outputs": [
    {
     "name": "stdout",
     "output_type": "stream",
     "text": [
      "输入一个字符串：1234qwer\n",
      "1234qwer 反向字符串为：rewq4321\n"
     ]
    }
   ],
   "source": [
    "def reverse(input_text):\n",
    "    new_text = []\n",
    "    for i in range(len(input_text)-1, -1, -1):\n",
    "        new_text.append(input_text[i])\n",
    "    return (''.join(new_text))\n",
    "        \n",
    "input_text = input('输入一个字符串：')\n",
    "print(input_text +  ' 反向字符串为：' + reverse(input_text) )   "
   ]
  },
  {
   "cell_type": "markdown",
   "metadata": {},
   "source": [
    "- 7\n",
    "![](../Photo/112.png)"
   ]
  },
  {
   "cell_type": "code",
   "execution_count": 1,
   "metadata": {
    "collapsed": true
   },
   "outputs": [],
   "source": [
    "import re\n",
    "class ValidCredcard():\n",
    "    def __init__(self, creadNum):\n",
    "        self.creadNum = creadNum\n",
    "    def validLen(self):\n",
    "        reSSN = r'^[0-9]{13,16}$'\n",
    "        if re.match(reSSN, self.creadNum):\n",
    "            return True\n",
    "        else:\n",
    "            return False\n",
    "    def validStar(self):\n",
    "        if (self.creadNum[0] in ['4', '5', '6']) or (self.creadNum[0:2] == '37'):\n",
    "            return True\n",
    "        else:\n",
    "            return False\n",
    "    def validNum(self):\n",
    "        numlist = []\n",
    "        sum1 = 0\n",
    "        sum2 = 0\n",
    "        for i in range(len(self.creadNum)):\n",
    "            numlist.append(int(self.creadNum[i]))\n",
    "        for i in range(-1, -len(numlist)-1, -1):\n",
    "            if (i % 2) != 0:\n",
    "                sum2 += numlist[i]\n",
    "            else:\n",
    "                if int(numlist[i]) * 2 > 9:\n",
    "                    sum1 += (numlist[i])*2 - 9\n",
    "                else:\n",
    "                    sum1 += (numlist[i]*2)        \n",
    "        print(sum1, sum2)\n",
    "        if (sum1 + sum2) % 10 == 0:\n",
    "            return True\n",
    "        else:\n",
    "            return False\n",
    "    def validCreadNum(self):\n",
    "        if (self.validLen() == True)  and (self.validStar() == True) and (self.validNum() == True):\n",
    "            print('这是一个合法的信用卡号')\n",
    "        else:\n",
    "            print('抱歉，这不是一个合法的信用卡号')\n",
    "            "
   ]
  },
  {
   "cell_type": "code",
   "execution_count": 2,
   "metadata": {
    "collapsed": false
   },
   "outputs": [
    {
     "name": "stdout",
     "output_type": "stream",
     "text": [
      "输入一个信用卡号：5432123456788881\n",
      "35 35\n",
      "这是一个合法的信用卡号\n"
     ]
    }
   ],
   "source": [
    "text = ValidCredcard(input('输入一个信用卡号：'))\n",
    "#text2 = ValidCredcard('5432123456788881')\n",
    "text.validCreadNum()"
   ]
  },
  {
   "cell_type": "markdown",
   "metadata": {},
   "source": [
    "- 8\n",
    "![](../Photo/113.png)"
   ]
  },
  {
   "cell_type": "code",
   "execution_count": 3,
   "metadata": {
    "collapsed": true
   },
   "outputs": [],
   "source": [
    "import re\n",
    "class ISBN():\n",
    "    def __init__(self, creadNum):\n",
    "        self.Num = creadNum\n",
    "    def setISBN(self):\n",
    "        num = 0\n",
    "        for i in range(len(self.Num)):\n",
    "            if i % 2 == 0:\n",
    "                num += int(self.Num[i])\n",
    "            else:\n",
    "                num += 3*int(self.Num[i])\n",
    "            res = (10-num)%10\n",
    "        if res == 10:\n",
    "            return ''.join((self.Num, '0'))\n",
    "        else:\n",
    "            return ''.join((self.Num, str(res)))\n",
    "    def getISBN(self):\n",
    "        newISBN = self.setISBN()\n",
    "        return newISBN      "
   ]
  },
  {
   "cell_type": "code",
   "execution_count": 6,
   "metadata": {
    "collapsed": false
   },
   "outputs": [
    {
     "name": "stdout",
     "output_type": "stream",
     "text": [
      "ISBN-13 is 9780132130806\n",
      "ISBN-13 is 9780132130790\n"
     ]
    }
   ],
   "source": [
    "text1 = ISBN('978013213080')\n",
    "print('ISBN-13 is '+ text1.getISBN())\n",
    "text2 = ISBN('978013213079')\n",
    "print('ISBN-13 is '+ text2.getISBN())"
   ]
  },
  {
   "cell_type": "markdown",
   "metadata": {},
   "source": [
    "- 9\n",
    "![](../Photo/114.png)"
   ]
  },
  {
   "cell_type": "code",
   "execution_count": 7,
   "metadata": {
    "collapsed": true
   },
   "outputs": [],
   "source": [
    "\n",
    "class Rectangle2D():\n",
    "    def __init__(self, x=0, y=0, width=0, height=0):\n",
    "        self.x = x\n",
    "        self.y = y\n",
    "        self.width = width\n",
    "        self.height = height\n",
    "\n",
    "    def getX(self):\n",
    "        return self.x\n",
    "\n",
    "    def getY(self):\n",
    "        return self.y\n",
    "\n",
    "    def getWidth(self):\n",
    "        return self.width\n",
    "\n",
    "    def getHeight(self):\n",
    "        return self.height\n",
    "\n",
    "    def setX(self, x):\n",
    "        self.x = x\n",
    "\n",
    "    def setY(self, y):\n",
    "        self.y = y\n",
    "\n",
    "    def setWidth(self, widht):\n",
    "        self.widht = width\n",
    "\n",
    "    def setHeight(self, height):\n",
    "        self.height = height\n",
    "\n",
    "    def getArea(self):\n",
    "        return self.width * self.height\n",
    "\n",
    "    def getPerimeter(self):\n",
    "        return 2 * (self.width + self.height)\n",
    "\n",
    "    def computePositon(self):\n",
    "        x1 = self.x - self.width / 2\n",
    "        x2 = self.x + self.width / 2\n",
    "        y1 = self.y - self.height / 2\n",
    "        y2 = self.y + self.height / 2\n",
    "        return x1, x2, y1, y2\n",
    "\n",
    "    def containsPoint(self, pointX, pointY):\n",
    "        x1, x2, y1, y2 = self.computePositon()\n",
    "        if (x1 < pointX < x2) and (y1 < pointY < y2):\n",
    "            return True\n",
    "        else:\n",
    "            return False\n",
    "\n",
    "    def contain(self, RectNew):\n",
    "        x1, x2, y1, y2 = self.computePositon()\n",
    "        x1_RectNew, x2_RectNew, y1_RectNew, y2_RectNew = RectNew.computePositon()\n",
    "        if (x1 < x1_RectNew) and (x2_RectNew < x2) and (y1 < y1_RectNew) and (y2_RectNew < y2):\n",
    "            return True\n",
    "        else:\n",
    "            return False\n",
    "\n",
    "    def overlaps(self, RectNew):\n",
    "        x1, x2, y1, y2 = self.computePositon()\n",
    "        x1_RectNew, x2_RectNew, y1_RectNew, y2_RectNew = RectNew.computePositon()\n",
    "        if (x1_RectNew>x2) or (x2_RectNew<x1) or (y1_RectNew>y2) or (y2_RectNew<y1) :\n",
    "            return False\n",
    "        else:\n",
    "            return True\n",
    "\n",
    "    def __contains__(self, RectNew):\n",
    "        if (self.overlaps(RectNew) != True) and (self.contain(RectNew) != True):\n",
    "            return True\n",
    "        else:\n",
    "            return False\n",
    "\n",
    "    def __cmp__(self, RectNew):\n",
    "        if self.getArea() < RectNew.getArea():\n",
    "            return -1\n",
    "        elif self.getArea() == RectNew.getArea():\n",
    "            return 0\n",
    "        else:\n",
    "            return 1\n",
    "\n",
    "    def __lt__(self, RectNew):\n",
    "        if self.getArea() < RectNew.getArea():\n",
    "            return True\n",
    "        else:\n",
    "            return False\n",
    "\n",
    "    def __le__(self, RectNew):\n",
    "        if self.getArea() <= RectNew.getArea():\n",
    "            return True\n",
    "        else:\n",
    "            return False\n",
    "\n",
    "    def __eq__(self, RectNew):\n",
    "        if self.getArea() == RectNew.getArea():\n",
    "            return True\n",
    "        else:\n",
    "            return False\n",
    "\n",
    "    def __ne__(self, RectNew):\n",
    "        if self.getArea() != RectNew.getArea():\n",
    "            return True\n",
    "        else:\n",
    "            return False\n",
    "\n",
    "    def __gt__(self, RectNew):\n",
    "        if self.getArea() > RectNew.getArea():\n",
    "            return True\n",
    "        else:\n",
    "            return False\n",
    "\n",
    "    def __ge__(self, RectNew):\n",
    "        if self.getArea() >= RectNew.getArea():\n",
    "            return True\n",
    "        else:\n",
    "            return False"
   ]
  },
  {
   "cell_type": "code",
   "execution_count": 8,
   "metadata": {
    "collapsed": false
   },
   "outputs": [
    {
     "name": "stdout",
     "output_type": "stream",
     "text": [
      "9 1.3 10 35.3\n",
      "1.3 4.3 4 5.3\n",
      "第一个矩形周长为90.60, 面积为353.00\n",
      "第二个矩形周长为18.60, 面积为21.20\n",
      "rec1的四个顶点坐标为： (4.0, 14.0, -16.349999999999998, 18.95)\n",
      "rec2的四个顶点坐标为： (-0.7, 3.3, 1.65, 6.949999999999999)\n",
      "rect1包含rect2的中心？False\n",
      "rect1包含rect2？False\n",
      "rect1和rect2重叠？False\n",
      "rect2在另一个矩形中？True\n",
      "rect1面积小于等于rect2面积？False\n"
     ]
    }
   ],
   "source": [
    "rect1 = Rectangle2D(9, 1.3, 10, 35.3)\n",
    "rect2 = Rectangle2D(1.3, 4.3, 4, 5.3)\n",
    "print(rect1.getX(), rect1.getY(), rect1.getWidth(), rect1.getHeight())\n",
    "print(rect2.getX(), rect2.getY(), rect2.getWidth(), rect2.getHeight())\n",
    "print('第一个矩形周长为%.2f, 面积为%.2f' %(rect1.getPerimeter(), rect1.getArea()))\n",
    "print('第二个矩形周长为%.2f, 面积为%.2f' %(rect2.getPerimeter(), rect2.getArea()))\n",
    "print('rec1的四个顶点坐标为：', rect1.computePositon() )\n",
    "print('rec2的四个顶点坐标为：', rect2.computePositon() )\n",
    "\n",
    "if rect1.containsPoint(rect2.x, rect2.y) == True:\n",
    "    print('rect1包含rect2的中心？' + 'True')\n",
    "else:\n",
    "    print('rect1包含rect2的中心？' + 'False')\n",
    "\n",
    "if rect1.contain(rect2) == True:\n",
    "    print('rect1包含rect2？' + 'True')\n",
    "else:\n",
    "    print('rect1包含rect2？' + 'False')\n",
    "\n",
    "if rect1.overlaps(rect2) == True:\n",
    "    print('rect1和rect2重叠？' + 'True')\n",
    "else:\n",
    "    print('rect1和rect2重叠？' + 'False')\n",
    "\n",
    "if rect1.__contains__(rect2) == True:\n",
    "    print('rect2在另一个矩形中？' + 'True')\n",
    "else:\n",
    "    print('rect2在另一个矩形中？' + 'False')\n",
    "\n",
    "if rect1.__le__(rect2) == True:\n",
    "    print('rect1面积小于等于rect2面积？' + 'True')\n",
    "else:\n",
    "    print('rect1面积小于等于rect2面积？' + 'False')"
   ]
  },
  {
   "cell_type": "code",
   "execution_count": null,
   "metadata": {
    "collapsed": true
   },
   "outputs": [],
   "source": []
  }
 ],
 "metadata": {
  "kernelspec": {
   "display_name": "Python 3",
   "language": "python",
   "name": "python3"
  },
  "language_info": {
   "codemirror_mode": {
    "name": "ipython",
    "version": 3
   },
   "file_extension": ".py",
   "mimetype": "text/x-python",
   "name": "python",
   "nbconvert_exporter": "python",
   "pygments_lexer": "ipython3",
   "version": "3.6.0"
  }
 },
 "nbformat": 4,
 "nbformat_minor": 2
}
