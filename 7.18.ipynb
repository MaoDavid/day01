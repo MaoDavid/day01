{
 "cells": [
  {
   "cell_type": "markdown",
   "metadata": {},
   "source": [
    "# 选择\n",
    "## 布尔类型、数值和表达式\n",
    "![](../Photo/33.png)\n",
    "- 注意：比较运算符的相等是两个等到，一个等到代表赋值\n",
    "- 在Python中可以用整型0来代表False，其他数字来代表True\n",
    "- 后面还会讲到 is 在判断语句中的用发"
   ]
  },
  {
   "cell_type": "code",
   "execution_count": null,
   "metadata": {
    "collapsed": false
   },
   "outputs": [],
   "source": [
    "a = 100\n",
    "b = 100\n",
    "a <= b"
   ]
  },
  {
   "cell_type": "markdown",
   "metadata": {},
   "source": [
    "## 字符串的比较，使用首字符的ASCII码比较\n"
   ]
  },
  {
   "cell_type": "code",
   "execution_count": null,
   "metadata": {
    "collapsed": false
   },
   "outputs": [],
   "source": [
    "c = 'Joker'\n",
    "d = 'hahah'\n",
    "c > d"
   ]
  },
  {
   "cell_type": "code",
   "execution_count": null,
   "metadata": {
    "collapsed": false
   },
   "outputs": [],
   "source": [
    "e = 100\n",
    "f = '100'\n",
    "e == f"
   ]
  },
  {
   "cell_type": "code",
   "execution_count": null,
   "metadata": {
    "collapsed": false
   },
   "outputs": [],
   "source": [
    "e2 = 101\n",
    "f2 = 102\n",
    "e2 != f2"
   ]
  },
  {
   "cell_type": "markdown",
   "metadata": {},
   "source": [
    "## EP:\n",
    "- <img src=\"../Photo/34.png\"></img>\n",
    "- 输入一个数字，判断其实奇数还是偶数"
   ]
  },
  {
   "cell_type": "code",
   "execution_count": null,
   "metadata": {
    "collapsed": false
   },
   "outputs": [],
   "source": [
    "i = int(True)\n",
    "print(i)\n",
    "b1 = bool(4)\n",
    "b2 = bool(0)\n",
    "print(b1, b2)"
   ]
  },
  {
   "cell_type": "code",
   "execution_count": null,
   "metadata": {
    "collapsed": false
   },
   "outputs": [],
   "source": [
    "import random\n",
    "num = random.randint(1, 1000) \n",
    "input_number = num\n",
    "print('随机产生的数值为：',num)\n",
    "baiwei = input_number // 100\n",
    "shiwei = (input_number - 100*baiwei) // 10\n",
    "gewei = input_number % 10 \n",
    "print(baiwei, shiwei, gewei)\n",
    "if baiwei ** 3 + shiwei ** 3 + gewei ** 3 == input_number:\n",
    "    print('这是一个水仙花数')\n",
    "else:\n",
    "    print('这不是一个水仙花数')\n",
    "    "
   ]
  },
  {
   "cell_type": "code",
   "execution_count": null,
   "metadata": {
    "collapsed": false
   },
   "outputs": [],
   "source": [
    "import random\n",
    "num = random.randint(1, 10000) \n",
    "input_number = num\n",
    "print('随机产生的数值为：',num)\n",
    "qianwei = input_number // 1000\n",
    "baiwei = (input_number - 1000 * qianwei) // 100\n",
    "shiwei = (input_number - 1000 * qianwei - 100 * baiwei) // 10\n",
    "gewei = input_number % 10 \n",
    "print(qianwei, baiwei, shiwei, gewei)\n",
    "if qianwei ** 3 + baiwei ** 3 + shiwei ** 3 + gewei ** 3 == input_number:\n",
    "    print('这是一个水仙花数')\n",
    "else:\n",
    "    print('这不是一个水仙花数')"
   ]
  },
  {
   "cell_type": "markdown",
   "metadata": {},
   "source": [
    "## 产生随机数字\n",
    "- 函数random.randint(a,b) 可以用来产生一个a和b之间且包括a和b的随机整数"
   ]
  },
  {
   "cell_type": "code",
   "execution_count": null,
   "metadata": {
    "collapsed": false,
    "scrolled": true
   },
   "outputs": [],
   "source": [
    "import random\n",
    "a1 = random.randint(0, 5)  #返回随机int型的数字，包括左右区间点\n",
    "print(a1)"
   ]
  },
  {
   "cell_type": "code",
   "execution_count": null,
   "metadata": {
    "collapsed": false
   },
   "outputs": [],
   "source": [
    "a2 = random.random()\n",
    "print(a2)"
   ]
  },
  {
   "cell_type": "code",
   "execution_count": null,
   "metadata": {
    "collapsed": false
   },
   "outputs": [],
   "source": [
    "a3 = random.randrange(start = 0, stop = 10, step = 2)\n",
    "print(a3)"
   ]
  },
  {
   "cell_type": "code",
   "execution_count": null,
   "metadata": {
    "collapsed": false
   },
   "outputs": [],
   "source": [
    "a4 = random.Random()\n",
    "print(a4)"
   ]
  },
  {
   "cell_type": "markdown",
   "metadata": {},
   "source": [
    "## EP：\n",
    "- 产生两个随机整数number1和number2，然后显示给用户，使用户输入数字的和，并判定其是否正确\n",
    "- 进阶:写一个随机序号点名程序"
   ]
  },
  {
   "cell_type": "code",
   "execution_count": null,
   "metadata": {
    "collapsed": false
   },
   "outputs": [],
   "source": [
    "\n",
    "number = []\n",
    "for i in range(0, 4):\n",
    "    for j in range(1, 5):\n",
    "        zuowei = str(i) + str(j)\n",
    "        number.append(zuowei)\n",
    "print('所有学生序号为：\\n', number)\n",
    "xuhao = random.randint(1, 16)\n",
    "print('\\n随机点名的序号为：' ,number[xuhao])"
   ]
  },
  {
   "cell_type": "code",
   "execution_count": null,
   "metadata": {
    "collapsed": false
   },
   "outputs": [],
   "source": [
    "import time\n",
    "time.localtime(time.time())\n",
    "time01 = time.strftime('%Y-%m-%d %H:%M:%S',time.localtime(time.time()))\n",
    "\n",
    "number = []\n",
    "for i in range(0, 2):\n",
    "    for j in range(1, 5):\n",
    "        zuowei = str(i) + str(j)\n",
    "        number.append(zuowei)\n",
    "for i in range(2, 4):\n",
    "    for j in range(1, 4):\n",
    "        zuowei = str(i) + str(j)\n",
    "        number.append(zuowei)\n",
    "print('所有学生序号为：\\n', number)\n",
    "xuhao = random.randint(1, 12)\n",
    "print('\\n北京时间' + time01 + ' ,随机点名的序号为' + number[xuhao] +',请该同学提供Git账号')"
   ]
  },
  {
   "cell_type": "code",
   "execution_count": null,
   "metadata": {
    "collapsed": false
   },
   "outputs": [],
   "source": [
    "import time\n",
    "time.localtime(time.time())  #读取当前时间\n",
    "\n",
    "time.strftime('%Y-%m-%d',time.localtime(time.time()))"
   ]
  },
  {
   "cell_type": "markdown",
   "metadata": {},
   "source": [
    "##  其他random方法\n",
    "- random.random 返回0.0到1.0之间前闭后开区间的随机浮点\n",
    "- random.randrange(a,b) 前闭后开"
   ]
  },
  {
   "cell_type": "markdown",
   "metadata": {},
   "source": [
    "## if语句\n",
    "- 如果条件正确就执行一个单向if语句，亦即当条件为真的时候才执行if内部的语句\n",
    "- Python有很多选择语句:\n",
    "> - 单向if \n",
    "  - 双向if-else\n",
    "  - 嵌套if\n",
    "  - 多向if-elif-else\n",
    "  \n",
    "- 注意：当语句含有子语句的时候，那么一定至少要有一个缩进，也就是说如果有儿子存在，那么一定要缩进\n",
    "- 切记不可table键和space混用，单用table 或者 space\n",
    "- 当你输出的结果是无论if是否为真时都需要显示时，语句应该与if对齐"
   ]
  },
  {
   "cell_type": "markdown",
   "metadata": {},
   "source": [
    "## EP：\n",
    "- 用户输入一个数字，判断其实奇数还是偶数\n",
    "- 进阶：可以查看下4.5实例研究猜生日"
   ]
  },
  {
   "cell_type": "markdown",
   "metadata": {},
   "source": [
    "## 双向if-else 语句\n",
    "- 如果条件为真，那么走if内部语句，否则走else内部语句"
   ]
  },
  {
   "cell_type": "markdown",
   "metadata": {},
   "source": [
    "## EP：\n",
    "- 产生两个随机整数number1和number2，然后显示给用户，使用户输入数字，并判定其是否正确,如果正确打印“you‘re correct”，否则打印正确答案"
   ]
  },
  {
   "cell_type": "markdown",
   "metadata": {},
   "source": [
    "## 嵌套if 和多向if-elif-else\n",
    "![](../Photo/35.png)"
   ]
  },
  {
   "cell_type": "code",
   "execution_count": null,
   "metadata": {
    "collapsed": false
   },
   "outputs": [],
   "source": [
    "score = eval(input('输入分数：'))\n",
    "\n",
    "if score >= 90:\n",
    "    grade = 'A'\n",
    "if 80 <= score < 90:\n",
    "    grade = 'B'\n",
    "if 70 <= score <80:\n",
    "    grade = 'C'\n",
    "if 60 <= score < 70:\n",
    "    grade = 'D'\n",
    "if score <60:\n",
    "    grade = 'F'\n",
    "print('分数等级为：' + grade)\n",
    "    "
   ]
  },
  {
   "cell_type": "code",
   "execution_count": null,
   "metadata": {
    "collapsed": false
   },
   "outputs": [],
   "source": [
    "score = eval(input('输入分数：'))\n",
    "\n",
    "if score >= 90:\n",
    "    grade = 'A'\n",
    "elif score >= 80:\n",
    "    grade = 'B'\n",
    "elif score >= 70:\n",
    "    grade = 'C'\n",
    "elif score >= 60:\n",
    "    grade = 'D'\n",
    "else:\n",
    "    grade = 'F'\n",
    "print('分数等级为：' + grade)"
   ]
  },
  {
   "cell_type": "markdown",
   "metadata": {},
   "source": [
    "# 模拟抢火车票、加油包\n",
    "\n",
    "- 随机数（0-100）数字\n",
    "- input 输入“加油包”\n",
    "- 随机数范围减少1\n",
    "- 用户输入一个姓名，随机设定姓名，‘a’，‘b’，\n",
    "- 用户姓名已有，这是VIP。如果不是VIP，询问是否升级为VIP，返回充值50元\n",
    "- VIP抢票的概率大于普通用户"
   ]
  },
  {
   "cell_type": "code",
   "execution_count": null,
   "metadata": {
    "collapsed": true
   },
   "outputs": [],
   "source": []
  },
  {
   "cell_type": "markdown",
   "metadata": {},
   "source": [
    "## EP：\n",
    "- 提示用户输入一个年份，然后显示表示这一年的动物\n",
    "![](../Photo/36.png)\n",
    "- 计算身体质量指数的程序\n",
    "- BMI = 以千克为单位的体重除以以米为单位的身高\n",
    "![](../Photo/37.png)"
   ]
  },
  {
   "cell_type": "code",
   "execution_count": null,
   "metadata": {
    "collapsed": false,
    "scrolled": true
   },
   "outputs": [],
   "source": [
    "year = eval(input('输入年份：'))\n",
    "num = year % 12\n",
    "animal = ['猴', '鸡', '狗', '猪', '鼠', '牛', '虎', '兔', '龙', '蛇', '马', '羊']\n",
    "print(str(year) + '年是' +  animal[num] + '年')"
   ]
  },
  {
   "cell_type": "code",
   "execution_count": null,
   "metadata": {
    "collapsed": false
   },
   "outputs": [],
   "source": [
    "year = eval(input('输入年份：'))\n",
    "num = year % 12\n",
    "animal = '猴鸡狗猪鼠牛虎兔龙蛇马羊'\n",
    "print(str(year) + '年是' +  animal[num] + '年')"
   ]
  },
  {
   "cell_type": "code",
   "execution_count": null,
   "metadata": {
    "collapsed": false,
    "scrolled": true
   },
   "outputs": [],
   "source": [
    "tizhong = eval(input('输入千克为单位的体重：'))\n",
    "shengao = eval(input('输入米为单位的身高：'))\n",
    "BMI = tizhong / shengao\n",
    "if BMI >= 30.0:\n",
    "    grade = '痴肥'\n",
    "elif BMI >= 25.0:\n",
    "    grade = '超重'\n",
    "elif BMI >= 18.5:\n",
    "    grade = '标准'\n",
    "else:\n",
    "    grade = '超轻'\n",
    "print('体型结果为：' + grade)"
   ]
  },
  {
   "cell_type": "markdown",
   "metadata": {},
   "source": [
    "## 逻辑运算符\n",
    "![](../Photo/38.png)"
   ]
  },
  {
   "cell_type": "markdown",
   "metadata": {},
   "source": [
    "![](../Photo/39.png)\n",
    "![](../Photo/40.png)"
   ]
  },
  {
   "cell_type": "code",
   "execution_count": null,
   "metadata": {
    "collapsed": false
   },
   "outputs": [],
   "source": [
    "not('a' == 'b')"
   ]
  },
  {
   "cell_type": "code",
   "execution_count": null,
   "metadata": {
    "collapsed": false
   },
   "outputs": [],
   "source": [
    "name = input('输入姓名：')\n",
    "vip = ['a', 'b', 'c']\n",
    "if name not in vip:\n",
    "    print('您是否想充值升级为VIP会员')\n",
    "else:\n",
    "    print('您已经是VIP会员')"
   ]
  },
  {
   "cell_type": "code",
   "execution_count": null,
   "metadata": {
    "collapsed": false
   },
   "outputs": [],
   "source": [
    "100 == 100 or 101 == 0"
   ]
  },
  {
   "cell_type": "markdown",
   "metadata": {},
   "source": [
    "## EP：\n",
    "- 判定闰年：一个年份如果能被4整除但不能被100整除，或者能被400整除，那么这个年份就是闰年\n",
    "- 提示用户输入一个年份，并返回是否是闰年\n",
    "- 提示用户输入一个数字，判断其是否为水仙花数"
   ]
  },
  {
   "cell_type": "code",
   "execution_count": null,
   "metadata": {
    "collapsed": false
   },
   "outputs": [],
   "source": [
    "year = eval(input('输入年份：'))\n",
    "\n",
    "if ((year % 4 ==0) and (year % 100 !=0)) or (year % 400 ==0):\n",
    "    print('年份是闰年')\n",
    "else:\n",
    "    print('不是闰年')\n"
   ]
  },
  {
   "cell_type": "code",
   "execution_count": null,
   "metadata": {
    "collapsed": false
   },
   "outputs": [],
   "source": [
    "x = 4\n",
    "y = 5\n"
   ]
  },
  {
   "cell_type": "code",
   "execution_count": null,
   "metadata": {
    "collapsed": false
   },
   "outputs": [],
   "source": [
    "x >= y >= 0"
   ]
  },
  {
   "cell_type": "code",
   "execution_count": null,
   "metadata": {
    "collapsed": false
   },
   "outputs": [],
   "source": [
    "1 <= x <10"
   ]
  },
  {
   "cell_type": "markdown",
   "metadata": {},
   "source": [
    "## 实例研究：彩票\n",
    "![](../Photo/41.png)"
   ]
  },
  {
   "cell_type": "code",
   "execution_count": 12,
   "metadata": {
    "collapsed": false,
    "scrolled": true
   },
   "outputs": [
    {
     "name": "stdout",
     "output_type": "stream",
     "text": [
      "随机数为49\n",
      "输入两位数的数字：52\n",
      "没有中奖，再接再厉\n"
     ]
    }
   ],
   "source": [
    "import random\n",
    "luckyNumber = str(random.randint(10, 100))\n",
    "print('随机数为' + luckyNumber)\n",
    "inputNumber = input('输入两位数的数字：')\n",
    "\n",
    "if inputNumber == luckyNumber:\n",
    "    print('恭喜您获得一等奖，奖金为10000美元')\n",
    "elif inputNumber[0] == luckyNumber[1] and inputNumber[1] == luckyNumber[0]:\n",
    "    print('恭喜您获得二等奖，奖金为3000美元')\n",
    "elif inputNumber[0] == luckyNumber[1] or inputNumber[0] == luckyNumber[0]:\n",
    "    print('恭喜您获得三等奖，奖金为1000美元')\n",
    "#elif inputNumber[0] == luckyNumber[0] or inputNumber[1] == luckyNumber[1]：\n",
    " #   print('恭喜您获得三等奖，奖金为1000美元')\n",
    "else:\n",
    "    print('没有中奖，再接再厉')\n",
    "\n",
    "\n"
   ]
  },
  {
   "cell_type": "markdown",
   "metadata": {},
   "source": [
    "#模拟财富分配情况\n",
    "\n",
    "##初始房间里有100个人，每人100元初始金额，每个人之间可以相互给予1元/次，问在10000次之后，房间里人的财富分布情况。\n",
    "##1、‘允许负债’\n",
    "##2、假定20%的人初始金额为200元"
   ]
  },
  {
   "cell_type": "markdown",
   "metadata": {},
   "source": [
    "# Homework\n",
    "- 1\n",
    "![](../Photo/42.png)"
   ]
  },
  {
   "cell_type": "code",
   "execution_count": 17,
   "metadata": {
    "collapsed": false
   },
   "outputs": [
    {
     "name": "stdout",
     "output_type": "stream",
     "text": [
      "输入方程的三个系数a，b，c：1,2,3\n",
      "该方程没有根\n"
     ]
    }
   ],
   "source": [
    "a, b, c = eval(input('输入方程的三个系数a，b，c：'))\n",
    "delta = b * b - 4 * a * c\n",
    "if delta > 0:\n",
    "    r1 = (-b + (b * b - 4 * a * c) ** 0.5) / (2 * a)\n",
    "    r2 = (-b - (b * b - 4 * a * c) ** 0.5) / (2 * a)\n",
    "    print('该方程的两个根分别为 x1 = ' + str(r1) + ' x2 = '+ str(r2))\n",
    "elif delta == 0:\n",
    "    r1 = (-b + (b * b - 4 * a * c) ** 0.5) / (2 * a)\n",
    "    print('该方程有一个根为 x1 = ' + str(r1 ))\n",
    "else:\n",
    "    print('该方程没有根')\n",
    "    "
   ]
  },
  {
   "cell_type": "markdown",
   "metadata": {},
   "source": [
    "- 2\n",
    "![](../Photo/43.png)"
   ]
  },
  {
   "cell_type": "code",
   "execution_count": 19,
   "metadata": {
    "collapsed": false
   },
   "outputs": [
    {
     "name": "stdout",
     "output_type": "stream",
     "text": [
      "输入第一个100以下的整数：14\n",
      "输入第二个100以下的整数：20\n",
      "计算 14 + 20 = ? \n",
      " 34\n",
      "结果为真\n"
     ]
    }
   ],
   "source": [
    "number1 = eval(input('输入第一个100以下的整数：'))\n",
    "number2 = eval(input('输入第二个100以下的整数：'))\n",
    "answer = number1 + number2\n",
    "sums = eval(input('计算 %d + %d = ? \\n ' %(number1, number2)))\n",
    "if sums == answer:\n",
    "    print('结果为真')\n",
    "else:\n",
    "    print('结果为假')"
   ]
  },
  {
   "cell_type": "markdown",
   "metadata": {},
   "source": [
    "- 3\n",
    "![](../Photo/44.png)"
   ]
  },
  {
   "cell_type": "code",
   "execution_count": 28,
   "metadata": {
    "collapsed": false
   },
   "outputs": [
    {
     "name": "stdout",
     "output_type": "stream",
     "text": [
      "输入今天是一周内哪一天（范围为0到6的整数）：0\n",
      "输入间隔的天数：31\n",
      "今天是星期日,经过31天后， 是星期三\n"
     ]
    }
   ],
   "source": [
    "dayToday = eval(input('输入今天是一周内哪一天（范围为0到6的整数）：'))\n",
    "dayNumbers = eval(input('输入间隔的天数：'))\n",
    "dayFuture = (dayToday + dayNumbers) % 7 \n",
    "dayList = ['星期日', '星期一', '星期二', '星期三', '星期四', '星期五', '星期六']\n",
    "print('今天是' + dayList[dayToday] + ',' + '经过%d天后，'%dayNumbers, '是' + dayList[dayFuture])"
   ]
  },
  {
   "cell_type": "markdown",
   "metadata": {},
   "source": [
    "- 4\n",
    "![](../Photo/45.png)"
   ]
  },
  {
   "cell_type": "code",
   "execution_count": 47,
   "metadata": {
    "collapsed": false
   },
   "outputs": [
    {
     "name": "stdout",
     "output_type": "stream",
     "text": [
      "输入第一个整数：12\n",
      "输入第二个整数：1\n",
      "输入第三个整数：67\n",
      "输入的三个整数分别为： 12 1 67\n",
      "排序后之后的结果为： 1 12 67\n"
     ]
    }
   ],
   "source": [
    "number1 = eval(input('输入第一个整数：'))\n",
    "number2 = eval(input('输入第二个整数：'))\n",
    "number3 = eval(input('输入第三个整数：'))\n",
    "print('输入的三个整数分别为：' ,number1, number2, number3)\n",
    "numList = [number1, number2, number3]\n",
    "maxNum = max(number1, number2, number3)\n",
    "minNum = min(number1, number2, number3)\n",
    "midNum = number1\n",
    "for i in range(0, 3):\n",
    "    if numList[i] != maxNum and numList[i] != minNum:\n",
    "        midNum = numList[i]\n",
    "print('排序后之后的结果为：', minNum, midNum, maxNum)"
   ]
  },
  {
   "cell_type": "markdown",
   "metadata": {},
   "source": [
    "# - 5\n",
    "![](../Photo/46.png)"
   ]
  },
  {
   "cell_type": "code",
   "execution_count": 51,
   "metadata": {
    "collapsed": false
   },
   "outputs": [
    {
     "name": "stdout",
     "output_type": "stream",
     "text": [
      "输入第一种大米的重量和价格：50,24.59\n",
      "输入第二种大米的重量和价格：25,11.99\n",
      "第二种大米的价格更好\n"
     ]
    }
   ],
   "source": [
    "x1, y1 = eval(input('输入第一种大米的重量和价格：'))\n",
    "x2, y2 = eval(input('输入第二种大米的重量和价格：'))\n",
    "if y1 / x1 < y2 / x2:\n",
    "    print('第一种大米的价格更好')\n",
    "elif y1 / x1 == y2 / x2:\n",
    "    print('两种大米的价格一样')\n",
    "else:\n",
    "    print('第二种大米的价格更好')"
   ]
  },
  {
   "cell_type": "markdown",
   "metadata": {},
   "source": [
    "- 6\n",
    "![](../Photo/47.png)"
   ]
  },
  {
   "cell_type": "code",
   "execution_count": 56,
   "metadata": {
    "collapsed": false
   },
   "outputs": [
    {
     "name": "stdout",
     "output_type": "stream",
     "text": [
      "输入月份：2\n",
      "输入年份：2000\n",
      "2000年2月的天数为 29天\n"
     ]
    }
   ],
   "source": [
    "months = eval(input('输入月份：'))\n",
    "year = eval(input('输入年份：'))\n",
    "list1 = [1, 3, 5, 7, 8, 10, 12]\n",
    "runNian = ((year % 4 ==0) and (year % 100 !=0)) or (year % 400 ==0)\n",
    "if months in list1:\n",
    "    dayMonth = 31\n",
    "elif runNian and (months == 2):\n",
    "    dayMonth = 29\n",
    "elif (not runNian) and (months == 2):\n",
    "    dayMonth = 28\n",
    "else:\n",
    "    dayMonth = 30\n",
    "print('%d年%d月的天数为 %d天' %(year, months, dayMonth))"
   ]
  },
  {
   "cell_type": "markdown",
   "metadata": {},
   "source": [
    "- 7\n",
    "![](../Photo/48.png)"
   ]
  },
  {
   "cell_type": "code",
   "execution_count": 59,
   "metadata": {
    "collapsed": false
   },
   "outputs": [
    {
     "name": "stdout",
     "output_type": "stream",
     "text": [
      "输入猜测值，0代表反面，1代表正面：1\n",
      "您猜错了，正确答案是 反面\n"
     ]
    }
   ],
   "source": [
    "import random\n",
    "yingbi = random.randint(0, 1)\n",
    "guess = eval(input('输入猜测值，0代表反面，1代表正面：'))\n",
    "ybList = ['反面', '正面']\n",
    "if yingbi == guess:\n",
    "    print('您猜对了，硬币是', ybList[guess])\n",
    "else:\n",
    "    print('您猜错了，正确答案是', ybList[yingbi])"
   ]
  },
  {
   "cell_type": "markdown",
   "metadata": {},
   "source": [
    "- 8\n",
    "![](../Photo/49.png)"
   ]
  },
  {
   "cell_type": "code",
   "execution_count": 66,
   "metadata": {
    "collapsed": false
   },
   "outputs": [
    {
     "name": "stdout",
     "output_type": "stream",
     "text": [
      "输入猜测值，0代表剪刀，1代表石头，2代表布：0\n",
      "程序为石头, 您出的剪刀,结果您输了\n"
     ]
    }
   ],
   "source": [
    "import random\n",
    "robot = random.randint(0, 2)\n",
    "guest = eval(input('输入猜测值，0代表剪刀，1代表石头，2代表布：'))\n",
    "roList = ['剪刀', '石头', '布']\n",
    "if robot == guest:\n",
    "    print('程序为' +  roList[robot] + ', 您出的' + roList[guest] + ',结果为平局')\n",
    "elif (robot == 0 and guest == 1) or (robot == 1 and guest == 2) or (robot == 2 and guest == 0):\n",
    "    print('程序为' +  roList[robot] + ', 您出的' + roList[guest] + ',结果您赢了')\n",
    "else:\n",
    "    print('程序为' +  roList[robot] + ', 您出的' + roList[guest] + ',结果您输了')"
   ]
  },
  {
   "cell_type": "markdown",
   "metadata": {},
   "source": [
    "- 9\n",
    "![](../Photo/50.png)"
   ]
  },
  {
   "cell_type": "code",
   "execution_count": 81,
   "metadata": {
    "collapsed": false
   },
   "outputs": [
    {
     "name": "stdout",
     "output_type": "stream",
     "text": [
      "输入年份：2013\n",
      "输入月份：1\n",
      "输入当前月份的某天：25\n",
      "Day of the week is 星期五\n"
     ]
    }
   ],
   "source": [
    "year = eval(input('输入年份：'))\n",
    "months = eval(input('输入月份：'))\n",
    "days = eval(input('输入当前月份的某天：'))\n",
    "hdayDict = {0:'星期六',1:'星期日', 2: '星期一', 3: '星期二', 4: '星期三', 5: '星期四', 6: '星期五'}\n",
    "monDict = {1: '13', 2: '14', 3: '3', 4: '4', 5: '5', 6: '6', 7: '7', 8: '8', 9: '9', 10: '10', \\\n",
    "             11: '11', 12: '12'}\n",
    "if months == 1 or months == 2:\n",
    "    year = year - 1 \n",
    "shijishu = year // 100\n",
    "shijiyear = year % 100\n",
    "h = (days + (26 * (eval(monDict[months]) + 1)) // 10 + shijiyear + shijiyear // 4 + shijishu // 4 + 5 * shijishu) % 7\n",
    "print('Day of the week is ' + hdayDict[h])\n"
   ]
  },
  {
   "cell_type": "markdown",
   "metadata": {},
   "source": [
    "- 10\n",
    "![](../Photo/51.png)"
   ]
  },
  {
   "cell_type": "code",
   "execution_count": 67,
   "metadata": {
    "collapsed": false
   },
   "outputs": [
    {
     "name": "stdout",
     "output_type": "stream",
     "text": [
      "The card you picked is the King of Diamond\n"
     ]
    }
   ],
   "source": [
    "import random\n",
    "numberDict = {1: 'Ace', 2: '2', 3: '3', 4: '4', 5: '5', 6: '6', 7: '7', 8: '8', 9: '9', 10: '10', \\\n",
    "             11: 'Jack', 12: 'Queen', 13: 'King'}\n",
    "colorDict = {1:'Spade', 2: 'Heart', 3: 'Diamond', 4: 'Club'}\n",
    "randNum = random.randint(1, 13)\n",
    "randCol = random.randint(1, 4)\n",
    "print('The card you picked is the ' + numberDict[randNum] + ' of ' + colorDict[randCol])"
   ]
  },
  {
   "cell_type": "markdown",
   "metadata": {},
   "source": [
    "- 11\n",
    "![](../Photo/52.png)"
   ]
  },
  {
   "cell_type": "code",
   "execution_count": 69,
   "metadata": {
    "collapsed": false
   },
   "outputs": [
    {
     "name": "stdout",
     "output_type": "stream",
     "text": [
      "输入一个三位整数：121\n",
      "数字121是一个回文数\n"
     ]
    }
   ],
   "source": [
    "numInput = input('输入一个三位整数：')\n",
    "invesNum = numInput[2] + numInput[1] + numInput[0] \n",
    "if eval(numInput) == eval(invesNum):\n",
    "    print('数字' + numInput + '是一个回文数')\n",
    "else:\n",
    "    print('数字' + numInput + '不是一个回文数')"
   ]
  },
  {
   "cell_type": "markdown",
   "metadata": {},
   "source": [
    "- 12\n",
    "![](../Photo/53.png)"
   ]
  },
  {
   "cell_type": "code",
   "execution_count": 72,
   "metadata": {
    "collapsed": false
   },
   "outputs": [
    {
     "name": "stdout",
     "output_type": "stream",
     "text": [
      "输入三角形的第一条边a：6\n",
      "输入三角形的第二条边b：8\n",
      "输入三角形的第三条边c：10\n",
      "边长为6,8,10的三角形周长为24\n"
     ]
    }
   ],
   "source": [
    "a = eval(input('输入三角形的第一条边a：'))\n",
    "b = eval(input('输入三角形的第二条边b：'))\n",
    "c = eval(input('输入三角形的第三条边c：'))\n",
    "\n",
    "if (a + b > c) and (a + c > b) and (b + c > a):\n",
    "    print('边长为%d,%d,%d的三角形周长为%d' %(a, b, c, a + b + c))\n",
    "else:\n",
    "    print('这三条边不能组成三角形，属于非法输入')"
   ]
  },
  {
   "cell_type": "code",
   "execution_count": null,
   "metadata": {
    "collapsed": true
   },
   "outputs": [],
   "source": []
  }
 ],
 "metadata": {
  "kernelspec": {
   "display_name": "Python 3",
   "language": "python",
   "name": "python3"
  },
  "language_info": {
   "codemirror_mode": {
    "name": "ipython",
    "version": 3
   },
   "file_extension": ".py",
   "mimetype": "text/x-python",
   "name": "python",
   "nbconvert_exporter": "python",
   "pygments_lexer": "ipython3",
   "version": "3.6.0"
  }
 },
 "nbformat": 4,
 "nbformat_minor": 2
}
